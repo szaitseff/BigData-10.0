{
 "cells": [
  {
   "cell_type": "markdown",
   "metadata": {},
   "source": [
    "<img width=\"50px\" align=\"left\" style=\"margin-right:20px\" src=\"./extra/images/npl_logo.png\"> <b>New Professions Lab</b> <br /> Специалист по большим данным"
   ]
  },
  {
   "cell_type": "markdown",
   "metadata": {},
   "source": [
    "# Проект 2"
   ]
  },
  {
   "cell_type": "markdown",
   "metadata": {},
   "source": [
    "# Построить content-based рекомендательную систему товаров интернет-магазина ozon.ru"
   ]
  },
  {
   "cell_type": "markdown",
   "metadata": {},
   "source": [
    "<img width=\"200px\" align=\"left\" src=\"./extra/images/ozon.png\">"
   ]
  },
  {
   "cell_type": "markdown",
   "metadata": {},
   "source": [
    "<a href=\"https://github.com/newprolab/content_bigdata9\"><img align=\"left\" src=\"./extra/images/npl7.svg\"></a>"
   ]
  },
  {
   "cell_type": "markdown",
   "metadata": {},
   "source": [
    "### Задача"
   ]
  },
  {
   "cell_type": "markdown",
   "metadata": {},
   "source": [
    "Нужно построить рекомендательный алгоритм наилучшей предсказательной точности по метрике NDCG@100.\n",
    "\n",
    "<!-- Подробнее о метрике: https://www.kaggle.com/wiki/NormalizedDiscountedCumulativeGain -->\n",
    "\n",
    "Можно прочесть качественный пост на FastML: http://fastml.com/evaluating-recommender-systems/\n",
    "\n",
    "Или на русском https://habr.com/company/econtenta/blog/303458/\n",
    "\n",
    "Как и в первом проекте, мы рекомендуем сделать всё решение в этом ноутбуке. Но, в отличие от первого проекта, где всё-таки были очерчены примерные способы решения, в данном случае вам предоставляется полная свобода для трактования, исследования и выбора подходов к задаче. Более того, нет гарантий, что задача вообще решаема с необходимой точностью.\n",
    "\n",
    "⏰ **Дедлайн: Воскресенье, 23 июня 2019, 23:59 по Москве**"
   ]
  },
  {
   "cell_type": "markdown",
   "metadata": {},
   "source": [
    "### Обработка данных на вход"
   ]
  },
  {
   "cell_type": "markdown",
   "metadata": {},
   "source": [
    "Для выполнения работы вам следует взять данные из HDFS:"
   ]
  },
  {
   "cell_type": "markdown",
   "metadata": {},
   "source": [
    "```bash\n",
    "$ hadoop fs -ls /labs/project02 \n",
    "Found 6 items\n",
    "-rw-r--r--   3 hdfs hdfs   13550896 2017-04-22 15:04 /labs/project02/catalog_path\n",
    "-rw-r--r--   3 hdfs hdfs  453269519 2017-04-22 15:04 /labs/project02/catalogs\n",
    "-rw-r--r--   3 hdfs hdfs 8726734647 2017-04-22 15:05 /labs/project02/item_details_full\n",
    "-rw-r--r--   3 hdfs hdfs    2240879 2017-04-22 15:05 /labs/project02/ozon_test.txt\n",
    "-rw-r--r--   3 hdfs hdfs   19097164 2017-04-22 15:05 /labs/project02/ozon_train.txt\n",
    "-rw-r--r--   3 hdfs hdfs   12906349 2017-04-22 15:05 /labs/project02/ratings\n",
    "```"
   ]
  },
  {
   "cell_type": "markdown",
   "metadata": {},
   "source": [
    "Итак, давайте разберёмся, какие входные данные мы имеем:\n",
    "\n",
    "#### `ozon_train.txt`\n",
    "\n",
    "Обучающая выборка строчки в json, где для товара `item` мы предоставляем наиболее популярные рекомендации в `true_recoms` (здесь словарь из id рекомендуемого товара и веса — чем больше, тем лучше). Веса означают клики. Текущая рекомендательная система Ozon.ru — это смесь content-based и коллаборативной фильтрации.\n",
    "\n",
    "Пример:\n",
    "\n",
    "```\n",
    "{\"item\":\"24798277\",\"true_recoms\":{\"24798314\":1,\"24798279\":2,\"24798276\":4,\"24798277\":1,\"24798280\":2}}\n",
    "```\n",
    "\n",
    "❗️ В файле есть строчка с 40 000 рекомендаций — это мусор.\n",
    "\n",
    "#### `ozon_test.txt`\n",
    "\n",
    "Тестовая выборка.\n",
    "\n",
    "Пример:\n",
    "\n",
    "```\n",
    "{\"item\": \"28759795\",\"recoms\": null}\n",
    "```\n",
    "\n",
    "#### `item_details_full`\n",
    "\n",
    "Атрибуты товаров.\n",
    "\n",
    "Пример:\n",
    "\n",
    "```\n",
    "{\"id\":\"4381194\",\"name\":\"Графиня де Монсоро - В двух томах - Номерованный экземпляр № 84 (подарочное издание)\",\"annotation\":\"Настоящее издание отпечатано в количестве тысячи пятисот экземпляров, сто из которых изготовлены в переплетах из черной кожи с золотыми обрезами и пронумерованы.  Номер настоящего экземпляра 84.<br>\\r\\n\\\"Графиня де Монсоро\\\" (1846) - одно из самых значительных произведений Александра Дюма. В этом увлекательном авантюрно-историческом романе писатель с замечательным мастерством воскрешает события второй половины XVI века - эпохи религиозных войн и правления Генриха III, последнего короля династии Валуа. История трагической любви благородного графа де Бюсси и прекрасной Дианы де Монсоро развертывается на фоне придворных интриг, политических заговоров и религиозных раздоров. <br>\\r\\nВ настоящем издании впервые публикуются все 245 иллюстраций выдающегося французского художника Мориса Лелуара, выполненные им для парижского издания 1903 года. Книга дополнена очерком А. И. Куприна \\\"Дюма-отец\\\" и обстоятельными комментариями.\",\"parent_id\":\"18255189\"}\n",
    "```\n",
    "\n",
    "❗️Под `parent_id` объединяются модификации одного товара (например, разные айфоны).\n",
    "\n",
    "\n",
    "#### `catalogs`\n",
    "\n",
    "В каких каталогах лежит товар (может быть несколько записей). \n",
    "\n",
    "Пример:\n",
    "\n",
    "```\n",
    "{\"itemid\":\"29040016\",\"catalogid\":\"1179259\"}\n",
    "```\n",
    "\n",
    "#### `catalog_path`\n",
    "\n",
    "Пути для каталогов нижнего уровня (в которых лежат товары) в дереве каталогов. Для каждого каталога отдаётся полный путь до корня. \n",
    "\n",
    "Пример:\n",
    "\n",
    "```\n",
    "{\"catalogid\":1125630,\"catalogpath\":[{\"1125630\":\"Изысканные напитки. Сигары\"},{\"1125623\":\"Книга - лучший подарок!\"},{\"1112250\":\"Архив раздела (Нехудож.лит-ра)\"},{\"1095865\":\"Нехудожественная литература\"}]}\n",
    "```\n",
    "\n",
    "#### `ratings`\n",
    "\n",
    "Средний рейтинг `itemid` (звёздочки). \n",
    "\n",
    "Пример:\n",
    "\n",
    "```\n",
    "{“itemid”: 2658646, “rating”:4.0}\n",
    "```"
   ]
  },
  {
   "cell_type": "markdown",
   "metadata": {},
   "source": [
    "### Обработка данных на выход\n",
    "\n",
    "Выходной файл должен иметь следующий формат (пример для одной строчки). Вес товара тем выше, чем выше его близость:\n",
    "\n",
    "```\n",
    "{\"item\": \"28759795\", \"recoms\": {\"28759801\": 1, \"28759817\": 2, \"28759803\": 13}}\n",
    "```\n",
    "\n",
    "Вы можете использовать любые алгоритмы и их смеси для предсказания рейтингов. Мы будем оценивать точность работы вашего алгоритма, рассчитывая средний NDCG@100 по всем товарам. Это означает, что для каждого `item` в тестовой выборке вы рекомендуете 100 товаров.\n",
    "\n",
    "Чекер выглядит следующим образом:"
   ]
  },
  {
   "cell_type": "markdown",
   "metadata": {},
   "source": [
    "```python\n",
    "lines_number_ok = False\n",
    "score = 0.0\n",
    "\n",
    "file_exists = False\n",
    "test_passed = False\n",
    "true_recs = {}\n",
    "lines_number = 0\n",
    "lines_number_hidden = 0\n",
    "\n",
    "\n",
    "try:\n",
    "    if not cli.startcheck():\n",
    "        exit(-1)\n",
    "\n",
    "    file_exists = cli.checkfileexists(filename)\n",
    "\n",
    "    if file_exists:\n",
    "        with open(cli.getans('test_file_path')) as f:\n",
    "            for line in f:\n",
    "                data = json.loads(line)\n",
    "                true_recs[data['item']] = data['true_recoms']\n",
    "        lines_number_hidden = len(true_recs.keys())\n",
    "        \n",
    "        ndcg_sum = 0\n",
    "        with open(cli.getfilepath(filename)) as f:\n",
    "            for line in f:\n",
    "                lines_number += 1\n",
    "        \n",
    "        if lines_number == len(true_recs.keys()):\n",
    "            lines_number_ok = True\n",
    "            with open(cli.getfilepath(filename)) as f:\n",
    "                for line in f:                     \n",
    "                    data = json.loads(line)     \n",
    "                    trs = true_recs[data['item']]\n",
    "                    tmrs = data['recoms']    \n",
    "\n",
    "                    sorted_trs = sorted(trs.items(), key = lambda x: float(x[1]), reverse = True)\n",
    "                    sorted_tmrs = sorted(tmrs.items(), key = lambda x: float(x[1]), reverse = True)\n",
    "                    dcg = 0\n",
    "                    idcg = 0\n",
    "\n",
    "                    for i in range(len(trs)):\n",
    "                        delta = sorted_trs[i][1]\n",
    "                        if i + 1 != 1:\n",
    "                            delta = delta / float(math.log(i + 1, 2))\n",
    "                        idcg += delta\n",
    "\n",
    "                    for i in range(len(tmrs)):\n",
    "                        if sorted_tmrs[i][0] in trs:                    \n",
    "                            delta = trs[sorted_tmrs[i][0]]\n",
    "                            if i + 1 != 1:\n",
    "                                delta = delta / float(math.log(i + 1, 2))\n",
    "                            dcg += delta\n",
    "\n",
    "                    ndcg_sum += dcg / idcg\n",
    "            score = ndcg_sum / lines_number\n",
    "\n",
    "            if score > 0.1:\n",
    "                test_passed = True\n",
    "\n",
    "```"
   ]
  },
  {
   "cell_type": "markdown",
   "metadata": {},
   "source": [
    "Ваши результаты будут заноситься на обновляемую доску лидеров на [странице Проекта 2](http://lk.newprolab.com/lab/project02)."
   ]
  },
  {
   "cell_type": "markdown",
   "metadata": {},
   "source": [
    "### Проверка"
   ]
  },
  {
   "cell_type": "markdown",
   "metadata": {},
   "source": [
    "Для автоматической проверки необходимо сохранить заполненный предсказанными вами рейтингами файл `ozon_test.txt` в вашей домашней директории под именем `project02.txt`.\n",
    "\n",
    "**ВАЖНО: Для точной проверки сохраняйте порядок и количество строк исходного файла.**\n",
    "\n",
    "<p style=\"color:DarkRed\"><b>✅ Проект будет засчитан, если вы преодолеете порог 0.1.</b></p>"
   ]
  },
  {
   "cell_type": "markdown",
   "metadata": {},
   "source": [
    "### Подсказки\n",
    "\n",
    "1. Обратите внимание на размер датасета.\n",
    "\n",
    "2. Не забывайте мониторить свои ресурсы: если выполняете long-running jobs, сохраняйте результаты в конце и освобождайте память. Помните, что простаивающие процессы, держащие в памяти гигабайты данных, могут отстреливаться.\n",
    "\n",
    "3. “Когда в руках молоток, все начинает напоминать гвоздь”. Думайте outside of the box."
   ]
  },
  {
   "cell_type": "markdown",
   "metadata": {},
   "source": [
    "\n",
    "<img width=\"60px\" align=\"left\" style=\"margin-right:20px\" src=\"./extra/images/npl_logo.png\"> <br /><b>Желаем вам удачи и успехов!</b>"
   ]
  },
  {
   "cell_type": "markdown",
   "metadata": {
    "collapsed": true
   },
   "source": [
    "## Ваше решение здесь"
   ]
  },
  {
   "cell_type": "code",
   "execution_count": 44,
   "metadata": {},
   "outputs": [
    {
     "name": "stdout",
     "output_type": "stream",
     "text": [
      "Welcome to\n",
      "      ____              __\n",
      "     / __/__  ___ _____/ /__\n",
      "    _\\ \\/ _ \\/ _ `/ __/  '_/\n",
      "   /__ / .__/\\_,_/_/ /_/\\_\\   version 2.4.3\n",
      "      /_/\n",
      "\n",
      "Using Python version 3.6.5 (default, Apr 29 2018 16:14:56)\n",
      "SparkSession available as 'spark'.\n"
     ]
    }
   ],
   "source": [
    "# Запуск pyspark\n",
    "import os\n",
    "import sys\n",
    "os.environ[\"PYSPARK_SUBMIT_ARGS\"]='pyspark-shell'\n",
    "os.environ[\"PYSPARK_PYTHON\"]='/opt/anaconda/envs/bd9/bin/python'\n",
    "os.environ[\"SPARK_HOME\"]='/usr/hdp/current/spark2-client'\n",
    "\n",
    "spark_home = os.environ.get('SPARK_HOME', None)\n",
    "if not spark_home:\n",
    "    raise ValueError('SPARK_HOME environment variable is not set')\n",
    "sys.path.insert(0, os.path.join(spark_home, 'python'))\n",
    "sys.path.insert(0, os.path.join(spark_home, 'python/lib/py4j-0.10.7-src.zip'))\n",
    "exec(open(os.path.join(spark_home, 'python/pyspark/shell.py')).read())"
   ]
  },
  {
   "cell_type": "code",
   "execution_count": 45,
   "metadata": {},
   "outputs": [],
   "source": [
    "sc.setCheckpointDir('checkpoint/')"
   ]
  },
  {
   "cell_type": "code",
   "execution_count": 46,
   "metadata": {},
   "outputs": [],
   "source": [
    "from pyspark.sql.functions import col, explode, size, array, sort_array, collect_list, lit, desc, \\\n",
    "                                    udf, map_keys, map_values, concat, concat_ws\n",
    "from pyspark.sql.types import *"
   ]
  },
  {
   "cell_type": "code",
   "execution_count": 47,
   "metadata": {},
   "outputs": [],
   "source": [
    "import pandas as pd\n",
    "from pandas.io.json import json_normalize\n",
    "import json\n",
    "import heapq"
   ]
  },
  {
   "cell_type": "markdown",
   "metadata": {},
   "source": [
    "# EDA"
   ]
  },
  {
   "cell_type": "markdown",
   "metadata": {},
   "source": [
    "### *Load and review file ozon_train.txt*"
   ]
  },
  {
   "cell_type": "code",
   "execution_count": 48,
   "metadata": {},
   "outputs": [
    {
     "name": "stdout",
     "output_type": "stream",
     "text": [
      "+--------+------------------------------------------------------------------------------------------------------+\n",
      "|item    |true_recoms                                                                                           |\n",
      "+--------+------------------------------------------------------------------------------------------------------+\n",
      "|31471303|[31471373 -> 1, 31471307 -> 3, 31471342 -> 1]                                                         |\n",
      "|31489016|[31760003 -> 1, 31418187 -> 1, 31418153 -> 1, 31740094 -> 1, 31489223 -> 1, 31489022 -> 1]            |\n",
      "|5629613 |[19063915 -> 6, 5821229 -> 1, 19063895 -> 5, 19063889 -> 14, 5629614 -> 6, 5629622 -> 2, 7279030 -> 1]|\n",
      "|24829740|[32610140 -> 1, 24829738 -> 1, 24702299 -> 1]                                                         |\n",
      "|29185962|[1493930 -> 1, 3711112 -> 1, 33395696 -> 1]                                                           |\n",
      "+--------+------------------------------------------------------------------------------------------------------+\n",
      "only showing top 5 rows\n",
      "\n",
      "CPU times: user 0 ns, sys: 0 ns, total: 0 ns\n",
      "Wall time: 5.89 s\n"
     ]
    }
   ],
   "source": [
    "schema = StructType(fields=[StructField(\"item\", StringType()),\n",
    "                            StructField(\"true_recoms\", MapType(StringType(), IntegerType()))])\n",
    "\n",
    "train_data = spark.read.json(\"/labs/project02/ozon_train.txt\", schema=schema)\n",
    "%time train_data.show(5, truncate=False)"
   ]
  },
  {
   "cell_type": "code",
   "execution_count": 49,
   "metadata": {},
   "outputs": [
    {
     "name": "stdout",
     "output_type": "stream",
     "text": [
      "+----------+--------------------+-----------+\n",
      "|train_item|         true_recoms|size_recoms|\n",
      "+----------+--------------------+-----------+\n",
      "|  31471303|[31471373 -> 1, 3...|          3|\n",
      "|  31489016|[31760003 -> 1, 3...|          6|\n",
      "|   5629613|[19063915 -> 6, 5...|          7|\n",
      "|  24829740|[32610140 -> 1, 2...|          3|\n",
      "|  29185962|[1493930 -> 1, 37...|          3|\n",
      "+----------+--------------------+-----------+\n",
      "only showing top 5 rows\n",
      "\n",
      "CPU times: user 0 ns, sys: 0 ns, total: 0 ns\n",
      "Wall time: 202 ms\n"
     ]
    }
   ],
   "source": [
    "# Add column with number of true_recoms\n",
    "train_data = train_data.withColumn('size_recoms', size('true_recoms')) \\\n",
    "                       .withColumnRenamed('item', 'train_item')\n",
    "%time train_data.show(5)"
   ]
  },
  {
   "cell_type": "code",
   "execution_count": 5,
   "metadata": {},
   "outputs": [
    {
     "name": "stdout",
     "output_type": "stream",
     "text": [
      "+-------+--------------------+------------------+\n",
      "|summary|          train_item|       size_recoms|\n",
      "+-------+--------------------+------------------+\n",
      "|  count|              142438|            142438|\n",
      "|   mean|2.2748455783286646E7| 6.450610090004072|\n",
      "| stddev|1.0655741450096913E7|119.61303591982087|\n",
      "|    min|                    |                 3|\n",
      "|    25%|         1.7953518E7|                 3|\n",
      "|    50%|         2.7582691E7|                 5|\n",
      "|    75%|          3.159911E7|                 7|\n",
      "|    max|              997604|             45111|\n",
      "+-------+--------------------+------------------+\n",
      "\n",
      "CPU times: user 0 ns, sys: 4 ms, total: 4 ms\n",
      "Wall time: 11.2 s\n"
     ]
    }
   ],
   "source": [
    "%time train_data.summary().show()"
   ]
  },
  {
   "cell_type": "markdown",
   "metadata": {},
   "source": [
    "#### удалим \"мусорную\" строку"
   ]
  },
  {
   "cell_type": "code",
   "execution_count": 7,
   "metadata": {
    "scrolled": true
   },
   "outputs": [
    {
     "name": "stdout",
     "output_type": "stream",
     "text": [
      "+----------+--------------------+-----------+\n",
      "|train_item|         true_recoms|size_recoms|\n",
      "+----------+--------------------+-----------+\n",
      "|          |[33192962 -> 1, 2...|      45111|\n",
      "+----------+--------------------+-----------+\n",
      "\n",
      "CPU times: user 0 ns, sys: 4 ms, total: 4 ms\n",
      "Wall time: 8.68 s\n"
     ]
    }
   ],
   "source": [
    "# найдем мусорную строку с >40 тыс рекомендаций\n",
    "%time train_data.filter(size(\"true_recoms\")>40000).show()"
   ]
  },
  {
   "cell_type": "code",
   "execution_count": 50,
   "metadata": {},
   "outputs": [
    {
     "name": "stdout",
     "output_type": "stream",
     "text": [
      "+-------+--------------------+-----------------+\n",
      "|summary|          train_item|      size_recoms|\n",
      "+-------+--------------------+-----------------+\n",
      "|  count|              142437|           142437|\n",
      "|   mean|2.2748455783286646E7|6.133946937944494|\n",
      "| stddev|1.0655741450096913E7|4.922344408445034|\n",
      "|    min|              100304|                3|\n",
      "|    25%|         1.7953518E7|                3|\n",
      "|    50%|         2.7582691E7|                5|\n",
      "|    75%|          3.159911E7|                7|\n",
      "|    max|              997604|              158|\n",
      "+-------+--------------------+-----------------+\n",
      "\n",
      "CPU times: user 4 ms, sys: 0 ns, total: 4 ms\n",
      "Wall time: 10.2 s\n"
     ]
    }
   ],
   "source": [
    "# удалим эту мусорную строку без item с 45 тыс рекомендаций\n",
    "train_data = train_data.filter(size(\"true_recoms\")<40000)\n",
    "%time train_data.summary().show()"
   ]
  },
  {
   "cell_type": "markdown",
   "metadata": {},
   "source": [
    "### *Load and review file ozon_test.txt*"
   ]
  },
  {
   "cell_type": "code",
   "execution_count": 51,
   "metadata": {},
   "outputs": [
    {
     "name": "stdout",
     "output_type": "stream",
     "text": [
      "+--------+------+\n",
      "|    item|recoms|\n",
      "+--------+------+\n",
      "|28759795|  null|\n",
      "|32712593|  null|\n",
      "|29616882|  null|\n",
      "| 6242189|  null|\n",
      "|32663967|  null|\n",
      "+--------+------+\n",
      "only showing top 5 rows\n",
      "\n",
      "CPU times: user 0 ns, sys: 0 ns, total: 0 ns\n",
      "Wall time: 214 ms\n"
     ]
    }
   ],
   "source": [
    "schema = StructType(fields=[StructField(\"item\", StringType()),\n",
    "                            StructField(\"recoms\", StringType())])\n",
    "\n",
    "test_data = spark.read.json(\"/labs/project02/ozon_test.txt\", schema=schema)\n",
    "%time test_data.show(5)"
   ]
  },
  {
   "cell_type": "code",
   "execution_count": 14,
   "metadata": {},
   "outputs": [
    {
     "name": "stdout",
     "output_type": "stream",
     "text": [
      "CPU times: user 0 ns, sys: 0 ns, total: 0 ns\n",
      "Wall time: 745 ms\n"
     ]
    },
    {
     "data": {
      "text/plain": [
       "60956"
      ]
     },
     "execution_count": 14,
     "metadata": {},
     "output_type": "execute_result"
    }
   ],
   "source": [
    "# How many items we need to make prediction for?\n",
    "%time test_data.count()"
   ]
  },
  {
   "cell_type": "markdown",
   "metadata": {},
   "source": [
    "### *Load and review file with catalogs*"
   ]
  },
  {
   "cell_type": "code",
   "execution_count": 52,
   "metadata": {},
   "outputs": [
    {
     "name": "stdout",
     "output_type": "stream",
     "text": [
      "+--------+---------+\n",
      "|  itemid|catalogid|\n",
      "+--------+---------+\n",
      "|26881367|  1139010|\n",
      "|31587713|  1140991|\n",
      "|17425282|  1134295|\n",
      "| 6907117|  1138615|\n",
      "| 7868912|  1144454|\n",
      "+--------+---------+\n",
      "only showing top 5 rows\n",
      "\n",
      "CPU times: user 0 ns, sys: 0 ns, total: 0 ns\n",
      "Wall time: 115 ms\n"
     ]
    }
   ],
   "source": [
    "schema = StructType(fields=[StructField(\"itemid\", StringType()),\n",
    "                            StructField(\"catalogid\", StringType())])\n",
    "\n",
    "catalog_data = spark.read.json(\"/labs/project02/catalogs\", schema=schema)\n",
    "%time catalog_data.show(5)"
   ]
  },
  {
   "cell_type": "code",
   "execution_count": 16,
   "metadata": {},
   "outputs": [
    {
     "name": "stdout",
     "output_type": "stream",
     "text": [
      "CPU times: user 0 ns, sys: 0 ns, total: 0 ns\n",
      "Wall time: 10.4 s\n"
     ]
    },
    {
     "data": {
      "text/plain": [
       "10382286"
      ]
     },
     "execution_count": 16,
     "metadata": {},
     "output_type": "execute_result"
    }
   ],
   "source": [
    "# Number of items in catalog_data\n",
    "%time catalog_data.count()"
   ]
  },
  {
   "cell_type": "code",
   "execution_count": 13,
   "metadata": {},
   "outputs": [
    {
     "name": "stdout",
     "output_type": "stream",
     "text": [
      "CPU times: user 0 ns, sys: 0 ns, total: 0 ns\n",
      "Wall time: 13.9 s\n"
     ]
    },
    {
     "data": {
      "text/plain": [
       "6732538"
      ]
     },
     "execution_count": 13,
     "metadata": {},
     "output_type": "execute_result"
    }
   ],
   "source": [
    "# Number of distict itemid in catalog_data\n",
    "%time catalog_data.select('itemid').distinct().count()"
   ]
  },
  {
   "cell_type": "code",
   "execution_count": 14,
   "metadata": {},
   "outputs": [
    {
     "name": "stdout",
     "output_type": "stream",
     "text": [
      "CPU times: user 0 ns, sys: 0 ns, total: 0 ns\n",
      "Wall time: 5.62 s\n"
     ]
    },
    {
     "data": {
      "text/plain": [
       "4780"
      ]
     },
     "execution_count": 14,
     "metadata": {},
     "output_type": "execute_result"
    }
   ],
   "source": [
    "# Number of distinct catalogid in catalog_data\n",
    "%time catalog_data.select('catalogid').distinct().count()"
   ]
  },
  {
   "cell_type": "markdown",
   "metadata": {},
   "source": [
    "### *Load and review file with catalog_paths*"
   ]
  },
  {
   "cell_type": "code",
   "execution_count": 53,
   "metadata": {},
   "outputs": [
    {
     "name": "stdout",
     "output_type": "stream",
     "text": [
      "+---------+-----------------------------------------------------------------------------------------------------------------------------------------------------------------------------------------------------------------------+\n",
      "|catalogid|catalogpath                                                                                                                                                                                                            |\n",
      "+---------+-----------------------------------------------------------------------------------------------------------------------------------------------------------------------------------------------------------------------+\n",
      "|1125369  |[[1125369 -> Аксессуары], [1123855 -> Коты], [1123646 -> Я_Символ года 2011], [1110181 -> Я_ Новогодняя тематика], [1106018 -> ПОДАРКИ. СЕЗОННЫЕ ПРЕДЛОЖЕНИЯ], [1134031 -> ПОДАРКИ_СТАРЫЕ ВЕТКИ_НЕ АКТИВНЫ]]           |\n",
      "|1125370  |[[1125370 -> Магнитики], [1123855 -> Коты], [1123646 -> Я_Символ года 2011], [1110181 -> Я_ Новогодняя тематика], [1106018 -> ПОДАРКИ. СЕЗОННЫЕ ПРЕДЛОЖЕНИЯ], [1134031 -> ПОДАРКИ_СТАРЫЕ ВЕТКИ_НЕ АКТИВНЫ]]            |\n",
      "|1125372  |[[1125372 -> Подсвечники и копилки], [1123855 -> Коты], [1123646 -> Я_Символ года 2011], [1110181 -> Я_ Новогодняя тематика], [1106018 -> ПОДАРКИ. СЕЗОННЫЕ ПРЕДЛОЖЕНИЯ], [1134031 -> ПОДАРКИ_СТАРЫЕ ВЕТКИ_НЕ АКТИВНЫ]]|\n",
      "|1125373  |[[1125373 -> Коты-игрушки], [1123855 -> Коты], [1123646 -> Я_Символ года 2011], [1110181 -> Я_ Новогодняя тематика], [1106018 -> ПОДАРКИ. СЕЗОННЫЕ ПРЕДЛОЖЕНИЯ], [1134031 -> ПОДАРКИ_СТАРЫЕ ВЕТКИ_НЕ АКТИВНЫ]]         |\n",
      "|1125374  |[[1125374 -> Сувениры], [1123855 -> Коты], [1123646 -> Я_Символ года 2011], [1110181 -> Я_ Новогодняя тематика], [1106018 -> ПОДАРКИ. СЕЗОННЫЕ ПРЕДЛОЖЕНИЯ], [1134031 -> ПОДАРКИ_СТАРЫЕ ВЕТКИ_НЕ АКТИВНЫ]]             |\n",
      "+---------+-----------------------------------------------------------------------------------------------------------------------------------------------------------------------------------------------------------------------+\n",
      "only showing top 5 rows\n",
      "\n",
      "CPU times: user 0 ns, sys: 0 ns, total: 0 ns\n",
      "Wall time: 156 ms\n"
     ]
    }
   ],
   "source": [
    "schema = StructType(fields=[StructField(\"catalogid\", StringType()),\n",
    "                            StructField(\"catalogpath\", ArrayType(MapType(StringType(), StringType())))])\n",
    "\n",
    "path_data = spark.read.json(\"/labs/project02/catalog_path\", schema=schema)\n",
    "%time path_data.show(5, truncate=False)"
   ]
  },
  {
   "cell_type": "code",
   "execution_count": 17,
   "metadata": {},
   "outputs": [
    {
     "name": "stdout",
     "output_type": "stream",
     "text": [
      "CPU times: user 0 ns, sys: 0 ns, total: 0 ns\n",
      "Wall time: 2.48 s\n"
     ]
    },
    {
     "data": {
      "text/plain": [
       "54504"
      ]
     },
     "execution_count": 17,
     "metadata": {},
     "output_type": "execute_result"
    }
   ],
   "source": [
    "# Number of items in path_data\n",
    "%time path_data.count()"
   ]
  },
  {
   "cell_type": "code",
   "execution_count": 20,
   "metadata": {},
   "outputs": [
    {
     "name": "stdout",
     "output_type": "stream",
     "text": [
      "+-------+------------------+------------------+\n",
      "|summary|         catalogid|         path_size|\n",
      "+-------+------------------+------------------+\n",
      "|  count|             54504|             54504|\n",
      "|   mean|1102176.2992807867| 4.167125348598268|\n",
      "| stddev|172767.14832080383|1.3473399496432081|\n",
      "|    min|           1000000|                 1|\n",
      "|    25%|         1097883.0|                 3|\n",
      "|    50%|         1129049.0|                 4|\n",
      "|    75%|         1158422.0|                 5|\n",
      "|    max|              9997|                10|\n",
      "+-------+------------------+------------------+\n",
      "\n",
      "CPU times: user 4 ms, sys: 0 ns, total: 4 ms\n",
      "Wall time: 3.76 s\n"
     ]
    }
   ],
   "source": [
    "%time path_data.withColumn('path_size', size('catalogpath')).summary().show()"
   ]
  },
  {
   "cell_type": "code",
   "execution_count": 54,
   "metadata": {},
   "outputs": [
    {
     "name": "stdout",
     "output_type": "stream",
     "text": [
      "+---------+--------+--------+--------+--------------------------------------------------------------------+\n",
      "|catalogid|path1_id|path2_id|path3_id|path_txt                                                            |\n",
      "+---------+--------+--------+--------+--------------------------------------------------------------------+\n",
      "|1125369  |1123855 |1123646 |1110181 |Аксессуары Коты Я_Символ года 2011 Я_ Новогодняя тематика           |\n",
      "|1125370  |1123855 |1123646 |1110181 |Магнитики Коты Я_Символ года 2011 Я_ Новогодняя тематика            |\n",
      "|1125372  |1123855 |1123646 |1110181 |Подсвечники и копилки Коты Я_Символ года 2011 Я_ Новогодняя тематика|\n",
      "|1125373  |1123855 |1123646 |1110181 |Коты-игрушки Коты Я_Символ года 2011 Я_ Новогодняя тематика         |\n",
      "|1125374  |1123855 |1123646 |1110181 |Сувениры Коты Я_Символ года 2011 Я_ Новогодняя тематика             |\n",
      "+---------+--------+--------+--------+--------------------------------------------------------------------+\n",
      "only showing top 5 rows\n",
      "\n",
      "CPU times: user 0 ns, sys: 0 ns, total: 0 ns\n",
      "Wall time: 201 ms\n"
     ]
    }
   ],
   "source": [
    "# Extract path_id and text from path_data\n",
    "path = path_data.withColumn('path_item0', col('catalogpath').getItem(0)) \\\n",
    "               .withColumn('path_item1', col('catalogpath').getItem(1)) \\\n",
    "               .withColumn('path_item2', col('catalogpath').getItem(2)) \\\n",
    "               .withColumn('path_item3', col('catalogpath').getItem(3)) \\\n",
    "               .withColumn('path0_txt', map_values('path_item0').getItem(0)) \\\n",
    "               .withColumn('path1_id', map_keys('path_item1').getItem(0)) \\\n",
    "               .withColumn('path1_txt', map_values('path_item1').getItem(0)) \\\n",
    "               .withColumn('path2_id', map_keys('path_item2').getItem(0)) \\\n",
    "               .withColumn('path2_txt', map_values('path_item2').getItem(0)) \\\n",
    "               .withColumn('path3_id', map_keys('path_item3').getItem(0)) \\\n",
    "               .withColumn('path3_txt', map_values('path_item3').getItem(0)) \\\n",
    "               .select('catalogid', 'path1_id', 'path2_id', 'path3_id', \\\n",
    "                       concat_ws(' ', 'path0_txt', 'path1_txt', 'path2_txt', 'path3_txt').alias('path_txt'))\n",
    "%time path.show(5, truncate=False)"
   ]
  },
  {
   "cell_type": "markdown",
   "metadata": {},
   "source": [
    "### *Load and review file with ratings*"
   ]
  },
  {
   "cell_type": "code",
   "execution_count": 55,
   "metadata": {},
   "outputs": [
    {
     "name": "stdout",
     "output_type": "stream",
     "text": [
      "+--------+------+\n",
      "|  itemid|rating|\n",
      "+--------+------+\n",
      "| 2515646|   5.0|\n",
      "| 2858646|   5.0|\n",
      "| 5168646|   3.5|\n",
      "| 6465646|   5.0|\n",
      "|26351646|   5.0|\n",
      "+--------+------+\n",
      "only showing top 5 rows\n",
      "\n"
     ]
    }
   ],
   "source": [
    "schema = StructType(fields=[StructField(\"itemid\", StringType()),\n",
    "                            StructField(\"rating\", DoubleType())])\n",
    "\n",
    "rating_data = spark.read.json(\"/labs/project02/ratings\", schema=schema)\n",
    "rating_data.show(5)"
   ]
  },
  {
   "cell_type": "code",
   "execution_count": 31,
   "metadata": {},
   "outputs": [
    {
     "name": "stdout",
     "output_type": "stream",
     "text": [
      "+-------+-----------------+------------------+\n",
      "|summary|           itemid|            rating|\n",
      "+-------+-----------------+------------------+\n",
      "|  count|           384825|            384825|\n",
      "|   mean|9376621.363217046| 4.260485264332202|\n",
      "| stddev|9530095.465377059|1.0581581607083608|\n",
      "|    min|          1000023|               1.0|\n",
      "|    25%|        2925920.0|               4.0|\n",
      "|    50%|        4820610.0|               5.0|\n",
      "|    75%|      1.8442589E7|               5.0|\n",
      "|    max|            99991|               5.0|\n",
      "+-------+-----------------+------------------+\n",
      "\n"
     ]
    }
   ],
   "source": [
    "rating_data.summary().show()"
   ]
  },
  {
   "cell_type": "markdown",
   "metadata": {},
   "source": [
    "### *Load and review file item_details_full*"
   ]
  },
  {
   "cell_type": "code",
   "execution_count": 21,
   "metadata": {},
   "outputs": [
    {
     "name": "stdout",
     "output_type": "stream",
     "text": [
      "CPU times: user 4 ms, sys: 0 ns, total: 4 ms\n",
      "Wall time: 15.6 s\n",
      "+--------------------+--------------------+------+------+------+------+------+------+------+------+--------------------+------+-----------+------+------+------+------+------+------+------+------+------+------+--------------------+------+------+---------+------+------+------+------+------+------+------+-----+------+------+------+------+------+------+------+------+------+------+-----+------+------+------+------+------+------+------+------+------+------+-----+------+------+------+------+------+------+------+------+------+------+-----+------+------+------+------+------+------+------+------+-----+-----+--------+---------+\n",
      "|          annotation|                name|attr10|attr11|attr12|attr13|attr14|attr15|attr16|attr17|              attr18|attr19|     author|attr20|attr21|attr22|attr23|attr24|attr25|attr26|attr27|attr28|attr29|               attr3|attr30|attr31|   attr32|attr33|attr34|attr35|attr36|attr37|attr38|attr39|attr4|attr40|attr41|attr42|attr43|attr44|attr45|attr46|attr47|attr48|attr49|attr5|attr50|attr51|attr52|attr53|attr54|attr55|attr56|attr57|attr58|attr59|attr6|attr60|attr61|attr62|attr63|attr64|attr65|attr66|attr67|attr68|attr69|attr7|attr70|attr71|attr72|attr73|attr74|attr75|attr76|attr77|attr8|attr9|  itemid|parent_id|\n",
      "+--------------------+--------------------+------+------+------+------+------+------+------+------+--------------------+------+-----------+------+------+------+------+------+------+------+------+------+------+--------------------+------+------+---------+------+------+------+------+------+------+------+-----+------+------+------+------+------+------+------+------+------+------+-----+------+------+------+------+------+------+------+------+------+------+-----+------+------+------+------+------+------+------+------+------+------+-----+------+------+------+------+------+------+------+------+-----+-----+--------+---------+\n",
      "|<B> Прижизненное ...|История маленьког...|  null|  null|  null|  null|  null|  null|  null|  null|Издание А. Ф. Дев...|  null|Ф. Бернет  |  null|  null|  null|  null|  null|  null|  null|  null|  null|  null|Фрэнсис Элиза Ход...|  null|  null|Русский  |  null|  null|  null|  null|  null|  null|  null| null|  null|  null|  null|  null|  null|  null|  null|  null|  null|  null| null|  null|  null|  null|  null|  null|  null|  null|  null|  null|  null| null|  null|  null|  null|  null|  null|  null|  null|  null|  null|  null| null|  null|  null|  null|  null|  null|  null|  null|  null| null| null|12808031| 17969540|\n",
      "+--------------------+--------------------+------+------+------+------+------+------+------+------+--------------------+------+-----------+------+------+------+------+------+------+------+------+------+------+--------------------+------+------+---------+------+------+------+------+------+------+------+-----+------+------+------+------+------+------+------+------+------+------+-----+------+------+------+------+------+------+------+------+------+------+-----+------+------+------+------+------+------+------+------+------+------+-----+------+------+------+------+------+------+------+------+-----+-----+--------+---------+\n",
      "only showing top 1 row\n",
      "\n"
     ]
    }
   ],
   "source": [
    "# Load the largest dataset 8Gb with items details\n",
    "%time details_data = spark.read.json(\"/labs/project02/item_details_full\") \\\n",
    "                          .withColumnRenamed('attr0', 'annotation') \\\n",
    "                          .withColumnRenamed('attr1', 'name') \\\n",
    "                          .withColumnRenamed('attr2', 'author')\n",
    "details_data.show(1)"
   ]
  },
  {
   "cell_type": "code",
   "execution_count": 22,
   "metadata": {},
   "outputs": [
    {
     "name": "stdout",
     "output_type": "stream",
     "text": [
      "-RECORD 0----------------------------------------------------------------------------------------------------------------------------------------------------------------------------------------------------------------------------------------------------------------------------------------------------------------------------------------------------------------------------------------------------------------------------------------------------------------------------------------------------------------------------------------------------------------------------------------------------------------------------------------------------------------------------------------------------------------\n",
      " itemid     | 12808031                                                                                                                                                                                                                                                                                                                                                                                                                                                                                                                                                                                                                                                                                                   \n",
      " parent_id  | 17969540                                                                                                                                                                                                                                                                                                                                                                                                                                                                                                                                                                                                                                                                                                   \n",
      " name       | История маленького лорда                                                                                                                                                                                                                                                                                                                                                                                                                                                                                                                                                                                                                                                                                   \n",
      " annotation | <B> Прижизненное издание.</B><BR> С.-Петербург, 1900 год. Издание А.Ф.Девриена. <BR> С 23 рисунками. <BR> Типографский переплет. Сохранность хорошая. <BR> Наиболее известное произведение американской писательницы Ф.Бернетт для детей - \"Маленький лорд Фаунтлерой\" (\"Little Lord Fauntleroy\") появилось в 1886 и имело огромный успех. Книга переведена на множество языков (в русском переводе имеется несколько вариантов названия, в т.ч. \"История маленького лорда\" и т.п.). <BR> К маленькому лорду Фаунтлерою жизнь не была сурова, но на его долю выпало серьезное испытание - испытание богатством, властью. Маленький лорд сумел сохранить доброту и благородство в самых тяжелых условиях.   \n",
      " author     | Ф. Бернет                                                                                                                                                                                                                                                                                                                                                                                                                                                                                                                                                                                                                                                                                                  \n",
      "only showing top 1 row\n",
      "\n"
     ]
    }
   ],
   "source": [
    "details_data.select('itemid', 'parent_id', 'name', 'annotation', 'author') \\\n",
    "            .show(1, vertical=True, truncate=False)"
   ]
  },
  {
   "cell_type": "code",
   "execution_count": 23,
   "metadata": {},
   "outputs": [
    {
     "name": "stdout",
     "output_type": "stream",
     "text": [
      "+--------+---------+--------------------+--------------------+-------------------+\n",
      "|  itemid|parent_id|                name|          annotation|             author|\n",
      "+--------+---------+--------------------+--------------------+-------------------+\n",
      "|12808031| 17969540|История маленьког...|<B> Прижизненное ...|        Ф. Бернет  |\n",
      "|12599476| 16095306|Belkin чехол для ...|Надежная защита -...|               null|\n",
      "|22440986|     null|Толковый словарь ...|               нет  |     С. И. Ожегов  |\n",
      "|22441264|     null|Архитектурное тво...|               нет  |               null|\n",
      "|22466267| 22476179|Видео-открытка \"Т...|Дорогие друзья!<b...|               null|\n",
      "|22500510| 22611447|Ботинки West Club...|Удобные ботинки W...|               null|\n",
      "|22501357| 22517964|Ботинки Betsy 329...|Отличные ботинки ...|               null|\n",
      "|22437755|     null|Побег в соловьины...|Предлагаем вашему...|Владимир Кобликов  |\n",
      "|22449833| 23139002|Играем в кости. 1...|Весело, с азартом...|    Райнер Книзиа  |\n",
      "|22385799|     null|      Милан. Карта  |- Карта города (м...|               null|\n",
      "+--------+---------+--------------------+--------------------+-------------------+\n",
      "only showing top 10 rows\n",
      "\n"
     ]
    }
   ],
   "source": [
    "details_data.select('itemid', 'parent_id', 'name', 'annotation', 'author').show(10)"
   ]
  },
  {
   "cell_type": "code",
   "execution_count": 24,
   "metadata": {},
   "outputs": [
    {
     "data": {
      "text/plain": [
       "66"
      ]
     },
     "execution_count": 24,
     "metadata": {},
     "output_type": "execute_result"
    }
   ],
   "source": [
    "details_data.rdd.getNumPartitions()"
   ]
  },
  {
   "cell_type": "code",
   "execution_count": 25,
   "metadata": {},
   "outputs": [],
   "source": [
    "details_data = details_data.coalesce(8).cache()"
   ]
  },
  {
   "cell_type": "code",
   "execution_count": 26,
   "metadata": {},
   "outputs": [
    {
     "name": "stdout",
     "output_type": "stream",
     "text": [
      "root\n",
      " |-- itemid: string (nullable = true)\n",
      " |-- parent_id: string (nullable = true)\n",
      " |-- name: string (nullable = true)\n",
      " |-- annotation: string (nullable = true)\n",
      " |-- author: string (nullable = true)\n",
      "\n"
     ]
    }
   ],
   "source": [
    "details_data.select('itemid', 'parent_id', 'name', 'annotation', 'author').printSchema()"
   ]
  },
  {
   "cell_type": "code",
   "execution_count": 27,
   "metadata": {},
   "outputs": [
    {
     "name": "stdout",
     "output_type": "stream",
     "text": [
      "+-------+--------------------+--------------------+--------------------+--------------------+------------------+\n",
      "|summary|              itemid|           parent_id|                name|          annotation|            author|\n",
      "+-------+--------------------+--------------------+--------------------+--------------------+------------------+\n",
      "|  count|             9273625|             3805884|             9273137|             8272266|           5296280|\n",
      "|   mean|1.7692237242282603E7|2.2682176065096308E7|                 NaN|            Infinity| 774.9794520547945|\n",
      "| stddev|1.0924191469207602E7|   8119906.385594677|                 NaN|                 NaN|1070.2348412388437|\n",
      "|    min|              100000|             1000000|              10x10 |                    |                  |\n",
      "|    max|              999999|              999998|™konomie Der Balk...|№ 30 Спальный меш...|          № 2143  |\n",
      "+-------+--------------------+--------------------+--------------------+--------------------+------------------+\n",
      "\n",
      "CPU times: user 12 ms, sys: 0 ns, total: 12 ms\n",
      "Wall time: 1min 15s\n"
     ]
    }
   ],
   "source": [
    "%time details_data.select('itemid', 'parent_id', 'name', 'annotation', 'author').describe().show()"
   ]
  },
  {
   "cell_type": "code",
   "execution_count": 28,
   "metadata": {},
   "outputs": [
    {
     "name": "stdout",
     "output_type": "stream",
     "text": [
      "CPU times: user 4 ms, sys: 0 ns, total: 4 ms\n",
      "Wall time: 31.5 s\n"
     ]
    },
    {
     "data": {
      "text/plain": [
       "204183"
      ]
     },
     "execution_count": 28,
     "metadata": {},
     "output_type": "execute_result"
    }
   ],
   "source": [
    "# select details data that has intersection with train and test datasets\n",
    "details_data_small = details_data.join(train_data.select(col('train_item').name('itemid')), on='itemid', how='left_semi') \\\n",
    "            .union(details_data.join(test_data.select(col('item').name('itemid')), on='itemid', how='left_semi')) \\\n",
    "            .dropDuplicates()\n",
    "%time details_data_small.count()"
   ]
  },
  {
   "cell_type": "code",
   "execution_count": 29,
   "metadata": {},
   "outputs": [
    {
     "name": "stdout",
     "output_type": "stream",
     "text": [
      "CPU times: user 8 ms, sys: 0 ns, total: 8 ms\n",
      "Wall time: 1min 4s\n"
     ]
    },
    {
     "data": {
      "text/plain": [
       "204183"
      ]
     },
     "execution_count": 29,
     "metadata": {},
     "output_type": "execute_result"
    }
   ],
   "source": [
    "%time details_data_small.count()"
   ]
  },
  {
   "cell_type": "markdown",
   "metadata": {},
   "source": [
    "# Находим подходящие пары для test items и присваиваем им вес для ранжирования\n",
    "\n",
    "\n",
    "Pairs | Weight\n",
    ":---- | :----\n",
    "Friends | Rating + alpha x Views\n",
    "Common Friends | Rating + alpha/4 x Views\n",
    "Common Catalog | Rating\n",
    "Common Path 1/2/3 | Rating/2/4/8\n",
    "Common Parent | Rating\n",
    "\n",
    "__where alpha is a scaling factor of confidence in implicit rating__\n"
   ]
  },
  {
   "cell_type": "code",
   "execution_count": 56,
   "metadata": {},
   "outputs": [],
   "source": [
    "alpha = 32"
   ]
  },
  {
   "cell_type": "markdown",
   "metadata": {},
   "source": [
    "## Idea 1. Статистика совместных просмотров (find Friends)"
   ]
  },
  {
   "cell_type": "code",
   "execution_count": 57,
   "metadata": {},
   "outputs": [
    {
     "name": "stdout",
     "output_type": "stream",
     "text": [
      "+----------+--------+-----+\n",
      "|train_item|  recoms|views|\n",
      "+----------+--------+-----+\n",
      "|  31471303|31471373|    1|\n",
      "|  31471303|31471307|    3|\n",
      "|  31471303|31471342|    1|\n",
      "|  31489016|31760003|    1|\n",
      "|  31489016|31418187|    1|\n",
      "+----------+--------+-----+\n",
      "only showing top 5 rows\n",
      "\n",
      "CPU times: user 0 ns, sys: 0 ns, total: 0 ns\n",
      "Wall time: 194 ms\n"
     ]
    }
   ],
   "source": [
    "# Explode train data to get pairs of items with joint views\n",
    "pairs = train_data.select(\"train_item\", explode(\"true_recoms\").alias(\"recoms\", \"views\"))\n",
    "%time pairs.show(5)"
   ]
  },
  {
   "cell_type": "code",
   "execution_count": 24,
   "metadata": {},
   "outputs": [
    {
     "name": "stdout",
     "output_type": "stream",
     "text": [
      "+-------+--------------------+--------------------+-----------------+\n",
      "|summary|          train_item|              recoms|            views|\n",
      "+-------+--------------------+--------------------+-----------------+\n",
      "|  count|              873701|              873701|           873701|\n",
      "|   mean|2.3911691907111242E7|2.4031108647896707E7|4.005077251828715|\n",
      "| stddev| 1.010491250777942E7| 1.000269246709353E7| 19.6416931018131|\n",
      "|    min|              100304|            10016747|                1|\n",
      "|    25%|         1.9578092E7|         1.9688909E7|                1|\n",
      "|    50%|         2.8106575E7|         2.8312045E7|                1|\n",
      "|    75%|         3.1706643E7|         3.1701051E7|                4|\n",
      "|    max|              997604|               99845|            10820|\n",
      "+-------+--------------------+--------------------+-----------------+\n",
      "\n",
      "CPU times: user 4 ms, sys: 0 ns, total: 4 ms\n",
      "Wall time: 14.5 s\n"
     ]
    }
   ],
   "source": [
    "%time pairs.summary().show()"
   ]
  },
  {
   "cell_type": "code",
   "execution_count": 26,
   "metadata": {},
   "outputs": [
    {
     "name": "stdout",
     "output_type": "stream",
     "text": [
      "+----------+--------+-----+\n",
      "|train_item|  recoms|views|\n",
      "+----------+--------+-----+\n",
      "|  32570730|32570811|10820|\n",
      "|  32570811|32570730| 8709|\n",
      "|  28906831|31053293| 2660|\n",
      "|  32570730|33007311| 2051|\n",
      "|  32465635|32666051| 2018|\n",
      "|  32570730|32871593| 1983|\n",
      "|  28906831|33211682| 1756|\n",
      "|  32570811|33007311| 1730|\n",
      "|  24298034|32570730| 1720|\n",
      "|  32570730|31653745| 1698|\n",
      "+----------+--------+-----+\n",
      "only showing top 10 rows\n",
      "\n",
      "CPU times: user 4 ms, sys: 4 ms, total: 8 ms\n",
      "Wall time: 37.5 s\n"
     ]
    }
   ],
   "source": [
    "# Review items with most joint views\n",
    "%time pairs.orderBy('views', ascending=False).show(10)"
   ]
  },
  {
   "cell_type": "markdown",
   "metadata": {},
   "source": [
    "### Filter *test items* in recoms of train items (we look for Friends of test items only)"
   ]
  },
  {
   "cell_type": "code",
   "execution_count": 58,
   "metadata": {},
   "outputs": [
    {
     "name": "stdout",
     "output_type": "stream",
     "text": [
      "+---------+----------+-----+\n",
      "|test_item|train_item|views|\n",
      "+---------+----------+-----+\n",
      "| 31760003|  31489016|    1|\n",
      "| 31418187|  31489016|    1|\n",
      "| 19063915|   5629613|    6|\n",
      "|  5821229|   5629613|    1|\n",
      "| 33395696|  29185962|    1|\n",
      "+---------+----------+-----+\n",
      "only showing top 5 rows\n",
      "\n",
      "CPU times: user 0 ns, sys: 0 ns, total: 0 ns\n",
      "Wall time: 566 ms\n"
     ]
    }
   ],
   "source": [
    "# Select pairs with test recoms => friends of test items\n",
    "pairs_test_f = pairs.join(test_data.select(col('item').name('recoms')), on='recoms', how='left_semi') \\\n",
    "                  .select(col('recoms').name('test_item'), 'train_item', 'views')\n",
    "%time pairs_test_f.show(5)"
   ]
  },
  {
   "cell_type": "code",
   "execution_count": 29,
   "metadata": {},
   "outputs": [
    {
     "name": "stdout",
     "output_type": "stream",
     "text": [
      "+-------+------------------+--------------------+------------------+\n",
      "|summary|         test_item|          train_item|             views|\n",
      "+-------+------------------+--------------------+------------------+\n",
      "|  count|            183544|              183544|            183544|\n",
      "|   mean|2.48761968697533E7|2.4612840692803904E7| 4.539500065379419|\n",
      "| stddev| 9422779.428920371|   9580928.216531042|14.874518162512967|\n",
      "|    min|          10028901|              101089|                 1|\n",
      "|    25%|        2.034623E7|          2.020266E7|                 1|\n",
      "|    50%|       2.9033245E7|         2.8515991E7|                 1|\n",
      "|    75%|       3.1813565E7|         3.1775711E7|                 4|\n",
      "|    max|             99411|               99611|              2051|\n",
      "+-------+------------------+--------------------+------------------+\n",
      "\n",
      "CPU times: user 4 ms, sys: 0 ns, total: 4 ms\n",
      "Wall time: 15.8 s\n"
     ]
    }
   ],
   "source": [
    "# Revies summary of pairs_test_f\n",
    "%time pairs_test_f.summary().show()"
   ]
  },
  {
   "cell_type": "code",
   "execution_count": 27,
   "metadata": {},
   "outputs": [
    {
     "name": "stdout",
     "output_type": "stream",
     "text": [
      "CPU times: user 0 ns, sys: 4 ms, total: 4 ms\n",
      "Wall time: 11.5 s\n"
     ]
    },
    {
     "data": {
      "text/plain": [
       "47932"
      ]
     },
     "execution_count": 27,
     "metadata": {},
     "output_type": "execute_result"
    }
   ],
   "source": [
    "# Number of test items with some friends\n",
    "%time pairs_test_f.select('test_item').distinct().count()"
   ]
  },
  {
   "cell_type": "code",
   "execution_count": 30,
   "metadata": {},
   "outputs": [
    {
     "name": "stdout",
     "output_type": "stream",
     "text": [
      "CPU times: user 8 ms, sys: 0 ns, total: 8 ms\n",
      "Wall time: 6.61 s\n"
     ]
    },
    {
     "data": {
      "text/plain": [
       "0"
      ]
     },
     "execution_count": 30,
     "metadata": {},
     "output_type": "execute_result"
    }
   ],
   "source": [
    "# Check if we have any test items with num of friens >=100,\n",
    "%time pairs_test_f.select('test_item', array('train_item', 'views').name('recoms')) \\\n",
    "                .groupBy('test_item').agg(collect_list('recoms').name('recoms')) \\\n",
    "                .withColumn('num_recoms', size('recoms')).filter('num_recoms >= 100').count()"
   ]
  },
  {
   "cell_type": "code",
   "execution_count": 31,
   "metadata": {},
   "outputs": [
    {
     "name": "stdout",
     "output_type": "stream",
     "text": [
      "+---------------+\n",
      "|max(num_recoms)|\n",
      "+---------------+\n",
      "|             51|\n",
      "+---------------+\n",
      "\n",
      "CPU times: user 4 ms, sys: 0 ns, total: 4 ms\n",
      "Wall time: 8.09 s\n"
     ]
    }
   ],
   "source": [
    "# There is no test items with num of friends >=100 right now, check the max number:\n",
    "%time pairs_test_f.select('test_item', array('train_item', 'views').name('recoms')) \\\n",
    "                .groupBy('test_item').agg(collect_list('recoms').name('recoms')) \\\n",
    "                .withColumn('num_recoms', size('recoms')).agg({'num_recoms':'max'}).show()"
   ]
  },
  {
   "cell_type": "markdown",
   "metadata": {},
   "source": [
    "### Compute weights for Friends"
   ]
  },
  {
   "cell_type": "code",
   "execution_count": 59,
   "metadata": {},
   "outputs": [
    {
     "name": "stdout",
     "output_type": "stream",
     "text": [
      "+--------+---------+-----+------+------+\n",
      "|  recoms|test_item|views|rating|weight|\n",
      "+--------+---------+-----+------+------+\n",
      "|31489016| 31760003|    1|   0.0|  32.0|\n",
      "|31489016| 31418187|    1|   0.0|  32.0|\n",
      "| 5629613| 19063915|    6|   4.5| 196.5|\n",
      "| 5629613|  5821229|    1|   4.5|  36.5|\n",
      "|29185962| 33395696|    1|   0.0|  32.0|\n",
      "+--------+---------+-----+------+------+\n",
      "only showing top 5 rows\n",
      "\n",
      "CPU times: user 0 ns, sys: 0 ns, total: 0 ns\n",
      "Wall time: 1.52 s\n"
     ]
    }
   ],
   "source": [
    "pairs_test_f = pairs_test_f.join(rating_data.select(col('itemid').name('train_item'), 'rating'), \\\n",
    "                                 on='train_item', how='left_outer') \\\n",
    "                           .fillna(0, subset=['rating']) \\\n",
    "                           .withColumn('weight', col('rating') + alpha * col('views')) \\\n",
    "                           .withColumnRenamed('train_item', 'recoms')\n",
    "%time pairs_test_f.show(5)"
   ]
  },
  {
   "cell_type": "markdown",
   "metadata": {},
   "source": [
    "## Idea 1' - Find Friends of Friends"
   ]
  },
  {
   "cell_type": "markdown",
   "metadata": {},
   "source": [
    "### Join test items with friends with train items - \"friends of friends\""
   ]
  },
  {
   "cell_type": "code",
   "execution_count": 62,
   "metadata": {},
   "outputs": [
    {
     "name": "stdout",
     "output_type": "stream",
     "text": [
      "+--------+---------+----------+------+-----+------+\n",
      "|  recoms|test_item|train_item|weight|views|rating|\n",
      "+--------+---------+----------+------+-----+------+\n",
      "|31760003| 31760003|  31489016|  32.0|    1|   0.0|\n",
      "|31418187| 31760003|  31489016|  32.0|    1|   0.0|\n",
      "|31418153| 31760003|  31489016|  32.0|    1|   0.0|\n",
      "|31740094| 31760003|  31489016|  32.0|    1|   0.0|\n",
      "|31489223| 31760003|  31489016|  32.0|    1|   0.0|\n",
      "+--------+---------+----------+------+-----+------+\n",
      "only showing top 5 rows\n",
      "\n",
      "CPU times: user 0 ns, sys: 0 ns, total: 0 ns\n",
      "Wall time: 6.98 s\n"
     ]
    }
   ],
   "source": [
    "temp1 = pairs_test_f.select('test_item', col('recoms').name('train_item'), 'weight') \\\n",
    "                .join(train_data.select('train_item', 'true_recoms'), \\\n",
    "                      on='train_item', how='left_outer') \\\n",
    "                .select('test_item', 'train_item', 'weight', explode('true_recoms').name('recoms', 'views')) \\\n",
    "                .join(rating_data.select(col('itemid').name('recoms'), 'rating'), \\\n",
    "                      on='recoms', how='left_outer') \\\n",
    "                .fillna(0, subset=['rating'])\n",
    "%time temp1.show(5)"
   ]
  },
  {
   "cell_type": "code",
   "execution_count": 63,
   "metadata": {},
   "outputs": [
    {
     "name": "stdout",
     "output_type": "stream",
     "text": [
      "CPU times: user 4 ms, sys: 0 ns, total: 4 ms\n",
      "Wall time: 10.7 s\n"
     ]
    },
    {
     "data": {
      "text/plain": [
       "2092525"
      ]
     },
     "execution_count": 63,
     "metadata": {},
     "output_type": "execute_result"
    }
   ],
   "source": [
    "%time temp1.count()"
   ]
  },
  {
   "cell_type": "markdown",
   "metadata": {},
   "source": [
    "### Union friends and friends of friends into one table"
   ]
  },
  {
   "cell_type": "code",
   "execution_count": 64,
   "metadata": {},
   "outputs": [
    {
     "name": "stdout",
     "output_type": "stream",
     "text": [
      "+---------+--------+------+\n",
      "|test_item|  recoms|weight|\n",
      "+---------+--------+------+\n",
      "| 32937677|32937080| 384.0|\n",
      "| 30914782|26418638|  36.0|\n",
      "|  5804037| 4645025| 416.0|\n",
      "| 22443211| 3768754| 165.0|\n",
      "|  6281222| 4188479|  69.0|\n",
      "+---------+--------+------+\n",
      "only showing top 5 rows\n",
      "\n",
      "CPU times: user 4 ms, sys: 0 ns, total: 4 ms\n",
      "Wall time: 19.8 s\n"
     ]
    }
   ],
   "source": [
    "pairs_test_f1 = temp1.select('test_item', col('train_item').name('recoms'), 'weight') \\\n",
    "                   .union(temp1.select('test_item', 'recoms', \\\n",
    "                                       (col('rating') + (alpha/4) * col('views')).name('weight'))) \\\n",
    "                   .dropDuplicates().filter('test_item != recoms')                \n",
    "%time pairs_test_f1.show(5)"
   ]
  },
  {
   "cell_type": "code",
   "execution_count": 65,
   "metadata": {},
   "outputs": [
    {
     "data": {
      "text/plain": [
       "200"
      ]
     },
     "execution_count": 65,
     "metadata": {},
     "output_type": "execute_result"
    }
   ],
   "source": [
    "pairs_test_f1.rdd.getNumPartitions()"
   ]
  },
  {
   "cell_type": "code",
   "execution_count": 66,
   "metadata": {},
   "outputs": [],
   "source": [
    "pairs_test_f1 = pairs_test_f1.coalesce(8).cache()"
   ]
  },
  {
   "cell_type": "code",
   "execution_count": 67,
   "metadata": {},
   "outputs": [
    {
     "name": "stdout",
     "output_type": "stream",
     "text": [
      "CPU times: user 0 ns, sys: 0 ns, total: 0 ns\n",
      "Wall time: 11.3 s\n"
     ]
    },
    {
     "data": {
      "text/plain": [
       "1967638"
      ]
     },
     "execution_count": 67,
     "metadata": {},
     "output_type": "execute_result"
    }
   ],
   "source": [
    "%time pairs_test_f1.count()"
   ]
  },
  {
   "cell_type": "code",
   "execution_count": 71,
   "metadata": {},
   "outputs": [
    {
     "name": "stdout",
     "output_type": "stream",
     "text": [
      "CPU times: user 4 ms, sys: 4 ms, total: 8 ms\n",
      "Wall time: 3.82 s\n"
     ]
    },
    {
     "data": {
      "text/plain": [
       "4265"
      ]
     },
     "execution_count": 71,
     "metadata": {},
     "output_type": "execute_result"
    }
   ],
   "source": [
    "# Number of test items with number of pairs >=100\n",
    "%time pairs_test_f1.groupBy('test_item').agg(collect_list('recoms').name('recoms')) \\\n",
    "                .withColumn('num_recoms', size('recoms')).filter('num_recoms >= 100').count()"
   ]
  },
  {
   "cell_type": "code",
   "execution_count": 72,
   "metadata": {},
   "outputs": [
    {
     "name": "stdout",
     "output_type": "stream",
     "text": [
      "CPU times: user 0 ns, sys: 0 ns, total: 0 ns\n",
      "Wall time: 1.15 s\n"
     ]
    },
    {
     "data": {
      "text/plain": [
       "47932"
      ]
     },
     "execution_count": 72,
     "metadata": {},
     "output_type": "execute_result"
    }
   ],
   "source": [
    "# Number of distinct test items with pairs\n",
    "%time pairs_test_f1.select('test_item').distinct().count()"
   ]
  },
  {
   "cell_type": "markdown",
   "metadata": {},
   "source": [
    "## Idea 0 (emergency cases): Popular recoms for ANY test item"
   ]
  },
  {
   "cell_type": "code",
   "execution_count": 30,
   "metadata": {},
   "outputs": [
    {
     "name": "stdout",
     "output_type": "stream",
     "text": [
      "+----------+--------+-----+\n",
      "|train_item|  recoms|views|\n",
      "+----------+--------+-----+\n",
      "|  32570730|32570811|10820|\n",
      "|  32570811|32570730| 8709|\n",
      "|  28906831|31053293| 2660|\n",
      "|  32570730|33007311| 2051|\n",
      "|  32465635|32666051| 2018|\n",
      "|  32570730|32871593| 1983|\n",
      "|  28906831|33211682| 1756|\n",
      "|  32570811|33007311| 1730|\n",
      "|  24298034|32570730| 1720|\n",
      "|  32570730|31653745| 1698|\n",
      "+----------+--------+-----+\n",
      "only showing top 10 rows\n",
      "\n",
      "CPU times: user 0 ns, sys: 0 ns, total: 0 ns\n",
      "Wall time: 2.27 s\n"
     ]
    }
   ],
   "source": [
    "# Select 100 most popular pairs (joint views) when we do not enough pairs (joint views) !!!!!!!!\n",
    "popular = pairs.orderBy('views', ascending=False).limit(100)\n",
    "%time popular.show(10)"
   ]
  },
  {
   "cell_type": "code",
   "execution_count": 68,
   "metadata": {},
   "outputs": [
    {
     "name": "stdout",
     "output_type": "stream",
     "text": [
      "+--------+---------+-----+-----------------+------------------+\n",
      "|  recoms|test_item|views|           rating|            weight|\n",
      "+--------+---------+-----+-----------------+------------------+\n",
      "|32570730| 33007311| 2051|4.761904761904762| 65636.76190476191|\n",
      "|28906831| 33211682| 1756|              3.5|           56195.5|\n",
      "|32570811| 33007311| 1730|4.944444444444445|55364.944444444445|\n",
      "|32570730| 33191212| 1141|4.761904761904762| 36516.76190476191|\n",
      "|32570730| 32167261| 1024|4.761904761904762| 32772.76190476191|\n",
      "|32570811| 32167261|  981|4.944444444444445|31396.944444444445|\n",
      "|23809424|  5438279|  923|4.214285714285714|29540.214285714286|\n",
      "|31653745| 33007311|  843|              4.5|           26980.5|\n",
      "|32698107| 32698108|  840|              0.0|           26880.0|\n",
      "|32598788| 33000972|  802|              4.5|           25668.5|\n",
      "+--------+---------+-----+-----------------+------------------+\n",
      "only showing top 10 rows\n",
      "\n",
      "CPU times: user 0 ns, sys: 0 ns, total: 0 ns\n",
      "Wall time: 3.19 s\n"
     ]
    }
   ],
   "source": [
    "# Select 100 most popular pairs (joint views) when we do not enough pairs (joint views) !!!!!!!!\n",
    "popular_test = pairs_test_f.sort(desc('views')).limit(100)\n",
    "%time popular_test.show(10)"
   ]
  },
  {
   "cell_type": "code",
   "execution_count": 69,
   "metadata": {
    "scrolled": false
   },
   "outputs": [
    {
     "name": "stdout",
     "output_type": "stream",
     "text": [
      "+---------+--------+-----------------+\n",
      "|test_item|  recoms|           weight|\n",
      "+---------+--------+-----------------+\n",
      "| 32712593|31138940|4.962962962962963|\n",
      "|  6242189|32570811|4.944444444444445|\n",
      "| 27976812|33255573|              0.0|\n",
      "| 32788806|32175016|             4.75|\n",
      "|  7015126|23809424|4.214285714285714|\n",
      "+---------+--------+-----------------+\n",
      "only showing top 5 rows\n",
      "\n",
      "CPU times: user 0 ns, sys: 0 ns, total: 0 ns\n",
      "Wall time: 10.6 s\n"
     ]
    }
   ],
   "source": [
    "# Make pairs with popular items for emergency cases\n",
    "pairs_test_pop = test_data.select(col('item').name('test_item')) \\\n",
    "                        .crossJoin(popular_test.select('recoms', col('rating').name('weight'))) \\\n",
    "                        .dropDuplicates()\n",
    "%time pairs_test_pop.show(5)"
   ]
  },
  {
   "cell_type": "code",
   "execution_count": 70,
   "metadata": {},
   "outputs": [
    {
     "data": {
      "text/plain": [
       "200"
      ]
     },
     "execution_count": 70,
     "metadata": {},
     "output_type": "execute_result"
    }
   ],
   "source": [
    "pairs_test_pop.rdd.getNumPartitions()"
   ]
  },
  {
   "cell_type": "code",
   "execution_count": 71,
   "metadata": {},
   "outputs": [],
   "source": [
    "pairs_test_pop = pairs_test_pop.coalesce(8).cache()"
   ]
  },
  {
   "cell_type": "code",
   "execution_count": 23,
   "metadata": {},
   "outputs": [
    {
     "name": "stdout",
     "output_type": "stream",
     "text": [
      "CPU times: user 8 ms, sys: 0 ns, total: 8 ms\n",
      "Wall time: 36.6 s\n"
     ]
    },
    {
     "data": {
      "text/plain": [
       "6095600"
      ]
     },
     "execution_count": 23,
     "metadata": {},
     "output_type": "execute_result"
    }
   ],
   "source": [
    "# number of pairs = number of test items x 100\n",
    "%time pairs_test_pop.count()"
   ]
  },
  {
   "cell_type": "markdown",
   "metadata": {},
   "source": [
    "## Idea 2: Find pairs with common catalogs"
   ]
  },
  {
   "cell_type": "markdown",
   "metadata": {},
   "source": [
    "### Join test data with catalogs"
   ]
  },
  {
   "cell_type": "code",
   "execution_count": 74,
   "metadata": {},
   "outputs": [
    {
     "name": "stdout",
     "output_type": "stream",
     "text": [
      "+--------+---------+---------+------+\n",
      "|  recoms|catalogid|test_item|weight|\n",
      "+--------+---------+---------+------+\n",
      "|18568083|  1142513| 18382630|   2.0|\n",
      "| 2720113|  1142513| 18382630|   5.0|\n",
      "| 7427843|  1142513| 18382630|   5.0|\n",
      "|17874310|  1142513| 18382630|   5.0|\n",
      "|18382630|  1142513| 18382630|   5.0|\n",
      "+--------+---------+---------+------+\n",
      "only showing top 5 rows\n",
      "\n",
      "CPU times: user 0 ns, sys: 0 ns, total: 0 ns\n",
      "Wall time: 14.5 s\n"
     ]
    }
   ],
   "source": [
    "# Join test items with catalogid\n",
    "pairs_test_c = test_data.select(col('item').name('test_item')) \\\n",
    "                        .join(catalog_data.select(col('itemid').name('test_item'), 'catalogid'), \\\n",
    "                              on='test_item', how='left_outer') \\\n",
    "                        .join(catalog_data.select(col('itemid').name('recoms'), 'catalogid'), \\\n",
    "                                 on='catalogid', how='left_outer') \\\n",
    "                            .dropDuplicates() \\\n",
    "                        .join(rating_data.select(col('itemid').name('recoms'), col('rating').name('weight')), \\\n",
    "                                on='recoms', how='left_outer') \\\n",
    "                        .filter('weight > 0') \\\n",
    "                        .withColumn('weight', col('weight').cast('float'))\n",
    "%time pairs_test_c.show(5)"
   ]
  },
  {
   "cell_type": "code",
   "execution_count": 149,
   "metadata": {},
   "outputs": [
    {
     "name": "stdout",
     "output_type": "stream",
     "text": [
      "+---------+--------+---------+------+\n",
      "|test_item|  recoms|catalogid|weight|\n",
      "+---------+--------+---------+------+\n",
      "|  1012719| 3788261|  1139400|   1.0|\n",
      "|   102012| 1330933|  1141109|   3.0|\n",
      "|   102012|17910479|  1141109|   5.0|\n",
      "|   102012|19042093|  1141109|   2.0|\n",
      "|   102012|19931478|  1141109|   5.0|\n",
      "+---------+--------+---------+------+\n",
      "only showing top 5 rows\n",
      "\n",
      "CPU times: user 336 ms, sys: 104 ms, total: 440 ms\n",
      "Wall time: 46min 49s\n"
     ]
    }
   ],
   "source": [
    "# Remove pairs already in friends\n",
    "pairs_test_c = pairs_test_c.join(pairs_test_f.select('test_item', 'recoms'), \\\n",
    "                                 on=['test_item', 'recoms'], how='left_anti')\n",
    "%time pairs_test_c.show(5)"
   ]
  },
  {
   "cell_type": "code",
   "execution_count": 148,
   "metadata": {},
   "outputs": [
    {
     "data": {
      "text/plain": [
       "200"
      ]
     },
     "execution_count": 148,
     "metadata": {},
     "output_type": "execute_result"
    }
   ],
   "source": [
    "pairs_test_c.rdd.getNumPartitions()"
   ]
  },
  {
   "cell_type": "raw",
   "metadata": {},
   "source": [
    "pairs_test_c = pairs_test_c.coalesce(8).cache()"
   ]
  },
  {
   "cell_type": "code",
   "execution_count": 55,
   "metadata": {},
   "outputs": [
    {
     "name": "stdout",
     "output_type": "stream",
     "text": [
      "CPU times: user 4 ms, sys: 0 ns, total: 4 ms\n",
      "Wall time: 15.5 s\n"
     ]
    },
    {
     "data": {
      "text/plain": [
       "82194"
      ]
     },
     "execution_count": 55,
     "metadata": {},
     "output_type": "execute_result"
    }
   ],
   "source": [
    "%time pairs_test_c.count()"
   ]
  },
  {
   "cell_type": "code",
   "execution_count": 54,
   "metadata": {},
   "outputs": [
    {
     "name": "stdout",
     "output_type": "stream",
     "text": [
      "CPU times: user 92 ms, sys: 28 ms, total: 120 ms\n",
      "Wall time: 15min 22s\n"
     ]
    },
    {
     "data": {
      "text/plain": [
       "1582735788"
      ]
     },
     "execution_count": 54,
     "metadata": {},
     "output_type": "execute_result"
    }
   ],
   "source": [
    "# Number of pairs with same catalogid\n",
    "%time pairs_test_c.count()"
   ]
  },
  {
   "cell_type": "markdown",
   "metadata": {},
   "source": [
    "## Union Friends and Items with same catalogid"
   ]
  },
  {
   "cell_type": "code",
   "execution_count": 151,
   "metadata": {},
   "outputs": [
    {
     "name": "stdout",
     "output_type": "stream",
     "text": [
      "+---------+--------+------+\n",
      "|test_item|  recoms|weight|\n",
      "+---------+--------+------+\n",
      "| 32571873|32805257|  32.0|\n",
      "|  5524498| 3080602| 352.0|\n",
      "| 19447077|19447078| 356.2|\n",
      "|  1661774|31919544| 352.0|\n",
      "| 30002018|30002011|  96.0|\n",
      "+---------+--------+------+\n",
      "only showing top 5 rows\n",
      "\n",
      "CPU times: user 364 ms, sys: 148 ms, total: 512 ms\n",
      "Wall time: 44min 12s\n"
     ]
    }
   ],
   "source": [
    "# lets add them to pairs_test\n",
    "pairs_test_after_c = pairs_test_f1.union(pairs_test_c.select('test_item', 'recoms', 'weight')) \\\n",
    "                               .dropDuplicates()\n",
    "%time pairs_test_after_c.show(5)"
   ]
  },
  {
   "cell_type": "code",
   "execution_count": 80,
   "metadata": {},
   "outputs": [
    {
     "data": {
      "text/plain": [
       "200"
      ]
     },
     "execution_count": 80,
     "metadata": {},
     "output_type": "execute_result"
    }
   ],
   "source": [
    "pairs_test_after_c.rdd.getNumPartitions()"
   ]
  },
  {
   "cell_type": "code",
   "execution_count": 153,
   "metadata": {},
   "outputs": [],
   "source": [
    "pairs_test_after_c = pairs_test_after_c.coalesce(20).cache()"
   ]
  },
  {
   "cell_type": "code",
   "execution_count": 86,
   "metadata": {},
   "outputs": [
    {
     "name": "stdout",
     "output_type": "stream",
     "text": [
      "CPU times: user 4 ms, sys: 4 ms, total: 8 ms\n",
      "Wall time: 21.1 s\n"
     ]
    },
    {
     "data": {
      "text/plain": [
       "90203583"
      ]
     },
     "execution_count": 86,
     "metadata": {},
     "output_type": "execute_result"
    }
   ],
   "source": [
    "%time pairs_test_after_c.count()"
   ]
  },
  {
   "cell_type": "code",
   "execution_count": 88,
   "metadata": {},
   "outputs": [
    {
     "name": "stdout",
     "output_type": "stream",
     "text": [
      "CPU times: user 12 ms, sys: 0 ns, total: 12 ms\n",
      "Wall time: 2.82 s\n"
     ]
    },
    {
     "data": {
      "text/plain": [
       "60373"
      ]
     },
     "execution_count": 88,
     "metadata": {},
     "output_type": "execute_result"
    }
   ],
   "source": [
    "# How many test items with pairs do we now have?\n",
    "%time pairs_test_after_c.filter('recoms is not null').select('test_item').distinct().count()"
   ]
  },
  {
   "cell_type": "code",
   "execution_count": 89,
   "metadata": {},
   "outputs": [
    {
     "name": "stdout",
     "output_type": "stream",
     "text": [
      "CPU times: user 8 ms, sys: 0 ns, total: 8 ms\n",
      "Wall time: 13.1 s\n"
     ]
    },
    {
     "data": {
      "text/plain": [
       "46878"
      ]
     },
     "execution_count": 89,
     "metadata": {},
     "output_type": "execute_result"
    }
   ],
   "source": [
    "# Number of test items with number of pairs >=100 (take median to reduce batch)\n",
    "%time pairs_test_after_c.groupBy('test_item').agg(collect_list('recoms').name('recoms')) \\\n",
    "                .withColumn('num_recoms', size('recoms')).filter('num_recoms >= 100').count()"
   ]
  },
  {
   "cell_type": "markdown",
   "metadata": {},
   "source": [
    "## Make 1st batch of num recoms >100"
   ]
  },
  {
   "cell_type": "code",
   "execution_count": 154,
   "metadata": {},
   "outputs": [
    {
     "name": "stdout",
     "output_type": "stream",
     "text": [
      "+--------+--------+------+\n",
      "|    item|  recoms|weight|\n",
      "+--------+--------+------+\n",
      "|13078902|24807514|   3.0|\n",
      "|13078902| 5020621|   5.0|\n",
      "|13078902|19729265|   5.0|\n",
      "|13078902|22707017|   5.0|\n",
      "|13078902| 8785535|  88.0|\n",
      "+--------+--------+------+\n",
      "only showing top 5 rows\n",
      "\n",
      "CPU times: user 396 ms, sys: 72 ms, total: 468 ms\n",
      "Wall time: 44min 52s\n"
     ]
    }
   ],
   "source": [
    "# Save the first batch of test items with number of recoms >=100\n",
    "batch1 = pairs_test_after_c.join(pairs_test_after_c.groupBy('test_item').agg(collect_list('recoms').name('recoms')) \\\n",
    "                .withColumn('num_recoms', size('recoms')).filter('num_recoms >= 100').select('test_item'), \\\n",
    "                                 on='test_item', how='left_semi') \\\n",
    "                .select(col('test_item').name('item'), 'recoms', 'weight')\n",
    "%time batch1.show(5)"
   ]
  },
  {
   "cell_type": "code",
   "execution_count": 155,
   "metadata": {},
   "outputs": [
    {
     "data": {
      "text/plain": [
       "200"
      ]
     },
     "execution_count": 155,
     "metadata": {},
     "output_type": "execute_result"
    }
   ],
   "source": [
    "batch1.rdd.getNumPartitions()"
   ]
  },
  {
   "cell_type": "code",
   "execution_count": 92,
   "metadata": {},
   "outputs": [],
   "source": [
    "batch1 = batch1.coalesce(20).cache()"
   ]
  },
  {
   "cell_type": "code",
   "execution_count": 93,
   "metadata": {},
   "outputs": [
    {
     "name": "stdout",
     "output_type": "stream",
     "text": [
      "+-------+-----------------+\n",
      "|summary|       num_recoms|\n",
      "+-------+-----------------+\n",
      "|  count|            46878|\n",
      "|   mean|1909.982187806647|\n",
      "| stddev|4376.774550200061|\n",
      "|    min|              100|\n",
      "|    25%|              240|\n",
      "|    50%|              592|\n",
      "|    75%|             1486|\n",
      "|    max|            27332|\n",
      "+-------+-----------------+\n",
      "\n",
      "CPU times: user 12 ms, sys: 4 ms, total: 16 ms\n",
      "Wall time: 58.3 s\n"
     ]
    }
   ],
   "source": [
    "%time batch1.groupBy('item').agg(collect_list('recoms').name('recoms')) \\\n",
    "            .withColumn('num_recoms', size('recoms')).filter('num_recoms >= 100') \\\n",
    "            .select('num_recoms').summary().show()"
   ]
  },
  {
   "cell_type": "code",
   "execution_count": 94,
   "metadata": {},
   "outputs": [
    {
     "name": "stdout",
     "output_type": "stream",
     "text": [
      "CPU times: user 4 ms, sys: 0 ns, total: 4 ms\n",
      "Wall time: 647 ms\n"
     ]
    },
    {
     "data": {
      "text/plain": [
       "89536145"
      ]
     },
     "execution_count": 94,
     "metadata": {},
     "output_type": "execute_result"
    }
   ],
   "source": [
    "# Number of pairs in batch1 - better < 50m for memory reason\n",
    "%time batch1.count()"
   ]
  },
  {
   "cell_type": "code",
   "execution_count": 95,
   "metadata": {},
   "outputs": [
    {
     "name": "stdout",
     "output_type": "stream",
     "text": [
      "root\n",
      " |-- item: string (nullable = true)\n",
      " |-- recoms: string (nullable = true)\n",
      " |-- weight: double (nullable = true)\n",
      "\n"
     ]
    }
   ],
   "source": [
    "batch1.printSchema()"
   ]
  },
  {
   "cell_type": "markdown",
   "metadata": {},
   "source": [
    "### Collect recoms into array"
   ]
  },
  {
   "cell_type": "code",
   "execution_count": 156,
   "metadata": {},
   "outputs": [
    {
     "name": "stdout",
     "output_type": "stream",
     "text": [
      "+--------+--------------------+\n",
      "|    item|              recoms|\n",
      "+--------+--------------------+\n",
      "|13078902|[[19415756, 5.0],...|\n",
      "| 1513794|[[29684447, 5.0],...|\n",
      "|15637425|[[4993237, 5.0], ...|\n",
      "| 1574856|[[19083208, 21.0]...|\n",
      "|18574475|[[8265004, 5.0], ...|\n",
      "+--------+--------------------+\n",
      "only showing top 5 rows\n",
      "\n",
      "CPU times: user 8 ms, sys: 0 ns, total: 8 ms\n",
      "Wall time: 20.2 s\n"
     ]
    }
   ],
   "source": [
    "# Group predictions by item and create arrays (recoms, weight)\n",
    "out1 = batch1.groupBy('item').agg(collect_list(array('recoms', 'weight')).alias('recoms'))\n",
    "%time out1.show(5)"
   ]
  },
  {
   "cell_type": "code",
   "execution_count": 85,
   "metadata": {},
   "outputs": [
    {
     "name": "stdout",
     "output_type": "stream",
     "text": [
      "root\n",
      " |-- item: string (nullable = true)\n",
      " |-- recoms: array (nullable = true)\n",
      " |    |-- element: array (containsNull = true)\n",
      " |    |    |-- element: string (containsNull = true)\n",
      "\n"
     ]
    }
   ],
   "source": [
    "# Note that collection to array changed type of weights to string\n",
    "out1.printSchema()"
   ]
  },
  {
   "cell_type": "markdown",
   "metadata": {},
   "source": [
    "## Save batch1 to a Pandas dataframe"
   ]
  },
  {
   "cell_type": "markdown",
   "metadata": {},
   "source": [
    "### Load test_data to Pandas"
   ]
  },
  {
   "cell_type": "code",
   "execution_count": 86,
   "metadata": {},
   "outputs": [
    {
     "data": {
      "text/html": [
       "<div>\n",
       "<style scoped>\n",
       "    .dataframe tbody tr th:only-of-type {\n",
       "        vertical-align: middle;\n",
       "    }\n",
       "\n",
       "    .dataframe tbody tr th {\n",
       "        vertical-align: top;\n",
       "    }\n",
       "\n",
       "    .dataframe thead th {\n",
       "        text-align: right;\n",
       "    }\n",
       "</style>\n",
       "<table border=\"1\" class=\"dataframe\">\n",
       "  <thead>\n",
       "    <tr style=\"text-align: right;\">\n",
       "      <th></th>\n",
       "      <th>0</th>\n",
       "    </tr>\n",
       "  </thead>\n",
       "  <tbody>\n",
       "    <tr>\n",
       "      <th>0</th>\n",
       "      <td>{\"item\": \"28759795\", \"recoms\": null}</td>\n",
       "    </tr>\n",
       "    <tr>\n",
       "      <th>1</th>\n",
       "      <td>{\"item\": \"32712593\", \"recoms\": null}</td>\n",
       "    </tr>\n",
       "    <tr>\n",
       "      <th>2</th>\n",
       "      <td>{\"item\": \"29616882\", \"recoms\": null}</td>\n",
       "    </tr>\n",
       "    <tr>\n",
       "      <th>3</th>\n",
       "      <td>{\"item\": \"6242189\", \"recoms\": null}</td>\n",
       "    </tr>\n",
       "    <tr>\n",
       "      <th>4</th>\n",
       "      <td>{\"item\": \"32663967\", \"recoms\": null}</td>\n",
       "    </tr>\n",
       "  </tbody>\n",
       "</table>\n",
       "</div>"
      ],
      "text/plain": [
       "                                      0\n",
       "0  {\"item\": \"28759795\", \"recoms\": null}\n",
       "1  {\"item\": \"32712593\", \"recoms\": null}\n",
       "2  {\"item\": \"29616882\", \"recoms\": null}\n",
       "3   {\"item\": \"6242189\", \"recoms\": null}\n",
       "4  {\"item\": \"32663967\", \"recoms\": null}"
      ]
     },
     "execution_count": 86,
     "metadata": {},
     "output_type": "execute_result"
    }
   ],
   "source": [
    "# Better load test data to Pandas directly to preserve order\n",
    "df_test = pd.read_csv(\"data/ozon_test.txt\", header=None, sep=\"\\n\")\n",
    "df_test.head()"
   ]
  },
  {
   "cell_type": "code",
   "execution_count": 87,
   "metadata": {},
   "outputs": [
    {
     "data": {
      "text/html": [
       "<div>\n",
       "<style scoped>\n",
       "    .dataframe tbody tr th:only-of-type {\n",
       "        vertical-align: middle;\n",
       "    }\n",
       "\n",
       "    .dataframe tbody tr th {\n",
       "        vertical-align: top;\n",
       "    }\n",
       "\n",
       "    .dataframe thead th {\n",
       "        text-align: right;\n",
       "    }\n",
       "</style>\n",
       "<table border=\"1\" class=\"dataframe\">\n",
       "  <thead>\n",
       "    <tr style=\"text-align: right;\">\n",
       "      <th></th>\n",
       "      <th>item</th>\n",
       "    </tr>\n",
       "  </thead>\n",
       "  <tbody>\n",
       "    <tr>\n",
       "      <th>0</th>\n",
       "      <td>28759795</td>\n",
       "    </tr>\n",
       "    <tr>\n",
       "      <th>1</th>\n",
       "      <td>32712593</td>\n",
       "    </tr>\n",
       "    <tr>\n",
       "      <th>2</th>\n",
       "      <td>29616882</td>\n",
       "    </tr>\n",
       "    <tr>\n",
       "      <th>3</th>\n",
       "      <td>6242189</td>\n",
       "    </tr>\n",
       "    <tr>\n",
       "      <th>4</th>\n",
       "      <td>32663967</td>\n",
       "    </tr>\n",
       "  </tbody>\n",
       "</table>\n",
       "</div>"
      ],
      "text/plain": [
       "       item\n",
       "0  28759795\n",
       "1  32712593\n",
       "2  29616882\n",
       "3   6242189\n",
       "4  32663967"
      ]
     },
     "execution_count": 87,
     "metadata": {},
     "output_type": "execute_result"
    }
   ],
   "source": [
    "# Normalize data to create a dataframe\n",
    "test_data_pd = json_normalize(df_test.loc[:, 0].apply(json.loads))\n",
    "test_data_pd.head()"
   ]
  },
  {
   "cell_type": "markdown",
   "metadata": {},
   "source": [
    "### Save batch1 to Pandas"
   ]
  },
  {
   "cell_type": "code",
   "execution_count": 157,
   "metadata": {},
   "outputs": [
    {
     "name": "stdout",
     "output_type": "stream",
     "text": [
      "CPU times: user 42.4 s, sys: 18.6 s, total: 1min 1s\n",
      "Wall time: 1min 33s\n"
     ]
    },
    {
     "data": {
      "text/html": [
       "<div>\n",
       "<style scoped>\n",
       "    .dataframe tbody tr th:only-of-type {\n",
       "        vertical-align: middle;\n",
       "    }\n",
       "\n",
       "    .dataframe tbody tr th {\n",
       "        vertical-align: top;\n",
       "    }\n",
       "\n",
       "    .dataframe thead th {\n",
       "        text-align: right;\n",
       "    }\n",
       "</style>\n",
       "<table border=\"1\" class=\"dataframe\">\n",
       "  <thead>\n",
       "    <tr style=\"text-align: right;\">\n",
       "      <th></th>\n",
       "      <th>item</th>\n",
       "      <th>recoms</th>\n",
       "    </tr>\n",
       "  </thead>\n",
       "  <tbody>\n",
       "    <tr>\n",
       "      <th>0</th>\n",
       "      <td>13078902</td>\n",
       "      <td>[[4411393, 4.5], [8777322, 4.695652008056641],...</td>\n",
       "    </tr>\n",
       "    <tr>\n",
       "      <th>1</th>\n",
       "      <td>1513794</td>\n",
       "      <td>[[2763322, 1.0], [32674999, 5.0], [5212243, 4....</td>\n",
       "    </tr>\n",
       "  </tbody>\n",
       "</table>\n",
       "</div>"
      ],
      "text/plain": [
       "       item                                             recoms\n",
       "0  13078902  [[4411393, 4.5], [8777322, 4.695652008056641],...\n",
       "1   1513794  [[2763322, 1.0], [32674999, 5.0], [5212243, 4...."
      ]
     },
     "execution_count": 157,
     "metadata": {},
     "output_type": "execute_result"
    }
   ],
   "source": [
    "%time res1 = out1.toPandas()\n",
    "res1.head(2)"
   ]
  },
  {
   "cell_type": "markdown",
   "metadata": {},
   "source": [
    "### Batch1 top100 recoms by weight"
   ]
  },
  {
   "cell_type": "code",
   "execution_count": 158,
   "metadata": {},
   "outputs": [
    {
     "name": "stdout",
     "output_type": "stream",
     "text": [
      "CPU times: user 3min 45s, sys: 40.2 s, total: 4min 25s\n",
      "Wall time: 4min 24s\n"
     ]
    }
   ],
   "source": [
    "# Make dict from recoms, convert weights from string to float and select top100 by weight\n",
    "%time res1['recoms'] = res1['recoms'].apply(dict) \\\n",
    "            .apply(lambda x: dict((k, float(v)) for k,v in x.items())) \\\n",
    "            .apply(lambda x: dict(heapq.nlargest(100, x.items(), key=lambda i: i[1])))"
   ]
  },
  {
   "cell_type": "code",
   "execution_count": 159,
   "metadata": {},
   "outputs": [
    {
     "data": {
      "text/html": [
       "<div>\n",
       "<style scoped>\n",
       "    .dataframe tbody tr th:only-of-type {\n",
       "        vertical-align: middle;\n",
       "    }\n",
       "\n",
       "    .dataframe tbody tr th {\n",
       "        vertical-align: top;\n",
       "    }\n",
       "\n",
       "    .dataframe thead th {\n",
       "        text-align: right;\n",
       "    }\n",
       "</style>\n",
       "<table border=\"1\" class=\"dataframe\">\n",
       "  <thead>\n",
       "    <tr style=\"text-align: right;\">\n",
       "      <th></th>\n",
       "      <th>item</th>\n",
       "      <th>recoms</th>\n",
       "    </tr>\n",
       "  </thead>\n",
       "  <tbody>\n",
       "    <tr>\n",
       "      <th>0</th>\n",
       "      <td>13078902</td>\n",
       "      <td>{'8785535': 88.0, '2692026': 32.0, '8748503': ...</td>\n",
       "    </tr>\n",
       "    <tr>\n",
       "      <th>1</th>\n",
       "      <td>1513794</td>\n",
       "      <td>{'32674999': 5.0, '3784919': 5.0, '19977275': ...</td>\n",
       "    </tr>\n",
       "  </tbody>\n",
       "</table>\n",
       "</div>"
      ],
      "text/plain": [
       "       item                                             recoms\n",
       "0  13078902  {'8785535': 88.0, '2692026': 32.0, '8748503': ...\n",
       "1   1513794  {'32674999': 5.0, '3784919': 5.0, '19977275': ..."
      ]
     },
     "execution_count": 159,
     "metadata": {},
     "output_type": "execute_result"
    }
   ],
   "source": [
    "res1.head(2)"
   ]
  },
  {
   "cell_type": "markdown",
   "metadata": {},
   "source": [
    "### Add batch1 to test_data_pd"
   ]
  },
  {
   "cell_type": "code",
   "execution_count": 160,
   "metadata": {},
   "outputs": [
    {
     "data": {
      "text/html": [
       "<div>\n",
       "<style scoped>\n",
       "    .dataframe tbody tr th:only-of-type {\n",
       "        vertical-align: middle;\n",
       "    }\n",
       "\n",
       "    .dataframe tbody tr th {\n",
       "        vertical-align: top;\n",
       "    }\n",
       "\n",
       "    .dataframe thead th {\n",
       "        text-align: right;\n",
       "    }\n",
       "</style>\n",
       "<table border=\"1\" class=\"dataframe\">\n",
       "  <thead>\n",
       "    <tr style=\"text-align: right;\">\n",
       "      <th></th>\n",
       "      <th>item</th>\n",
       "      <th>recoms</th>\n",
       "    </tr>\n",
       "  </thead>\n",
       "  <tbody>\n",
       "    <tr>\n",
       "      <th>0</th>\n",
       "      <td>28759795</td>\n",
       "      <td>NaN</td>\n",
       "    </tr>\n",
       "    <tr>\n",
       "      <th>1</th>\n",
       "      <td>32712593</td>\n",
       "      <td>NaN</td>\n",
       "    </tr>\n",
       "    <tr>\n",
       "      <th>2</th>\n",
       "      <td>29616882</td>\n",
       "      <td>{'29596054': 227.0, '29596018': 221.0, '295960...</td>\n",
       "    </tr>\n",
       "    <tr>\n",
       "      <th>3</th>\n",
       "      <td>6242189</td>\n",
       "      <td>NaN</td>\n",
       "    </tr>\n",
       "    <tr>\n",
       "      <th>4</th>\n",
       "      <td>32663967</td>\n",
       "      <td>{'32663968': 56.0, '32106864': 40.0, '32486753...</td>\n",
       "    </tr>\n",
       "  </tbody>\n",
       "</table>\n",
       "</div>"
      ],
      "text/plain": [
       "       item                                             recoms\n",
       "0  28759795                                                NaN\n",
       "1  32712593                                                NaN\n",
       "2  29616882  {'29596054': 227.0, '29596018': 221.0, '295960...\n",
       "3   6242189                                                NaN\n",
       "4  32663967  {'32663968': 56.0, '32106864': 40.0, '32486753..."
      ]
     },
     "execution_count": 160,
     "metadata": {},
     "output_type": "execute_result"
    }
   ],
   "source": [
    "# Make sure we have a correct order of items\n",
    "test_data_pd1 = test_data_pd.merge(res1, on='item', how='left')\n",
    "test_data_pd1.head()"
   ]
  },
  {
   "cell_type": "code",
   "execution_count": 161,
   "metadata": {},
   "outputs": [
    {
     "data": {
      "text/plain": [
       "46878"
      ]
     },
     "execution_count": 161,
     "metadata": {},
     "output_type": "execute_result"
    }
   ],
   "source": [
    "test_data_pd1.recoms.count()"
   ]
  },
  {
   "cell_type": "markdown",
   "metadata": {},
   "source": [
    "## Remaining test items after removing batch1"
   ]
  },
  {
   "cell_type": "code",
   "execution_count": 96,
   "metadata": {},
   "outputs": [
    {
     "name": "stdout",
     "output_type": "stream",
     "text": [
      "+---------+--------+------+\n",
      "|test_item|  recoms|weight|\n",
      "+---------+--------+------+\n",
      "| 18555582| 7518812|   5.0|\n",
      "| 18555582|18555590|   3.0|\n",
      "| 18555582| 7518816|   5.0|\n",
      "| 18555582| 3820346|   5.0|\n",
      "| 18555582| 5624460|   5.0|\n",
      "+---------+--------+------+\n",
      "only showing top 5 rows\n",
      "\n",
      "CPU times: user 8 ms, sys: 0 ns, total: 8 ms\n",
      "Wall time: 26.6 s\n"
     ]
    }
   ],
   "source": [
    "pairs_test_rem1 = pairs_test_after_c.join(batch1.select(col('item').name('test_item')), on='test_item', how='left_anti')\n",
    "%time pairs_test_rem1.show(5)"
   ]
  },
  {
   "cell_type": "code",
   "execution_count": 97,
   "metadata": {},
   "outputs": [
    {
     "data": {
      "text/plain": [
       "200"
      ]
     },
     "execution_count": 97,
     "metadata": {},
     "output_type": "execute_result"
    }
   ],
   "source": [
    "pairs_test_rem1.rdd.getNumPartitions()"
   ]
  },
  {
   "cell_type": "code",
   "execution_count": 98,
   "metadata": {},
   "outputs": [],
   "source": [
    "pairs_test_rem1 = pairs_test_rem1.coalesce(8).cache()"
   ]
  },
  {
   "cell_type": "code",
   "execution_count": 99,
   "metadata": {},
   "outputs": [
    {
     "name": "stdout",
     "output_type": "stream",
     "text": [
      "CPU times: user 80 ms, sys: 312 ms, total: 392 ms\n",
      "Wall time: 29.3 s\n"
     ]
    },
    {
     "data": {
      "text/plain": [
       "664584"
      ]
     },
     "execution_count": 99,
     "metadata": {},
     "output_type": "execute_result"
    }
   ],
   "source": [
    "%time pairs_test_rem1.count()"
   ]
  },
  {
   "cell_type": "code",
   "execution_count": 100,
   "metadata": {},
   "outputs": [
    {
     "name": "stdout",
     "output_type": "stream",
     "text": [
      "CPU times: user 4 ms, sys: 0 ns, total: 4 ms\n",
      "Wall time: 2.17 s\n"
     ]
    },
    {
     "data": {
      "text/plain": [
       "13434"
      ]
     },
     "execution_count": 100,
     "metadata": {},
     "output_type": "execute_result"
    }
   ],
   "source": [
    "%time pairs_test_rem1.select('test_item').distinct().count()"
   ]
  },
  {
   "cell_type": "markdown",
   "metadata": {},
   "source": [
    "### Collect remaining recoms (<100 per item) into array"
   ]
  },
  {
   "cell_type": "code",
   "execution_count": 162,
   "metadata": {},
   "outputs": [
    {
     "name": "stdout",
     "output_type": "stream",
     "text": [
      "+--------+--------------------+\n",
      "|    item|              recoms|\n",
      "+--------+--------------------+\n",
      "|18555582|[[18555590, 3.0],...|\n",
      "|19148459|[[32873012, 8.0],...|\n",
      "|19148526|[[32021517, 8.0],...|\n",
      "|19467872|[[7610827, 5.0], ...|\n",
      "|19705179|[[20396906, 1.0],...|\n",
      "+--------+--------------------+\n",
      "only showing top 5 rows\n",
      "\n",
      "CPU times: user 4 ms, sys: 0 ns, total: 4 ms\n",
      "Wall time: 12.8 s\n"
     ]
    }
   ],
   "source": [
    "# Group predictions by item and create arrays (recoms, weight)\n",
    "out_rem1 = pairs_test_rem1.withColumnRenamed('test_item', 'item') \\\n",
    "                    .groupBy('item').agg(collect_list(array('recoms', 'weight')).alias('recoms'))\n",
    "%time out_rem1.show(5)"
   ]
  },
  {
   "cell_type": "markdown",
   "metadata": {},
   "source": [
    "### Save remaining recoms to Pandas"
   ]
  },
  {
   "cell_type": "code",
   "execution_count": 163,
   "metadata": {},
   "outputs": [
    {
     "name": "stdout",
     "output_type": "stream",
     "text": [
      "CPU times: user 496 ms, sys: 80 ms, total: 576 ms\n",
      "Wall time: 1.15 s\n"
     ]
    },
    {
     "data": {
      "text/html": [
       "<div>\n",
       "<style scoped>\n",
       "    .dataframe tbody tr th:only-of-type {\n",
       "        vertical-align: middle;\n",
       "    }\n",
       "\n",
       "    .dataframe tbody tr th {\n",
       "        vertical-align: top;\n",
       "    }\n",
       "\n",
       "    .dataframe thead th {\n",
       "        text-align: right;\n",
       "    }\n",
       "</style>\n",
       "<table border=\"1\" class=\"dataframe\">\n",
       "  <thead>\n",
       "    <tr style=\"text-align: right;\">\n",
       "      <th></th>\n",
       "      <th>item</th>\n",
       "      <th>recoms</th>\n",
       "    </tr>\n",
       "  </thead>\n",
       "  <tbody>\n",
       "    <tr>\n",
       "      <th>0</th>\n",
       "      <td>18555582</td>\n",
       "      <td>[[18555590, 3.0], [7518816, 5.0], [7518819, 5....</td>\n",
       "    </tr>\n",
       "    <tr>\n",
       "      <th>1</th>\n",
       "      <td>19148459</td>\n",
       "      <td>[[32873012, 8.0], [2084565, 3.0], [31227861, 3...</td>\n",
       "    </tr>\n",
       "  </tbody>\n",
       "</table>\n",
       "</div>"
      ],
      "text/plain": [
       "       item                                             recoms\n",
       "0  18555582  [[18555590, 3.0], [7518816, 5.0], [7518819, 5....\n",
       "1  19148459  [[32873012, 8.0], [2084565, 3.0], [31227861, 3..."
      ]
     },
     "execution_count": 163,
     "metadata": {},
     "output_type": "execute_result"
    }
   ],
   "source": [
    "%time res_rem1 = out_rem1.toPandas()\n",
    "res_rem1.head(2)"
   ]
  },
  {
   "cell_type": "markdown",
   "metadata": {},
   "source": [
    "### Transform remaining recoms same way as batch1"
   ]
  },
  {
   "cell_type": "code",
   "execution_count": 164,
   "metadata": {},
   "outputs": [
    {
     "name": "stdout",
     "output_type": "stream",
     "text": [
      "CPU times: user 1.57 s, sys: 284 ms, total: 1.85 s\n",
      "Wall time: 1.85 s\n"
     ]
    },
    {
     "data": {
      "text/html": [
       "<div>\n",
       "<style scoped>\n",
       "    .dataframe tbody tr th:only-of-type {\n",
       "        vertical-align: middle;\n",
       "    }\n",
       "\n",
       "    .dataframe tbody tr th {\n",
       "        vertical-align: top;\n",
       "    }\n",
       "\n",
       "    .dataframe thead th {\n",
       "        text-align: right;\n",
       "    }\n",
       "</style>\n",
       "<table border=\"1\" class=\"dataframe\">\n",
       "  <thead>\n",
       "    <tr style=\"text-align: right;\">\n",
       "      <th></th>\n",
       "      <th>item</th>\n",
       "      <th>recoms</th>\n",
       "    </tr>\n",
       "  </thead>\n",
       "  <tbody>\n",
       "    <tr>\n",
       "      <th>0</th>\n",
       "      <td>18555582</td>\n",
       "      <td>{'7518816': 5.0, '7518819': 5.0, '18555586': 5...</td>\n",
       "    </tr>\n",
       "    <tr>\n",
       "      <th>1</th>\n",
       "      <td>19148459</td>\n",
       "      <td>{'24839584': 128.0, '31879593': 53.0, '3187959...</td>\n",
       "    </tr>\n",
       "  </tbody>\n",
       "</table>\n",
       "</div>"
      ],
      "text/plain": [
       "       item                                             recoms\n",
       "0  18555582  {'7518816': 5.0, '7518819': 5.0, '18555586': 5...\n",
       "1  19148459  {'24839584': 128.0, '31879593': 53.0, '3187959..."
      ]
     },
     "execution_count": 164,
     "metadata": {},
     "output_type": "execute_result"
    }
   ],
   "source": [
    "# Make dict from recoms, convert weights from string to float and select top100 by weight\n",
    "%time res_rem1['recoms'] = res_rem1['recoms'].apply(dict) \\\n",
    "            .apply(lambda x: dict((k, float(v)) for k,v in x.items())) \\\n",
    "            .apply(lambda x: dict(heapq.nlargest(100, x.items(), key=lambda i: i[1])))\n",
    "res_rem1.head(2)"
   ]
  },
  {
   "cell_type": "markdown",
   "metadata": {},
   "source": [
    "### Add remaining records to test_data_pd for submission"
   ]
  },
  {
   "cell_type": "code",
   "execution_count": 165,
   "metadata": {},
   "outputs": [
    {
     "data": {
      "text/html": [
       "<div>\n",
       "<style scoped>\n",
       "    .dataframe tbody tr th:only-of-type {\n",
       "        vertical-align: middle;\n",
       "    }\n",
       "\n",
       "    .dataframe tbody tr th {\n",
       "        vertical-align: top;\n",
       "    }\n",
       "\n",
       "    .dataframe thead th {\n",
       "        text-align: right;\n",
       "    }\n",
       "</style>\n",
       "<table border=\"1\" class=\"dataframe\">\n",
       "  <thead>\n",
       "    <tr style=\"text-align: right;\">\n",
       "      <th></th>\n",
       "      <th>item</th>\n",
       "      <th>recoms</th>\n",
       "    </tr>\n",
       "  </thead>\n",
       "  <tbody>\n",
       "    <tr>\n",
       "      <th>0</th>\n",
       "      <td>28759795</td>\n",
       "      <td>{'31413158': 96.0, '31594180': 88.0, '28759792...</td>\n",
       "    </tr>\n",
       "    <tr>\n",
       "      <th>1</th>\n",
       "      <td>32712593</td>\n",
       "      <td>{'32712245': 112.0, '32712635': 88.0, '3271264...</td>\n",
       "    </tr>\n",
       "    <tr>\n",
       "      <th>2</th>\n",
       "      <td>29616882</td>\n",
       "      <td>NaN</td>\n",
       "    </tr>\n",
       "    <tr>\n",
       "      <th>3</th>\n",
       "      <td>6242189</td>\n",
       "      <td>NaN</td>\n",
       "    </tr>\n",
       "    <tr>\n",
       "      <th>4</th>\n",
       "      <td>32663967</td>\n",
       "      <td>NaN</td>\n",
       "    </tr>\n",
       "  </tbody>\n",
       "</table>\n",
       "</div>"
      ],
      "text/plain": [
       "       item                                             recoms\n",
       "0  28759795  {'31413158': 96.0, '31594180': 88.0, '28759792...\n",
       "1  32712593  {'32712245': 112.0, '32712635': 88.0, '3271264...\n",
       "2  29616882                                                NaN\n",
       "3   6242189                                                NaN\n",
       "4  32663967                                                NaN"
      ]
     },
     "execution_count": 165,
     "metadata": {},
     "output_type": "execute_result"
    }
   ],
   "source": [
    "# Make sure we have a correct order of items\n",
    "test_data_rem1 = test_data_pd.merge(res_rem1, on='item', how='left')\n",
    "test_data_rem1.head()"
   ]
  },
  {
   "cell_type": "code",
   "execution_count": 166,
   "metadata": {},
   "outputs": [
    {
     "data": {
      "text/plain": [
       "13434"
      ]
     },
     "execution_count": 166,
     "metadata": {},
     "output_type": "execute_result"
    }
   ],
   "source": [
    "test_data_rem1.recoms.count()"
   ]
  },
  {
   "cell_type": "code",
   "execution_count": 167,
   "metadata": {},
   "outputs": [
    {
     "data": {
      "text/html": [
       "<div>\n",
       "<style scoped>\n",
       "    .dataframe tbody tr th:only-of-type {\n",
       "        vertical-align: middle;\n",
       "    }\n",
       "\n",
       "    .dataframe tbody tr th {\n",
       "        vertical-align: top;\n",
       "    }\n",
       "\n",
       "    .dataframe thead th {\n",
       "        text-align: right;\n",
       "    }\n",
       "</style>\n",
       "<table border=\"1\" class=\"dataframe\">\n",
       "  <thead>\n",
       "    <tr style=\"text-align: right;\">\n",
       "      <th></th>\n",
       "      <th>item</th>\n",
       "      <th>recoms</th>\n",
       "    </tr>\n",
       "  </thead>\n",
       "  <tbody>\n",
       "    <tr>\n",
       "      <th>0</th>\n",
       "      <td>28759795</td>\n",
       "      <td>{'31413158': 96.0, '31594180': 88.0, '28759792...</td>\n",
       "    </tr>\n",
       "    <tr>\n",
       "      <th>1</th>\n",
       "      <td>32712593</td>\n",
       "      <td>{'32712245': 112.0, '32712635': 88.0, '3271264...</td>\n",
       "    </tr>\n",
       "    <tr>\n",
       "      <th>2</th>\n",
       "      <td>29616882</td>\n",
       "      <td>{'29596054': 227.0, '29596018': 221.0, '295960...</td>\n",
       "    </tr>\n",
       "    <tr>\n",
       "      <th>3</th>\n",
       "      <td>6242189</td>\n",
       "      <td>NaN</td>\n",
       "    </tr>\n",
       "    <tr>\n",
       "      <th>4</th>\n",
       "      <td>32663967</td>\n",
       "      <td>{'32663968': 56.0, '32106864': 40.0, '32486753...</td>\n",
       "    </tr>\n",
       "  </tbody>\n",
       "</table>\n",
       "</div>"
      ],
      "text/plain": [
       "       item                                             recoms\n",
       "0  28759795  {'31413158': 96.0, '31594180': 88.0, '28759792...\n",
       "1  32712593  {'32712245': 112.0, '32712635': 88.0, '3271264...\n",
       "2  29616882  {'29596054': 227.0, '29596018': 221.0, '295960...\n",
       "3   6242189                                                NaN\n",
       "4  32663967  {'32663968': 56.0, '32106864': 40.0, '32486753..."
      ]
     },
     "execution_count": 167,
     "metadata": {},
     "output_type": "execute_result"
    }
   ],
   "source": [
    "test_data_pd1_rem1 = test_data_pd1.combine_first(test_data_rem1)\n",
    "test_data_pd1_rem1.head()"
   ]
  },
  {
   "cell_type": "code",
   "execution_count": 168,
   "metadata": {},
   "outputs": [
    {
     "data": {
      "text/plain": [
       "60312"
      ]
     },
     "execution_count": 168,
     "metadata": {},
     "output_type": "execute_result"
    }
   ],
   "source": [
    "test_data_pd1_rem1.recoms.count()"
   ]
  },
  {
   "cell_type": "markdown",
   "metadata": {},
   "source": [
    "## Popular items can complement pairs"
   ]
  },
  {
   "cell_type": "code",
   "execution_count": 113,
   "metadata": {},
   "outputs": [
    {
     "name": "stdout",
     "output_type": "stream",
     "text": [
      "+--------+--------------------+\n",
      "|    item|              recoms|\n",
      "+--------+--------------------+\n",
      "|13078902|[[32698107, 0.0],...|\n",
      "| 1513794|[[32867052, 0.0],...|\n",
      "|15637425|[[3865066, 4.8076...|\n",
      "| 1574856|[[3865066, 4.8076...|\n",
      "|18555582|[[32538709, 0.0],...|\n",
      "+--------+--------------------+\n",
      "only showing top 5 rows\n",
      "\n",
      "CPU times: user 4 ms, sys: 0 ns, total: 4 ms\n",
      "Wall time: 17.1 s\n"
     ]
    }
   ],
   "source": [
    "# Group predictions by item and create arrays (recoms, weight)\n",
    "out_pop = pairs_test_pop.groupBy(col('test_item').name('item')) \\\n",
    "                                 .agg(collect_list(array('recoms', 'weight')).alias('recoms'))\n",
    "%time out_pop.show(5)"
   ]
  },
  {
   "cell_type": "code",
   "execution_count": 114,
   "metadata": {
    "scrolled": true
   },
   "outputs": [
    {
     "name": "stdout",
     "output_type": "stream",
     "text": [
      "CPU times: user 1.93 s, sys: 524 ms, total: 2.45 s\n",
      "Wall time: 7.56 s\n"
     ]
    },
    {
     "data": {
      "text/html": [
       "<div>\n",
       "<style scoped>\n",
       "    .dataframe tbody tr th:only-of-type {\n",
       "        vertical-align: middle;\n",
       "    }\n",
       "\n",
       "    .dataframe tbody tr th {\n",
       "        vertical-align: top;\n",
       "    }\n",
       "\n",
       "    .dataframe thead th {\n",
       "        text-align: right;\n",
       "    }\n",
       "</style>\n",
       "<table border=\"1\" class=\"dataframe\">\n",
       "  <thead>\n",
       "    <tr style=\"text-align: right;\">\n",
       "      <th></th>\n",
       "      <th>item</th>\n",
       "      <th>recoms</th>\n",
       "    </tr>\n",
       "  </thead>\n",
       "  <tbody>\n",
       "    <tr>\n",
       "      <th>0</th>\n",
       "      <td>13078902</td>\n",
       "      <td>[[5371570, 4.818181818181818], [28656389, 4.44...</td>\n",
       "    </tr>\n",
       "    <tr>\n",
       "      <th>1</th>\n",
       "      <td>1513794</td>\n",
       "      <td>[[33170854, 0.0], [6247843, 4.636363636363637]...</td>\n",
       "    </tr>\n",
       "  </tbody>\n",
       "</table>\n",
       "</div>"
      ],
      "text/plain": [
       "       item                                             recoms\n",
       "0  13078902  [[5371570, 4.818181818181818], [28656389, 4.44...\n",
       "1   1513794  [[33170854, 0.0], [6247843, 4.636363636363637]..."
      ]
     },
     "execution_count": 114,
     "metadata": {},
     "output_type": "execute_result"
    }
   ],
   "source": [
    "%time res_pop = out_pop.toPandas()\n",
    "res_pop.head(2)"
   ]
  },
  {
   "cell_type": "code",
   "execution_count": 115,
   "metadata": {},
   "outputs": [
    {
     "name": "stdout",
     "output_type": "stream",
     "text": [
      "CPU times: user 8.68 s, sys: 400 ms, total: 9.08 s\n",
      "Wall time: 9.04 s\n"
     ]
    },
    {
     "data": {
      "text/html": [
       "<div>\n",
       "<style scoped>\n",
       "    .dataframe tbody tr th:only-of-type {\n",
       "        vertical-align: middle;\n",
       "    }\n",
       "\n",
       "    .dataframe tbody tr th {\n",
       "        vertical-align: top;\n",
       "    }\n",
       "\n",
       "    .dataframe thead th {\n",
       "        text-align: right;\n",
       "    }\n",
       "</style>\n",
       "<table border=\"1\" class=\"dataframe\">\n",
       "  <thead>\n",
       "    <tr style=\"text-align: right;\">\n",
       "      <th></th>\n",
       "      <th>item</th>\n",
       "      <th>recoms</th>\n",
       "    </tr>\n",
       "  </thead>\n",
       "  <tbody>\n",
       "    <tr>\n",
       "      <th>0</th>\n",
       "      <td>13078902</td>\n",
       "      <td>{'32973320': 5.0, '33300866': 5.0, '31012909':...</td>\n",
       "    </tr>\n",
       "    <tr>\n",
       "      <th>1</th>\n",
       "      <td>1513794</td>\n",
       "      <td>{'5559317': 5.0, '30868477': 5.0, '32973320': ...</td>\n",
       "    </tr>\n",
       "  </tbody>\n",
       "</table>\n",
       "</div>"
      ],
      "text/plain": [
       "       item                                             recoms\n",
       "0  13078902  {'32973320': 5.0, '33300866': 5.0, '31012909':...\n",
       "1   1513794  {'5559317': 5.0, '30868477': 5.0, '32973320': ..."
      ]
     },
     "execution_count": 115,
     "metadata": {},
     "output_type": "execute_result"
    }
   ],
   "source": [
    "# Make dict from recoms, convert weights to int and select top100 by weight\n",
    "%time res_pop['recoms'] = res_pop['recoms'].apply(dict) \\\n",
    "            .apply(lambda x: dict((k, float(v)) for k,v in x.items())) \\\n",
    "            .apply(lambda x: dict(heapq.nlargest(100, x.items(), key=lambda i: i[1])))\n",
    "res_pop.head(2)"
   ]
  },
  {
   "cell_type": "markdown",
   "metadata": {},
   "source": [
    "### Add pop items for quick submission after finding common friends and catalog pairs (weights = Rating))"
   ]
  },
  {
   "cell_type": "code",
   "execution_count": 116,
   "metadata": {},
   "outputs": [
    {
     "data": {
      "text/html": [
       "<div>\n",
       "<style scoped>\n",
       "    .dataframe tbody tr th:only-of-type {\n",
       "        vertical-align: middle;\n",
       "    }\n",
       "\n",
       "    .dataframe tbody tr th {\n",
       "        vertical-align: top;\n",
       "    }\n",
       "\n",
       "    .dataframe thead th {\n",
       "        text-align: right;\n",
       "    }\n",
       "</style>\n",
       "<table border=\"1\" class=\"dataframe\">\n",
       "  <thead>\n",
       "    <tr style=\"text-align: right;\">\n",
       "      <th></th>\n",
       "      <th>item</th>\n",
       "      <th>recoms</th>\n",
       "    </tr>\n",
       "  </thead>\n",
       "  <tbody>\n",
       "    <tr>\n",
       "      <th>0</th>\n",
       "      <td>28759795</td>\n",
       "      <td>{'33300839': 5.0, '28906612': 5.0, '32562739':...</td>\n",
       "    </tr>\n",
       "    <tr>\n",
       "      <th>1</th>\n",
       "      <td>32712593</td>\n",
       "      <td>{'32105352': 5.0, '33300839': 5.0, '33300866':...</td>\n",
       "    </tr>\n",
       "    <tr>\n",
       "      <th>2</th>\n",
       "      <td>29616882</td>\n",
       "      <td>{'31012909': 5.0, '25151943': 5.0, '32105352':...</td>\n",
       "    </tr>\n",
       "    <tr>\n",
       "      <th>3</th>\n",
       "      <td>6242189</td>\n",
       "      <td>{'32105352': 5.0, '30868477': 5.0, '5559317': ...</td>\n",
       "    </tr>\n",
       "    <tr>\n",
       "      <th>4</th>\n",
       "      <td>32663967</td>\n",
       "      <td>{'28906612': 5.0, '31012909': 5.0, '30868477':...</td>\n",
       "    </tr>\n",
       "  </tbody>\n",
       "</table>\n",
       "</div>"
      ],
      "text/plain": [
       "       item                                             recoms\n",
       "0  28759795  {'33300839': 5.0, '28906612': 5.0, '32562739':...\n",
       "1  32712593  {'32105352': 5.0, '33300839': 5.0, '33300866':...\n",
       "2  29616882  {'31012909': 5.0, '25151943': 5.0, '32105352':...\n",
       "3   6242189  {'32105352': 5.0, '30868477': 5.0, '5559317': ...\n",
       "4  32663967  {'28906612': 5.0, '31012909': 5.0, '30868477':..."
      ]
     },
     "execution_count": 116,
     "metadata": {},
     "output_type": "execute_result"
    }
   ],
   "source": [
    "# Make sure we have a correct order of items\n",
    "test_data_pd_pop = test_data_pd.merge(res_pop, on='item', how='left')\n",
    "test_data_pd_pop.head()"
   ]
  },
  {
   "cell_type": "code",
   "execution_count": 144,
   "metadata": {},
   "outputs": [
    {
     "data": {
      "text/html": [
       "<div>\n",
       "<style scoped>\n",
       "    .dataframe tbody tr th:only-of-type {\n",
       "        vertical-align: middle;\n",
       "    }\n",
       "\n",
       "    .dataframe tbody tr th {\n",
       "        vertical-align: top;\n",
       "    }\n",
       "\n",
       "    .dataframe thead th {\n",
       "        text-align: right;\n",
       "    }\n",
       "</style>\n",
       "<table border=\"1\" class=\"dataframe\">\n",
       "  <thead>\n",
       "    <tr style=\"text-align: right;\">\n",
       "      <th></th>\n",
       "      <th>item</th>\n",
       "      <th>recoms</th>\n",
       "    </tr>\n",
       "  </thead>\n",
       "  <tbody>\n",
       "    <tr>\n",
       "      <th>0</th>\n",
       "      <td>28759795</td>\n",
       "      <td>{'31413158': 96.0, '31594180': 88.0, '28759792...</td>\n",
       "    </tr>\n",
       "    <tr>\n",
       "      <th>1</th>\n",
       "      <td>32712593</td>\n",
       "      <td>{'32712245': 112.0, '32712585': 96.0, '3271263...</td>\n",
       "    </tr>\n",
       "    <tr>\n",
       "      <th>2</th>\n",
       "      <td>29616882</td>\n",
       "      <td>{'29596054': 227.0, '29596037': 200.0, '295961...</td>\n",
       "    </tr>\n",
       "    <tr>\n",
       "      <th>3</th>\n",
       "      <td>6242189</td>\n",
       "      <td>{'32105352': 5.0, '30868477': 5.0, '5559317': ...</td>\n",
       "    </tr>\n",
       "    <tr>\n",
       "      <th>4</th>\n",
       "      <td>32663967</td>\n",
       "      <td>{'32663968': 56.0, '32106864': 40.0, '32486753...</td>\n",
       "    </tr>\n",
       "  </tbody>\n",
       "</table>\n",
       "</div>"
      ],
      "text/plain": [
       "       item                                             recoms\n",
       "0  28759795  {'31413158': 96.0, '31594180': 88.0, '28759792...\n",
       "1  32712593  {'32712245': 112.0, '32712585': 96.0, '3271263...\n",
       "2  29616882  {'29596054': 227.0, '29596037': 200.0, '295961...\n",
       "3   6242189  {'32105352': 5.0, '30868477': 5.0, '5559317': ...\n",
       "4  32663967  {'32663968': 56.0, '32106864': 40.0, '32486753..."
      ]
     },
     "execution_count": 144,
     "metadata": {},
     "output_type": "execute_result"
    }
   ],
   "source": [
    "test_data_pd1_rem1_pop = test_data_pd1_rem1.combine_first(test_data_pd_pop)\n",
    "test_data_pd1_rem1_pop.head()"
   ]
  },
  {
   "cell_type": "code",
   "execution_count": 145,
   "metadata": {},
   "outputs": [
    {
     "data": {
      "text/plain": [
       "60956"
      ]
     },
     "execution_count": 145,
     "metadata": {},
     "output_type": "execute_result"
    }
   ],
   "source": [
    "test_data_pd1_rem1_pop.recoms.count()"
   ]
  },
  {
   "cell_type": "markdown",
   "metadata": {},
   "source": [
    "### Save to submission file (optional)"
   ]
  },
  {
   "cell_type": "code",
   "execution_count": 146,
   "metadata": {},
   "outputs": [
    {
     "name": "stdout",
     "output_type": "stream",
     "text": [
      "CPU times: user 1.18 s, sys: 0 ns, total: 1.18 s\n",
      "Wall time: 1.19 s\n"
     ]
    }
   ],
   "source": [
    "# Write predictions to file\n",
    "%time output = test_data_pd1_rem1_pop.to_dict(orient='records')\n",
    "with open('../project02.txt', 'w') as f:\n",
    "    for i in output:\n",
    "        f.write(json.dumps(i) + '\\n')"
   ]
  },
  {
   "cell_type": "markdown",
   "metadata": {},
   "source": [
    "## !!! Result from friends and catalogs - 0.2285 (2019-06-25 17:52) => Further experiments (not finished) - search for more pairs from path_data and parent_id to improve the result"
   ]
  },
  {
   "cell_type": "markdown",
   "metadata": {},
   "source": [
    "## Idea 3: Join test items with common path items"
   ]
  },
  {
   "cell_type": "markdown",
   "metadata": {},
   "source": [
    "### Join path data with catalog data to get itemid"
   ]
  },
  {
   "cell_type": "code",
   "execution_count": 153,
   "metadata": {},
   "outputs": [
    {
     "name": "stdout",
     "output_type": "stream",
     "text": [
      "CPU times: user 4 ms, sys: 0 ns, total: 4 ms\n",
      "Wall time: 11.1 s\n"
     ]
    },
    {
     "data": {
      "text/plain": [
       "54504"
      ]
     },
     "execution_count": 153,
     "metadata": {},
     "output_type": "execute_result"
    }
   ],
   "source": [
    "%time path.count()"
   ]
  },
  {
   "cell_type": "code",
   "execution_count": 169,
   "metadata": {},
   "outputs": [
    {
     "name": "stdout",
     "output_type": "stream",
     "text": [
      "+---------+--------+--------+--------+--------------------+--------+\n",
      "|catalogid|path1_id|path2_id|path3_id|            path_txt|  itemid|\n",
      "+---------+--------+--------+--------+--------------------+--------+\n",
      "|  1139010| 1139001| 1137932| 1137924| Словари    Испан...|26881367|\n",
      "|  1140991| 1140889| 1140879| 1132527| Исторические ром...|31587713|\n",
      "|  1134295| 1134293| 1132524|    null|Женская обувь Обу...|17425282|\n",
      "|  1138615| 1138564| 1138364| 1138260|Общие работы по в...| 6907117|\n",
      "|  1144454| 1139735| 1139704| 1139697| Другие иностранн...| 7868912|\n",
      "+---------+--------+--------+--------+--------------------+--------+\n",
      "only showing top 5 rows\n",
      "\n",
      "CPU times: user 0 ns, sys: 0 ns, total: 0 ns\n",
      "Wall time: 2.11 s\n"
     ]
    }
   ],
   "source": [
    "path_items = path.join(catalog_data, on='catalogid', how='left_outer') \\\n",
    "                 .filter('itemid is not null')\n",
    "%time path_items.show(5)"
   ]
  },
  {
   "cell_type": "code",
   "execution_count": 158,
   "metadata": {},
   "outputs": [
    {
     "name": "stdout",
     "output_type": "stream",
     "text": [
      "CPU times: user 0 ns, sys: 0 ns, total: 0 ns\n",
      "Wall time: 8.32 s\n"
     ]
    },
    {
     "data": {
      "text/plain": [
       "10382286"
      ]
     },
     "execution_count": 158,
     "metadata": {},
     "output_type": "execute_result"
    }
   ],
   "source": [
    "%time path_items.filter('itemid is not null').count()"
   ]
  },
  {
   "cell_type": "markdown",
   "metadata": {},
   "source": [
    "### Join the remaining paired test items with path data"
   ]
  },
  {
   "cell_type": "code",
   "execution_count": 171,
   "metadata": {},
   "outputs": [
    {
     "name": "stdout",
     "output_type": "stream",
     "text": [
      "+---------+---------+--------+------+--------+--------+--------+--------------------+\n",
      "|catalogid|test_item|  recoms|weight|path1_id|path2_id|path3_id|            path_txt|\n",
      "+---------+---------+--------+------+--------+--------+--------+--------------------+\n",
      "|  1140682|  5471998| 2390668|   5.0| 1140575| 1139698| 1139697|Литературоведение...|\n",
      "|  1178128| 31696989| 7288533|   4.5| 1159332| 1159330| 1145489|Леска, плетеный ш...|\n",
      "|  1139655|  5197692|18089356|   5.0| 1139615| 1139545| 1137925|Напитки и коктейл...|\n",
      "|  1134295| 30605019|31782898|   5.0| 1134293| 1132524|    null|Женская обувь Обу...|\n",
      "|  1139633|  1574808| 3758115|   4.5| 1139545| 1137925| 1137924|Мясо. Птица. Пель...|\n",
      "+---------+---------+--------+------+--------+--------+--------+--------------------+\n",
      "only showing top 5 rows\n",
      "\n",
      "CPU times: user 4 ms, sys: 0 ns, total: 4 ms\n",
      "Wall time: 5.4 s\n"
     ]
    }
   ],
   "source": [
    "pairs_test_p = pairs_test_rem1.join(catalog_data.select(col('itemid').name('test_item'), 'catalogid'), \\\n",
    "                                    on='test_item', how='left_outer') \\\n",
    "                              .join(path, on='catalogid', how='left_outer') \\\n",
    "                              .dropDuplicates() \\\n",
    "                              .filter('path1_id is not null')\n",
    "%time pairs_test_p.show(5)"
   ]
  },
  {
   "cell_type": "code",
   "execution_count": 172,
   "metadata": {},
   "outputs": [
    {
     "data": {
      "text/plain": [
       "200"
      ]
     },
     "execution_count": 172,
     "metadata": {},
     "output_type": "execute_result"
    }
   ],
   "source": [
    "pairs_test_p.rdd.getNumPartitions()"
   ]
  },
  {
   "cell_type": "code",
   "execution_count": 173,
   "metadata": {},
   "outputs": [],
   "source": [
    "pairs_test_p = pairs_test_p.coalesce(20).cache()"
   ]
  },
  {
   "cell_type": "code",
   "execution_count": 194,
   "metadata": {},
   "outputs": [
    {
     "name": "stdout",
     "output_type": "stream",
     "text": [
      "CPU times: user 0 ns, sys: 0 ns, total: 0 ns\n",
      "Wall time: 725 ms\n"
     ]
    },
    {
     "data": {
      "text/plain": [
       "719901"
      ]
     },
     "execution_count": 194,
     "metadata": {},
     "output_type": "execute_result"
    }
   ],
   "source": [
    "%time pairs_test_p.count()"
   ]
  },
  {
   "cell_type": "markdown",
   "metadata": {},
   "source": [
    "#### Note: some of rem1 items have been filtered out with path1=null !!!"
   ]
  },
  {
   "cell_type": "code",
   "execution_count": 198,
   "metadata": {},
   "outputs": [
    {
     "name": "stdout",
     "output_type": "stream",
     "text": [
      "CPU times: user 0 ns, sys: 0 ns, total: 0 ns\n",
      "Wall time: 1.74 s\n"
     ]
    },
    {
     "data": {
      "text/plain": [
       "12387"
      ]
     },
     "execution_count": 198,
     "metadata": {},
     "output_type": "execute_result"
    }
   ],
   "source": [
    "%time pairs_test_p.select('test_item').distinct().count()"
   ]
  },
  {
   "cell_type": "markdown",
   "metadata": {},
   "source": [
    "### Join remaining test items with path items to find pairs in same path1"
   ]
  },
  {
   "cell_type": "code",
   "execution_count": 177,
   "metadata": {},
   "outputs": [
    {
     "name": "stdout",
     "output_type": "stream",
     "text": [
      "+--------+--------+---------+------+\n",
      "|  itemid|path1_id|test_item|rating|\n",
      "+--------+--------+---------+------+\n",
      "|19968199| 1082047| 32364892|   2.0|\n",
      "| 7382372| 1082047| 32364892|   2.5|\n",
      "| 5594059| 1082047| 32364892|   2.5|\n",
      "|13645326| 1082047| 32364892|   2.5|\n",
      "|21386832| 1082047| 32364892|   2.5|\n",
      "+--------+--------+---------+------+\n",
      "only showing top 5 rows\n",
      "\n",
      "CPU times: user 4 ms, sys: 0 ns, total: 4 ms\n",
      "Wall time: 4.34 s\n"
     ]
    }
   ],
   "source": [
    "pairs_test_p1 = pairs_test_p.select('test_item', 'path1_id').dropDuplicates() \\\n",
    "                    .join(path_items.select('path1_id', 'itemid'), on='path1_id', how='left_outer') \\\n",
    "                    .dropDuplicates() \\\n",
    "                    .join(rating_data, on='itemid', how='left_outer') \\\n",
    "                    .filter('rating is not null') \\\n",
    "                    .withColumn('rating', col('rating')/2)\n",
    "%time pairs_test_p1.show(5)"
   ]
  },
  {
   "cell_type": "code",
   "execution_count": 178,
   "metadata": {},
   "outputs": [
    {
     "data": {
      "text/plain": [
       "200"
      ]
     },
     "execution_count": 178,
     "metadata": {},
     "output_type": "execute_result"
    }
   ],
   "source": [
    "pairs_test_p1.rdd.getNumPartitions()"
   ]
  },
  {
   "cell_type": "code",
   "execution_count": 184,
   "metadata": {},
   "outputs": [],
   "source": [
    "pairs_test_p1 = pairs_test_p1.coalesce(8).cache()"
   ]
  },
  {
   "cell_type": "code",
   "execution_count": 179,
   "metadata": {},
   "outputs": [
    {
     "name": "stdout",
     "output_type": "stream",
     "text": [
      "+---------+--------+--------+------+\n",
      "|test_item|  itemid|path1_id|rating|\n",
      "+---------+--------+--------+------+\n",
      "|  1027248| 4289401| 1139449|   2.5|\n",
      "|  1027248| 4541564| 1139449|   1.5|\n",
      "|  1049388| 6842077| 1138616|   2.5|\n",
      "|  1049388| 8791488| 1138616|   2.5|\n",
      "| 10620657|24838404| 1160069|   1.5|\n",
      "+---------+--------+--------+------+\n",
      "only showing top 5 rows\n",
      "\n"
     ]
    }
   ],
   "source": [
    "# remove duplicates with items found by catalogid\n",
    "pairs_test_p1 = pairs_test_p1.join(pairs_test_p.select('test_item', col('recoms').name('itemid')), \\\n",
    "                                   on=['test_item', 'itemid'], how='left_anti')\n",
    "%time pairs_test_p1.show(5)"
   ]
  },
  {
   "cell_type": "code",
   "execution_count": 185,
   "metadata": {},
   "outputs": [
    {
     "name": "stdout",
     "output_type": "stream",
     "text": [
      "CPU times: user 452 ms, sys: 144 ms, total: 596 ms\n",
      "Wall time: 56min 17s\n"
     ]
    },
    {
     "data": {
      "text/plain": [
       "6801916"
      ]
     },
     "execution_count": 185,
     "metadata": {},
     "output_type": "execute_result"
    }
   ],
   "source": [
    "%time pairs_test_p1.count()"
   ]
  },
  {
   "cell_type": "code",
   "execution_count": 201,
   "metadata": {},
   "outputs": [
    {
     "name": "stdout",
     "output_type": "stream",
     "text": [
      "+---------+--------+-----------------+\n",
      "|test_item|  recoms|           weight|\n",
      "+---------+--------+-----------------+\n",
      "| 18555582|19944594|              5.0|\n",
      "| 18555582| 5432548|4.333333492279053|\n",
      "| 18555582|20181397|              3.5|\n",
      "| 18555582| 7628405|              3.0|\n",
      "| 18555582|20181398|              4.0|\n",
      "+---------+--------+-----------------+\n",
      "only showing top 5 rows\n",
      "\n",
      "CPU times: user 0 ns, sys: 0 ns, total: 0 ns\n",
      "Wall time: 397 ms\n"
     ]
    }
   ],
   "source": [
    "# Union remaining pairs and new recoms from path1\n",
    "pairs_test_p11 = pairs_test_rem1.union(pairs_test_p1.select('test_item', \\\n",
    "                                                            col('itemid').name('recoms'), \\\n",
    "                                                            col('rating').name('weight')))\n",
    "%time pairs_test_p11.show(5)"
   ]
  },
  {
   "cell_type": "code",
   "execution_count": 204,
   "metadata": {},
   "outputs": [
    {
     "name": "stdout",
     "output_type": "stream",
     "text": [
      "CPU times: user 0 ns, sys: 4 ms, total: 4 ms\n",
      "Wall time: 1.61 s\n"
     ]
    },
    {
     "data": {
      "text/plain": [
       "13434"
      ]
     },
     "execution_count": 204,
     "metadata": {},
     "output_type": "execute_result"
    }
   ],
   "source": [
    "%time pairs_test_p11.select('test_item').distinct().count()"
   ]
  },
  {
   "cell_type": "code",
   "execution_count": 203,
   "metadata": {},
   "outputs": [
    {
     "name": "stdout",
     "output_type": "stream",
     "text": [
      "CPU times: user 4 ms, sys: 0 ns, total: 4 ms\n",
      "Wall time: 3.99 s\n"
     ]
    },
    {
     "data": {
      "text/plain": [
       "9813"
      ]
     },
     "execution_count": 203,
     "metadata": {},
     "output_type": "execute_result"
    }
   ],
   "source": [
    "# Number of test items with num recoms>100\n",
    "%time pairs_test_p11.groupBy('test_item').agg(collect_list('recoms').name('recoms')) \\\n",
    "                .withColumn('num_recoms', size('recoms')).filter('num_recoms >= 100').count()"
   ]
  },
  {
   "cell_type": "markdown",
   "metadata": {},
   "source": [
    "### Collect path recoms into array"
   ]
  },
  {
   "cell_type": "code",
   "execution_count": 205,
   "metadata": {},
   "outputs": [
    {
     "name": "stdout",
     "output_type": "stream",
     "text": [
      "+--------+--------------------+\n",
      "|    item|              recoms|\n",
      "+--------+--------------------+\n",
      "|18555582|[[26185096, 2.25]...|\n",
      "|19148459|[[29810969, 2.5],...|\n",
      "|19148526|[[5532376, 1.5], ...|\n",
      "|19467872|[[7330063, 1.5], ...|\n",
      "|19705179|[[27865407, 2.5],...|\n",
      "+--------+--------------------+\n",
      "only showing top 5 rows\n",
      "\n",
      "CPU times: user 0 ns, sys: 0 ns, total: 0 ns\n",
      "Wall time: 3.87 s\n"
     ]
    }
   ],
   "source": [
    "# Group predictions by item and create arrays (recoms, weight)\n",
    "out_p1 = pairs_test_p11.withColumnRenamed('test_item', 'item') \\\n",
    "                    .groupBy('item').agg(collect_list(array('recoms', 'weight')).alias('recoms'))\n",
    "%time out_p1.show(5)"
   ]
  },
  {
   "cell_type": "markdown",
   "metadata": {},
   "source": [
    "### Save path recoms to Pandas"
   ]
  },
  {
   "cell_type": "code",
   "execution_count": 206,
   "metadata": {},
   "outputs": [
    {
     "name": "stdout",
     "output_type": "stream",
     "text": [
      "CPU times: user 3.6 s, sys: 812 ms, total: 4.41 s\n",
      "Wall time: 14.7 s\n"
     ]
    },
    {
     "data": {
      "text/html": [
       "<div>\n",
       "<style scoped>\n",
       "    .dataframe tbody tr th:only-of-type {\n",
       "        vertical-align: middle;\n",
       "    }\n",
       "\n",
       "    .dataframe tbody tr th {\n",
       "        vertical-align: top;\n",
       "    }\n",
       "\n",
       "    .dataframe thead th {\n",
       "        text-align: right;\n",
       "    }\n",
       "</style>\n",
       "<table border=\"1\" class=\"dataframe\">\n",
       "  <thead>\n",
       "    <tr style=\"text-align: right;\">\n",
       "      <th></th>\n",
       "      <th>item</th>\n",
       "      <th>recoms</th>\n",
       "    </tr>\n",
       "  </thead>\n",
       "  <tbody>\n",
       "    <tr>\n",
       "      <th>0</th>\n",
       "      <td>18555582</td>\n",
       "      <td>[[27796721, 2.5], [24055618, 2.5], [26185099, ...</td>\n",
       "    </tr>\n",
       "    <tr>\n",
       "      <th>1</th>\n",
       "      <td>19148459</td>\n",
       "      <td>[[24708765, 2.5], [26418904, 2.5], [29810991, ...</td>\n",
       "    </tr>\n",
       "  </tbody>\n",
       "</table>\n",
       "</div>"
      ],
      "text/plain": [
       "       item                                             recoms\n",
       "0  18555582  [[27796721, 2.5], [24055618, 2.5], [26185099, ...\n",
       "1  19148459  [[24708765, 2.5], [26418904, 2.5], [29810991, ..."
      ]
     },
     "execution_count": 206,
     "metadata": {},
     "output_type": "execute_result"
    }
   ],
   "source": [
    "%time res_p1 = out_p1.toPandas()\n",
    "res_p1.head(2)"
   ]
  },
  {
   "cell_type": "markdown",
   "metadata": {},
   "source": [
    "### Transform path recoms same way as batch1"
   ]
  },
  {
   "cell_type": "code",
   "execution_count": 207,
   "metadata": {},
   "outputs": [
    {
     "name": "stdout",
     "output_type": "stream",
     "text": [
      "CPU times: user 17 s, sys: 1.95 s, total: 19 s\n",
      "Wall time: 18.9 s\n"
     ]
    },
    {
     "data": {
      "text/html": [
       "<div>\n",
       "<style scoped>\n",
       "    .dataframe tbody tr th:only-of-type {\n",
       "        vertical-align: middle;\n",
       "    }\n",
       "\n",
       "    .dataframe tbody tr th {\n",
       "        vertical-align: top;\n",
       "    }\n",
       "\n",
       "    .dataframe thead th {\n",
       "        text-align: right;\n",
       "    }\n",
       "</style>\n",
       "<table border=\"1\" class=\"dataframe\">\n",
       "  <thead>\n",
       "    <tr style=\"text-align: right;\">\n",
       "      <th></th>\n",
       "      <th>item</th>\n",
       "      <th>recoms</th>\n",
       "    </tr>\n",
       "  </thead>\n",
       "  <tbody>\n",
       "    <tr>\n",
       "      <th>0</th>\n",
       "      <td>18555582</td>\n",
       "      <td>{'19944594': 5.0, '7518810': 5.0, '3820346': 5...</td>\n",
       "    </tr>\n",
       "    <tr>\n",
       "      <th>1</th>\n",
       "      <td>19148459</td>\n",
       "      <td>{'24839584': 128.0, '19967396': 69.0, '3187959...</td>\n",
       "    </tr>\n",
       "  </tbody>\n",
       "</table>\n",
       "</div>"
      ],
      "text/plain": [
       "       item                                             recoms\n",
       "0  18555582  {'19944594': 5.0, '7518810': 5.0, '3820346': 5...\n",
       "1  19148459  {'24839584': 128.0, '19967396': 69.0, '3187959..."
      ]
     },
     "execution_count": 207,
     "metadata": {},
     "output_type": "execute_result"
    }
   ],
   "source": [
    "# Make dict from recoms, convert weights from string to float and select top100 by weight\n",
    "%time res_p1['recoms'] = res_p1['recoms'].apply(dict) \\\n",
    "            .apply(lambda x: dict((k, float(v)) for k,v in x.items())) \\\n",
    "            .apply(lambda x: dict(heapq.nlargest(100, x.items(), key=lambda i: i[1])))\n",
    "res_p1.head(2)"
   ]
  },
  {
   "cell_type": "markdown",
   "metadata": {},
   "source": [
    "### Add path records to test_data_pd for submission"
   ]
  },
  {
   "cell_type": "code",
   "execution_count": 208,
   "metadata": {},
   "outputs": [
    {
     "data": {
      "text/html": [
       "<div>\n",
       "<style scoped>\n",
       "    .dataframe tbody tr th:only-of-type {\n",
       "        vertical-align: middle;\n",
       "    }\n",
       "\n",
       "    .dataframe tbody tr th {\n",
       "        vertical-align: top;\n",
       "    }\n",
       "\n",
       "    .dataframe thead th {\n",
       "        text-align: right;\n",
       "    }\n",
       "</style>\n",
       "<table border=\"1\" class=\"dataframe\">\n",
       "  <thead>\n",
       "    <tr style=\"text-align: right;\">\n",
       "      <th></th>\n",
       "      <th>item</th>\n",
       "      <th>recoms</th>\n",
       "    </tr>\n",
       "  </thead>\n",
       "  <tbody>\n",
       "    <tr>\n",
       "      <th>0</th>\n",
       "      <td>28759795</td>\n",
       "      <td>{'28759817': 208.0, '31413158': 96.0, '3159418...</td>\n",
       "    </tr>\n",
       "    <tr>\n",
       "      <th>1</th>\n",
       "      <td>32712593</td>\n",
       "      <td>{'32712245': 112.0, '32712585': 96.0, '3271263...</td>\n",
       "    </tr>\n",
       "    <tr>\n",
       "      <th>2</th>\n",
       "      <td>29616882</td>\n",
       "      <td>NaN</td>\n",
       "    </tr>\n",
       "    <tr>\n",
       "      <th>3</th>\n",
       "      <td>6242189</td>\n",
       "      <td>NaN</td>\n",
       "    </tr>\n",
       "    <tr>\n",
       "      <th>4</th>\n",
       "      <td>32663967</td>\n",
       "      <td>NaN</td>\n",
       "    </tr>\n",
       "  </tbody>\n",
       "</table>\n",
       "</div>"
      ],
      "text/plain": [
       "       item                                             recoms\n",
       "0  28759795  {'28759817': 208.0, '31413158': 96.0, '3159418...\n",
       "1  32712593  {'32712245': 112.0, '32712585': 96.0, '3271263...\n",
       "2  29616882                                                NaN\n",
       "3   6242189                                                NaN\n",
       "4  32663967                                                NaN"
      ]
     },
     "execution_count": 208,
     "metadata": {},
     "output_type": "execute_result"
    }
   ],
   "source": [
    "# Make sure we have a correct order of items\n",
    "test_data_p1 = test_data_pd.merge(res_p1, on='item', how='left')\n",
    "test_data_p1.head()"
   ]
  },
  {
   "cell_type": "code",
   "execution_count": 209,
   "metadata": {},
   "outputs": [
    {
     "data": {
      "text/html": [
       "<div>\n",
       "<style scoped>\n",
       "    .dataframe tbody tr th:only-of-type {\n",
       "        vertical-align: middle;\n",
       "    }\n",
       "\n",
       "    .dataframe tbody tr th {\n",
       "        vertical-align: top;\n",
       "    }\n",
       "\n",
       "    .dataframe thead th {\n",
       "        text-align: right;\n",
       "    }\n",
       "</style>\n",
       "<table border=\"1\" class=\"dataframe\">\n",
       "  <thead>\n",
       "    <tr style=\"text-align: right;\">\n",
       "      <th></th>\n",
       "      <th>item</th>\n",
       "      <th>recoms</th>\n",
       "    </tr>\n",
       "  </thead>\n",
       "  <tbody>\n",
       "    <tr>\n",
       "      <th>0</th>\n",
       "      <td>28759795</td>\n",
       "      <td>{'28759817': 208.0, '31413158': 96.0, '3159418...</td>\n",
       "    </tr>\n",
       "    <tr>\n",
       "      <th>1</th>\n",
       "      <td>32712593</td>\n",
       "      <td>{'32712245': 112.0, '32712585': 96.0, '3271263...</td>\n",
       "    </tr>\n",
       "    <tr>\n",
       "      <th>2</th>\n",
       "      <td>29616882</td>\n",
       "      <td>{'29596054': 227.0, '29596018': 221.0, '295960...</td>\n",
       "    </tr>\n",
       "    <tr>\n",
       "      <th>3</th>\n",
       "      <td>6242189</td>\n",
       "      <td>NaN</td>\n",
       "    </tr>\n",
       "    <tr>\n",
       "      <th>4</th>\n",
       "      <td>32663967</td>\n",
       "      <td>{'32663968': 56.0, '32106864': 40.0, '32486753...</td>\n",
       "    </tr>\n",
       "  </tbody>\n",
       "</table>\n",
       "</div>"
      ],
      "text/plain": [
       "       item                                             recoms\n",
       "0  28759795  {'28759817': 208.0, '31413158': 96.0, '3159418...\n",
       "1  32712593  {'32712245': 112.0, '32712585': 96.0, '3271263...\n",
       "2  29616882  {'29596054': 227.0, '29596018': 221.0, '295960...\n",
       "3   6242189                                                NaN\n",
       "4  32663967  {'32663968': 56.0, '32106864': 40.0, '32486753..."
      ]
     },
     "execution_count": 209,
     "metadata": {},
     "output_type": "execute_result"
    }
   ],
   "source": [
    "test_data_pd1_p1 = test_data_pd1.combine_first(test_data_p1)\n",
    "test_data_pd1_p1.head()"
   ]
  },
  {
   "cell_type": "code",
   "execution_count": 210,
   "metadata": {},
   "outputs": [
    {
     "data": {
      "text/plain": [
       "60312"
      ]
     },
     "execution_count": 210,
     "metadata": {},
     "output_type": "execute_result"
    }
   ],
   "source": [
    "test_data_pd1_p1.recoms.count()"
   ]
  },
  {
   "cell_type": "markdown",
   "metadata": {},
   "source": [
    "### Add pop items for correct number of rows (or add tail below before pop!!!)"
   ]
  },
  {
   "cell_type": "code",
   "execution_count": 239,
   "metadata": {},
   "outputs": [
    {
     "data": {
      "text/html": [
       "<div>\n",
       "<style scoped>\n",
       "    .dataframe tbody tr th:only-of-type {\n",
       "        vertical-align: middle;\n",
       "    }\n",
       "\n",
       "    .dataframe tbody tr th {\n",
       "        vertical-align: top;\n",
       "    }\n",
       "\n",
       "    .dataframe thead th {\n",
       "        text-align: right;\n",
       "    }\n",
       "</style>\n",
       "<table border=\"1\" class=\"dataframe\">\n",
       "  <thead>\n",
       "    <tr style=\"text-align: right;\">\n",
       "      <th></th>\n",
       "      <th>item</th>\n",
       "      <th>recoms</th>\n",
       "    </tr>\n",
       "  </thead>\n",
       "  <tbody>\n",
       "    <tr>\n",
       "      <th>0</th>\n",
       "      <td>28759795</td>\n",
       "      <td>{'28759817': 208.0, '31413158': 96.0, '3159418...</td>\n",
       "    </tr>\n",
       "    <tr>\n",
       "      <th>1</th>\n",
       "      <td>32712593</td>\n",
       "      <td>{'32712245': 112.0, '32712585': 96.0, '3271263...</td>\n",
       "    </tr>\n",
       "    <tr>\n",
       "      <th>2</th>\n",
       "      <td>29616882</td>\n",
       "      <td>{'29596054': 227.0, '29596018': 221.0, '295960...</td>\n",
       "    </tr>\n",
       "    <tr>\n",
       "      <th>3</th>\n",
       "      <td>6242189</td>\n",
       "      <td>{'32105352': 5.0, '30868477': 5.0, '5559317': ...</td>\n",
       "    </tr>\n",
       "    <tr>\n",
       "      <th>4</th>\n",
       "      <td>32663967</td>\n",
       "      <td>{'32663968': 56.0, '32106864': 40.0, '32486753...</td>\n",
       "    </tr>\n",
       "  </tbody>\n",
       "</table>\n",
       "</div>"
      ],
      "text/plain": [
       "       item                                             recoms\n",
       "0  28759795  {'28759817': 208.0, '31413158': 96.0, '3159418...\n",
       "1  32712593  {'32712245': 112.0, '32712585': 96.0, '3271263...\n",
       "2  29616882  {'29596054': 227.0, '29596018': 221.0, '295960...\n",
       "3   6242189  {'32105352': 5.0, '30868477': 5.0, '5559317': ...\n",
       "4  32663967  {'32663968': 56.0, '32106864': 40.0, '32486753..."
      ]
     },
     "execution_count": 239,
     "metadata": {},
     "output_type": "execute_result"
    }
   ],
   "source": [
    "test_data_pd1_p1_pop = test_data_pd1_p1.combine_first(test_data_pd_pop)\n",
    "test_data_pd1_p1_pop.head()"
   ]
  },
  {
   "cell_type": "code",
   "execution_count": 240,
   "metadata": {},
   "outputs": [
    {
     "data": {
      "text/plain": [
       "60956"
      ]
     },
     "execution_count": 240,
     "metadata": {},
     "output_type": "execute_result"
    }
   ],
   "source": [
    "test_data_pd1_p1_pop.recoms.count()"
   ]
  },
  {
   "cell_type": "markdown",
   "metadata": {},
   "source": [
    "### Save path recoms to submission file (optional)"
   ]
  },
  {
   "cell_type": "code",
   "execution_count": 241,
   "metadata": {},
   "outputs": [
    {
     "name": "stdout",
     "output_type": "stream",
     "text": [
      "CPU times: user 1.16 s, sys: 68 ms, total: 1.22 s\n",
      "Wall time: 1.22 s\n"
     ]
    }
   ],
   "source": [
    "# Write predictions to file\n",
    "%time output = test_data_pd1_p1_pop.to_dict(orient='records')\n",
    "with open('../project02.txt', 'w') as f:\n",
    "    for i in output:\n",
    "        f.write(json.dumps(i) + '\\n')"
   ]
  },
  {
   "cell_type": "markdown",
   "metadata": {},
   "source": [
    "## Alternatively: Find recoms for the \"tail\" of test items without any pairs with Friends or Catalogs"
   ]
  },
  {
   "cell_type": "code",
   "execution_count": 215,
   "metadata": {},
   "outputs": [
    {
     "name": "stdout",
     "output_type": "stream",
     "text": [
      "+---------+---------+\n",
      "|test_item|catalogid|\n",
      "+---------+---------+\n",
      "| 30306599|     null|\n",
      "| 31484003|  1174273|\n",
      "| 32502762|     null|\n",
      "| 20088256|     null|\n",
      "| 29673776|     null|\n",
      "+---------+---------+\n",
      "only showing top 5 rows\n",
      "\n",
      "CPU times: user 0 ns, sys: 0 ns, total: 0 ns\n",
      "Wall time: 4.73 s\n"
     ]
    }
   ],
   "source": [
    "tail = test_data.select(col('item').name('test_item')) \\\n",
    "                .join(pairs_test_after_c.filter('recoms is not null').select('test_item').distinct(), \\\n",
    "                      on='test_item', how='left_anti') \\\n",
    "                .join(catalog_data.select('catalogid', col('itemid').name('test_item')), \\\n",
    "                                     on='test_item', how='left_outer')\n",
    "%time tail.show(5)"
   ]
  },
  {
   "cell_type": "code",
   "execution_count": 216,
   "metadata": {},
   "outputs": [
    {
     "data": {
      "text/plain": [
       "200"
      ]
     },
     "execution_count": 216,
     "metadata": {},
     "output_type": "execute_result"
    }
   ],
   "source": [
    "tail.rdd.getNumPartitions()"
   ]
  },
  {
   "cell_type": "code",
   "execution_count": 217,
   "metadata": {},
   "outputs": [],
   "source": [
    "tail = tail.coalesce(4).cache()"
   ]
  },
  {
   "cell_type": "code",
   "execution_count": 218,
   "metadata": {},
   "outputs": [
    {
     "name": "stdout",
     "output_type": "stream",
     "text": [
      "CPU times: user 12 ms, sys: 4 ms, total: 16 ms\n",
      "Wall time: 1min\n"
     ]
    },
    {
     "data": {
      "text/plain": [
       "587"
      ]
     },
     "execution_count": 218,
     "metadata": {},
     "output_type": "execute_result"
    }
   ],
   "source": [
    "%time tail.count()"
   ]
  },
  {
   "cell_type": "code",
   "execution_count": 225,
   "metadata": {},
   "outputs": [
    {
     "name": "stdout",
     "output_type": "stream",
     "text": [
      "+---------+---------+\n",
      "|test_item|catalogid|\n",
      "+---------+---------+\n",
      "|  5358822|  1153581|\n",
      "| 32386324|  1174735|\n",
      "| 22436824|  1166437|\n",
      "| 18925203|  1177689|\n",
      "| 27063931|  1140536|\n",
      "+---------+---------+\n",
      "only showing top 5 rows\n",
      "\n",
      "CPU times: user 0 ns, sys: 0 ns, total: 0 ns\n",
      "Wall time: 572 ms\n"
     ]
    }
   ],
   "source": [
    "tail = tail.filter('catalogid is not null').dropDuplicates()\n",
    "%time tail.show(5)"
   ]
  },
  {
   "cell_type": "code",
   "execution_count": 226,
   "metadata": {},
   "outputs": [
    {
     "data": {
      "text/plain": [
       "71"
      ]
     },
     "execution_count": 226,
     "metadata": {},
     "output_type": "execute_result"
    }
   ],
   "source": [
    "tail.count()"
   ]
  },
  {
   "cell_type": "code",
   "execution_count": 227,
   "metadata": {},
   "outputs": [
    {
     "name": "stdout",
     "output_type": "stream",
     "text": [
      "+---------+---------+--------+\n",
      "|catalogid|test_item|  recoms|\n",
      "+---------+---------+--------+\n",
      "|  1156654| 18095974| 5290553|\n",
      "|  1156654| 18095974|18095967|\n",
      "|  1156654| 18095974|18095974|\n",
      "|  1156654| 18095974|27260953|\n",
      "|  1156654| 18095974|18095960|\n",
      "+---------+---------+--------+\n",
      "only showing top 5 rows\n",
      "\n",
      "CPU times: user 4 ms, sys: 0 ns, total: 4 ms\n",
      "Wall time: 2.52 s\n"
     ]
    }
   ],
   "source": [
    "tail = tail.join(catalog_data.select('catalogid', col('itemid').name('recoms')), on='catalogid', how='left_outer')\n",
    "%time tail.show(5)"
   ]
  },
  {
   "cell_type": "code",
   "execution_count": 228,
   "metadata": {},
   "outputs": [
    {
     "name": "stdout",
     "output_type": "stream",
     "text": [
      "+--------+---------+---------+------+\n",
      "|  recoms|catalogid|test_item|weight|\n",
      "+--------+---------+---------+------+\n",
      "| 5290553|  1156654| 18095974|   0.0|\n",
      "|18095960|  1156654| 18095974|   0.0|\n",
      "|18095972|  1156654| 18095974|   0.0|\n",
      "|27260953|  1156654| 18095974|   0.0|\n",
      "|18095967|  1156654| 18095974|   0.0|\n",
      "+--------+---------+---------+------+\n",
      "only showing top 5 rows\n",
      "\n",
      "CPU times: user 4 ms, sys: 0 ns, total: 4 ms\n",
      "Wall time: 3.1 s\n"
     ]
    }
   ],
   "source": [
    "tail = tail.join(rating_data.select(col('itemid').name('recoms'), 'rating'), \\\n",
    "                 on='recoms', how='left_outer') \\\n",
    "           .fillna(0, subset=['rating']) \\\n",
    "           .withColumnRenamed('rating', 'weight')\n",
    "%time tail.show(5)"
   ]
  },
  {
   "cell_type": "code",
   "execution_count": 229,
   "metadata": {},
   "outputs": [
    {
     "name": "stdout",
     "output_type": "stream",
     "text": [
      "+--------+--------------------+\n",
      "|    item|              recoms|\n",
      "+--------+--------------------+\n",
      "|31484003|[[31708478, 0.0],...|\n",
      "|31578022|[[32027681, 0.0],...|\n",
      "|25104693|[[25105425, 0.0],...|\n",
      "|18095974|[[18095960, 0.0],...|\n",
      "|29357014|[[29355373, 0.0],...|\n",
      "+--------+--------------------+\n",
      "only showing top 5 rows\n",
      "\n",
      "CPU times: user 0 ns, sys: 0 ns, total: 0 ns\n",
      "Wall time: 6.2 s\n"
     ]
    }
   ],
   "source": [
    "# Group predictions by item and create arrays (recoms, weight)\n",
    "out_tail = tail.withColumnRenamed('test_item', 'item') \\\n",
    "               .groupBy('item').agg(collect_list(array('recoms', 'weight')).alias('recoms'))\n",
    "%time out_tail.show(5)"
   ]
  },
  {
   "cell_type": "code",
   "execution_count": 230,
   "metadata": {},
   "outputs": [
    {
     "name": "stdout",
     "output_type": "stream",
     "text": [
      "CPU times: user 40 ms, sys: 8 ms, total: 48 ms\n",
      "Wall time: 7.71 s\n"
     ]
    },
    {
     "data": {
      "text/html": [
       "<div>\n",
       "<style scoped>\n",
       "    .dataframe tbody tr th:only-of-type {\n",
       "        vertical-align: middle;\n",
       "    }\n",
       "\n",
       "    .dataframe tbody tr th {\n",
       "        vertical-align: top;\n",
       "    }\n",
       "\n",
       "    .dataframe thead th {\n",
       "        text-align: right;\n",
       "    }\n",
       "</style>\n",
       "<table border=\"1\" class=\"dataframe\">\n",
       "  <thead>\n",
       "    <tr style=\"text-align: right;\">\n",
       "      <th></th>\n",
       "      <th>item</th>\n",
       "      <th>recoms</th>\n",
       "    </tr>\n",
       "  </thead>\n",
       "  <tbody>\n",
       "    <tr>\n",
       "      <th>0</th>\n",
       "      <td>31484003</td>\n",
       "      <td>[[30937525, 0.0], [31216045, 0.0], [31778913, ...</td>\n",
       "    </tr>\n",
       "    <tr>\n",
       "      <th>1</th>\n",
       "      <td>31578022</td>\n",
       "      <td>[[33664288, 0.0], [31709341, 0.0], [32804179, ...</td>\n",
       "    </tr>\n",
       "  </tbody>\n",
       "</table>\n",
       "</div>"
      ],
      "text/plain": [
       "       item                                             recoms\n",
       "0  31484003  [[30937525, 0.0], [31216045, 0.0], [31778913, ...\n",
       "1  31578022  [[33664288, 0.0], [31709341, 0.0], [32804179, ..."
      ]
     },
     "execution_count": 230,
     "metadata": {},
     "output_type": "execute_result"
    }
   ],
   "source": [
    "%time res_tail = out_tail.toPandas()\n",
    "res_tail.head(2)"
   ]
  },
  {
   "cell_type": "code",
   "execution_count": 231,
   "metadata": {},
   "outputs": [
    {
     "name": "stdout",
     "output_type": "stream",
     "text": [
      "CPU times: user 136 ms, sys: 0 ns, total: 136 ms\n",
      "Wall time: 132 ms\n"
     ]
    },
    {
     "data": {
      "text/html": [
       "<div>\n",
       "<style scoped>\n",
       "    .dataframe tbody tr th:only-of-type {\n",
       "        vertical-align: middle;\n",
       "    }\n",
       "\n",
       "    .dataframe tbody tr th {\n",
       "        vertical-align: top;\n",
       "    }\n",
       "\n",
       "    .dataframe thead th {\n",
       "        text-align: right;\n",
       "    }\n",
       "</style>\n",
       "<table border=\"1\" class=\"dataframe\">\n",
       "  <thead>\n",
       "    <tr style=\"text-align: right;\">\n",
       "      <th></th>\n",
       "      <th>item</th>\n",
       "      <th>recoms</th>\n",
       "    </tr>\n",
       "  </thead>\n",
       "  <tbody>\n",
       "    <tr>\n",
       "      <th>0</th>\n",
       "      <td>31484003</td>\n",
       "      <td>{'30937525': 0.0, '31216045': 0.0, '31778913':...</td>\n",
       "    </tr>\n",
       "    <tr>\n",
       "      <th>1</th>\n",
       "      <td>31578022</td>\n",
       "      <td>{'33664288': 0.0, '31709341': 0.0, '32804179':...</td>\n",
       "    </tr>\n",
       "  </tbody>\n",
       "</table>\n",
       "</div>"
      ],
      "text/plain": [
       "       item                                             recoms\n",
       "0  31484003  {'30937525': 0.0, '31216045': 0.0, '31778913':...\n",
       "1  31578022  {'33664288': 0.0, '31709341': 0.0, '32804179':..."
      ]
     },
     "execution_count": 231,
     "metadata": {},
     "output_type": "execute_result"
    }
   ],
   "source": [
    "# Make dict from recoms, convert weights from string to float and select top100 by weight\n",
    "%time res_tail['recoms'] = res_tail['recoms'].apply(dict) \\\n",
    "            .apply(lambda x: dict((k, float(v)) for k,v in x.items())) \\\n",
    "            .apply(lambda x: dict(heapq.nlargest(100, x.items(), key=lambda i: i[1])))\n",
    "res_tail.head(2)"
   ]
  },
  {
   "cell_type": "code",
   "execution_count": 232,
   "metadata": {},
   "outputs": [
    {
     "data": {
      "text/html": [
       "<div>\n",
       "<style scoped>\n",
       "    .dataframe tbody tr th:only-of-type {\n",
       "        vertical-align: middle;\n",
       "    }\n",
       "\n",
       "    .dataframe tbody tr th {\n",
       "        vertical-align: top;\n",
       "    }\n",
       "\n",
       "    .dataframe thead th {\n",
       "        text-align: right;\n",
       "    }\n",
       "</style>\n",
       "<table border=\"1\" class=\"dataframe\">\n",
       "  <thead>\n",
       "    <tr style=\"text-align: right;\">\n",
       "      <th></th>\n",
       "      <th>item</th>\n",
       "      <th>recoms</th>\n",
       "    </tr>\n",
       "  </thead>\n",
       "  <tbody>\n",
       "    <tr>\n",
       "      <th>0</th>\n",
       "      <td>28759795</td>\n",
       "      <td>NaN</td>\n",
       "    </tr>\n",
       "    <tr>\n",
       "      <th>1</th>\n",
       "      <td>32712593</td>\n",
       "      <td>NaN</td>\n",
       "    </tr>\n",
       "    <tr>\n",
       "      <th>2</th>\n",
       "      <td>29616882</td>\n",
       "      <td>NaN</td>\n",
       "    </tr>\n",
       "    <tr>\n",
       "      <th>3</th>\n",
       "      <td>6242189</td>\n",
       "      <td>NaN</td>\n",
       "    </tr>\n",
       "    <tr>\n",
       "      <th>4</th>\n",
       "      <td>32663967</td>\n",
       "      <td>NaN</td>\n",
       "    </tr>\n",
       "  </tbody>\n",
       "</table>\n",
       "</div>"
      ],
      "text/plain": [
       "       item recoms\n",
       "0  28759795    NaN\n",
       "1  32712593    NaN\n",
       "2  29616882    NaN\n",
       "3   6242189    NaN\n",
       "4  32663967    NaN"
      ]
     },
     "execution_count": 232,
     "metadata": {},
     "output_type": "execute_result"
    }
   ],
   "source": [
    "# Make sure we have a correct order of items\n",
    "test_data_pd_tail = test_data_pd.merge(res_tail, on='item', how='left')\n",
    "test_data_pd_tail.head()"
   ]
  },
  {
   "cell_type": "code",
   "execution_count": 233,
   "metadata": {},
   "outputs": [
    {
     "data": {
      "text/html": [
       "<div>\n",
       "<style scoped>\n",
       "    .dataframe tbody tr th:only-of-type {\n",
       "        vertical-align: middle;\n",
       "    }\n",
       "\n",
       "    .dataframe tbody tr th {\n",
       "        vertical-align: top;\n",
       "    }\n",
       "\n",
       "    .dataframe thead th {\n",
       "        text-align: right;\n",
       "    }\n",
       "</style>\n",
       "<table border=\"1\" class=\"dataframe\">\n",
       "  <thead>\n",
       "    <tr style=\"text-align: right;\">\n",
       "      <th></th>\n",
       "      <th>item</th>\n",
       "      <th>recoms</th>\n",
       "    </tr>\n",
       "  </thead>\n",
       "  <tbody>\n",
       "    <tr>\n",
       "      <th>0</th>\n",
       "      <td>28759795</td>\n",
       "      <td>{'28759817': 208.0, '31413158': 96.0, '3159418...</td>\n",
       "    </tr>\n",
       "    <tr>\n",
       "      <th>1</th>\n",
       "      <td>32712593</td>\n",
       "      <td>{'32712245': 112.0, '32712585': 96.0, '3271263...</td>\n",
       "    </tr>\n",
       "    <tr>\n",
       "      <th>2</th>\n",
       "      <td>29616882</td>\n",
       "      <td>{'29596054': 227.0, '29596018': 221.0, '295960...</td>\n",
       "    </tr>\n",
       "    <tr>\n",
       "      <th>3</th>\n",
       "      <td>6242189</td>\n",
       "      <td>NaN</td>\n",
       "    </tr>\n",
       "    <tr>\n",
       "      <th>4</th>\n",
       "      <td>32663967</td>\n",
       "      <td>{'32663968': 56.0, '32106864': 40.0, '32486753...</td>\n",
       "    </tr>\n",
       "  </tbody>\n",
       "</table>\n",
       "</div>"
      ],
      "text/plain": [
       "       item                                             recoms\n",
       "0  28759795  {'28759817': 208.0, '31413158': 96.0, '3159418...\n",
       "1  32712593  {'32712245': 112.0, '32712585': 96.0, '3271263...\n",
       "2  29616882  {'29596054': 227.0, '29596018': 221.0, '295960...\n",
       "3   6242189                                                NaN\n",
       "4  32663967  {'32663968': 56.0, '32106864': 40.0, '32486753..."
      ]
     },
     "execution_count": 233,
     "metadata": {},
     "output_type": "execute_result"
    }
   ],
   "source": [
    "test_data_pd1_p1_tail = test_data_pd1_p1.combine_first(test_data_pd_tail)\n",
    "test_data_pd1_p1_tail.head()"
   ]
  },
  {
   "cell_type": "code",
   "execution_count": 234,
   "metadata": {},
   "outputs": [
    {
     "data": {
      "text/plain": [
       "60379"
      ]
     },
     "execution_count": 234,
     "metadata": {},
     "output_type": "execute_result"
    }
   ],
   "source": [
    "test_data_pd1_p1_tail.recoms.count()"
   ]
  },
  {
   "cell_type": "code",
   "execution_count": 236,
   "metadata": {},
   "outputs": [],
   "source": [
    "test_data_pd1_p1_tail_pop = test_data_pd1_p1_tail.combine_first(test_data_pd_pop)"
   ]
  },
  {
   "cell_type": "code",
   "execution_count": 237,
   "metadata": {},
   "outputs": [
    {
     "data": {
      "text/plain": [
       "60956"
      ]
     },
     "execution_count": 237,
     "metadata": {},
     "output_type": "execute_result"
    }
   ],
   "source": [
    "test_data_pd1_p1_tail_pop.recoms.count()"
   ]
  },
  {
   "cell_type": "code",
   "execution_count": 238,
   "metadata": {},
   "outputs": [
    {
     "name": "stdout",
     "output_type": "stream",
     "text": [
      "CPU times: user 1.2 s, sys: 68 ms, total: 1.27 s\n",
      "Wall time: 1.27 s\n"
     ]
    }
   ],
   "source": [
    "# Write predictions to file\n",
    "%time output = test_data_pd1_p1_tail_pop.to_dict(orient='records')\n",
    "with open('../project02.txt', 'w') as f:\n",
    "    for i in output:\n",
    "        f.write(json.dumps(i) + '\\n')"
   ]
  },
  {
   "cell_type": "markdown",
   "metadata": {},
   "source": [
    "# Stop Spark"
   ]
  },
  {
   "cell_type": "code",
   "execution_count": 242,
   "metadata": {},
   "outputs": [],
   "source": [
    "sc.stop()"
   ]
  },
  {
   "cell_type": "code",
   "execution_count": null,
   "metadata": {},
   "outputs": [],
   "source": []
  }
 ],
 "metadata": {
  "kernelspec": {
   "display_name": "Python 3",
   "language": "python",
   "name": "python3"
  },
  "language_info": {
   "codemirror_mode": {
    "name": "ipython",
    "version": 3
   },
   "file_extension": ".py",
   "mimetype": "text/x-python",
   "name": "python",
   "nbconvert_exporter": "python",
   "pygments_lexer": "ipython3",
   "version": "3.6.5"
  }
 },
 "nbformat": 4,
 "nbformat_minor": 2
}

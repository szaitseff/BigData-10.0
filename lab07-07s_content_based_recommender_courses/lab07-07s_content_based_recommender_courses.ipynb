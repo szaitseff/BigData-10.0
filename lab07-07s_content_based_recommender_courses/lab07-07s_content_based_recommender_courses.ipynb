{
 "cells": [
  {
   "cell_type": "markdown",
   "metadata": {},
   "source": [
    "## Лаба 7. Построить content-based рекомендательную систему образовательных курсов\n",
    "\n",
    "### Дедлайн\n",
    "\n",
    "⏰ Четверг, 30 мая 2019 года, 23:59.\n",
    "\n",
    "### Задача\n",
    "\n",
    "По имеющимся данным портала eclass.cc построить content-based рекомендации по образовательным курсам.\n",
    "\n",
    "#### Обработка данных на вход\n",
    "\n",
    "Имеются следующие входные данные:\n",
    "* Набор данных о всех курсах. Датасет взять с HDFS по адресу: `/labs/lab07data/DO_record_per_line.json`\n",
    "* id курсов, для которых надо дать рекомендации (указаны в [Личном кабинете](http://lk.newprolab.com/lab/laba07)) \n",
    "\n",
    "#### courses to make recommendations:\n",
    "\n",
    "[[74, u'en', u'The Dynamic Earth: A Course for Educators'], \n",
    "[11821, u'en', u'Real Estate Investing II: Financing Your Property'], \n",
    "[23115, u'es', u'C\\xf3mo estructurar y redactar tu tesis de investigaci\\xf3n'], \n",
    "[21704, u'es', u'Excel'], \n",
    "[1256, u'ru', u'Visual Basic .NET'], \n",
    "[21404, u'ru', u'\\u0421\\u043e\\u0432\\u0440\\u0435\\u043c\\u0435\\u043d\\u043d\\u044b\\u0435 \\u0441\\u0442\\u0440\\u0430\\u0442\\u0435\\u0433\\u0438\\u0438 \\u0440\\u0435\\u0430\\u043b\\u0438\\u0437\\u0430\\u0446\\u0438\\u0438 \\u0434\\u043e\\u0448\\u043a\\u043e\\u043b\\u044c\\u043d\\u043e\\u0433\\u043e \\u043e\\u0431\\u0440\\u0430\\u0437\\u043e\\u0432\\u0430\\u043d\\u0438\\u044f']]\n",
    "\n",
    "#### Обработка данных на выход\n",
    "\n",
    "Для каждого id курса необходимо дать топ-10 наиболее похожих на него курсов. Рекомендованные курсы должны быть того же языка, что и курс, для которого строится рекомендация.\n",
    "\n",
    "Для подбора рекомендаций следует использовать меру TF\\*IDF, а в качестве метрики для ранжирования — косинус угла между TF\\*IDF-векторами для разных курсов.\n",
    "\n",
    "TF\\*IDF нужно считать для описаний курсов. При извлечении слов из описания словом считаем то, что состоит из латинских или кириллических букв или цифр, знаки препинания и прочие символы не учитываются.\n",
    "\n",
    "Для поиска слов можно использовать такой код:\n",
    "```\n",
    "regex = re.compile(r'[\\w\\d]{2,}', re.U)\n",
    "regex.findall(string.lower())\n",
    "```\n",
    "\n",
    "Выходной формат — json — должен иметь следующую структуру:\n",
    "\n",
    "```\n",
    "{\n",
    "  \"123\": [5372, 16663, 23114, 13079, 13084, ...],\n",
    "  \"456\": [...],\n",
    "  \"789\": [...],\n",
    "  \"123456\": [...],\n",
    "  \"456789\": [...],\n",
    "  \"987654\": [...]\n",
    "}\n",
    "```\n",
    "\n",
    "Ключи — это id курсов, для которых строится рекомендация. Для каждого такого ключа в качестве значения задается массив рекомендованных курсов, состоящий из их id, отсортированных по убыванию метрики. При равенстве значений метрики курсы сортируются лексикографически по названию. \n",
    "\n",
    "Также возможна очень редкая ситуация (в основном с русскоязычными курсами), когда в рекомендацию попадут два дубликата одного курса, но с разными id. Таких дубликатов очень мало относительно числа курсов, но все равно рекомендуется сортировать в следующей последовательности: по метрике (убывание) => по названию (лексикографически по возрастанию) => по возрастанию id.\n",
    "\n",
    "**При вычислении TF с помощью `HashingTF` использовалось число фичей 10000. То есть: `tf = HashingTF(10000)`.**\n",
    "\n",
    "### Проверка\n",
    "\n",
    "Проверка осуществляется по результатам рекомендаций текущей рекомендательной системы на eclass.cc. Для прохождения лабораторной для каждого курса, для которого строится рекомендация, должно быть пересечение рекомендованных курсов с результатами текущей системы — **не менее 20%.**\n",
    "\n",
    "Файл необходимо положить в свою домашнюю директорию под названием: `lab07.json`. Проверка осуществляется из [Личного кабинета](http://lk.newprolab.com/lab/laba07). В чекере в качестве значения для курсов указаны id и доля пересечения конкретно для каждого из курсов.\n"
   ]
  },
  {
   "cell_type": "markdown",
   "metadata": {},
   "source": [
    "## Решение"
   ]
  },
  {
   "cell_type": "code",
   "execution_count": 47,
   "metadata": {},
   "outputs": [],
   "source": [
    "import numpy as np\n",
    "import pandas as pd\n",
    "import re\n",
    "import json\n",
    "from pandas.io.json import json_normalize\n",
    "from sklearn.feature_extraction.text import TfidfVectorizer\n",
    "from sklearn.metrics.pairwise import cosine_similarity"
   ]
  },
  {
   "cell_type": "markdown",
   "metadata": {},
   "source": [
    "### Load data"
   ]
  },
  {
   "cell_type": "code",
   "execution_count": 1,
   "metadata": {},
   "outputs": [],
   "source": [
    "!hadoop fs -copyToLocal /labs/lab07data/DO_record_per_line.json ~/"
   ]
  },
  {
   "cell_type": "code",
   "execution_count": 27,
   "metadata": {},
   "outputs": [
    {
     "data": {
      "text/html": [
       "<div>\n",
       "<style scoped>\n",
       "    .dataframe tbody tr th:only-of-type {\n",
       "        vertical-align: middle;\n",
       "    }\n",
       "\n",
       "    .dataframe tbody tr th {\n",
       "        vertical-align: top;\n",
       "    }\n",
       "\n",
       "    .dataframe thead th {\n",
       "        text-align: right;\n",
       "    }\n",
       "</style>\n",
       "<table border=\"1\" class=\"dataframe\">\n",
       "  <thead>\n",
       "    <tr style=\"text-align: right;\">\n",
       "      <th></th>\n",
       "      <th>0</th>\n",
       "    </tr>\n",
       "  </thead>\n",
       "  <tbody>\n",
       "    <tr>\n",
       "      <th>0</th>\n",
       "      <td>{\"lang\": \"en\", \"name\": \"Accounting Cycle: The ...</td>\n",
       "    </tr>\n",
       "    <tr>\n",
       "      <th>1</th>\n",
       "      <td>{\"lang\": \"en\", \"name\": \"American Counter Terro...</td>\n",
       "    </tr>\n",
       "    <tr>\n",
       "      <th>2</th>\n",
       "      <td>{\"lang\": \"fr\", \"name\": \"Arithm\\u00e9tique: en ...</td>\n",
       "    </tr>\n",
       "    <tr>\n",
       "      <th>3</th>\n",
       "      <td>{\"lang\": \"en\", \"name\": \"Becoming a Dynamic Edu...</td>\n",
       "    </tr>\n",
       "    <tr>\n",
       "      <th>4</th>\n",
       "      <td>{\"lang\": \"en\", \"name\": \"Bioethics\", \"cat\": \"2/...</td>\n",
       "    </tr>\n",
       "  </tbody>\n",
       "</table>\n",
       "</div>"
      ],
      "text/plain": [
       "                                                   0\n",
       "0  {\"lang\": \"en\", \"name\": \"Accounting Cycle: The ...\n",
       "1  {\"lang\": \"en\", \"name\": \"American Counter Terro...\n",
       "2  {\"lang\": \"fr\", \"name\": \"Arithm\\u00e9tique: en ...\n",
       "3  {\"lang\": \"en\", \"name\": \"Becoming a Dynamic Edu...\n",
       "4  {\"lang\": \"en\", \"name\": \"Bioethics\", \"cat\": \"2/..."
      ]
     },
     "execution_count": 27,
     "metadata": {},
     "output_type": "execute_result"
    }
   ],
   "source": [
    "# Load data which contains json strings separated by newline\n",
    "data = pd.read_csv(\"DO_record_per_line.json\", header=None, sep=\"\\n\")\n",
    "data.head()"
   ]
  },
  {
   "cell_type": "code",
   "execution_count": 31,
   "metadata": {},
   "outputs": [
    {
     "data": {
      "text/plain": [
       "'{\"lang\": \"en\", \"name\": \"Accounting Cycle: The Foundation of Business Measurement and Reporting\", \"cat\": \"3/business_management|6/economics_finance\", \"provider\": \"Canvas Network\", \"id\": 4, \"desc\": \"This course introduces the basic financial statements used by most businesses, as well as the essential tools used to prepare them. This course will serve as a resource to help business students succeed in their upcoming university-level accounting classes, and as a refresher for upper division accounting students who are struggling to recall elementary concepts essential to more advanced accounting topics. Business owners will also benefit from this class by gaining essential skills necessary to organize and manage information pertinent to operating their business. At the conclusion of the class, students will understand the balance sheet, income statement, and cash flow statement. They will be able to differentiate between cash basis and accrual basis techniques, and know when each is appropriate. They\\\\u2019ll also understand the accounting equation, how to journalize and post transactions, how to adjust and close accounts, and how to prepare key financial reports. All material for this class is written and delivered by the professor, and can be previewed here. Students must have access to a spreadsheet program to participate.\"}'"
      ]
     },
     "execution_count": 31,
     "metadata": {},
     "output_type": "execute_result"
    }
   ],
   "source": [
    "# Review the 1st line with a json string\n",
    "data.loc[0, 0]"
   ]
  },
  {
   "cell_type": "code",
   "execution_count": 33,
   "metadata": {},
   "outputs": [
    {
     "data": {
      "text/html": [
       "<div>\n",
       "<style scoped>\n",
       "    .dataframe tbody tr th:only-of-type {\n",
       "        vertical-align: middle;\n",
       "    }\n",
       "\n",
       "    .dataframe tbody tr th {\n",
       "        vertical-align: top;\n",
       "    }\n",
       "\n",
       "    .dataframe thead th {\n",
       "        text-align: right;\n",
       "    }\n",
       "</style>\n",
       "<table border=\"1\" class=\"dataframe\">\n",
       "  <thead>\n",
       "    <tr style=\"text-align: right;\">\n",
       "      <th></th>\n",
       "      <th>cat</th>\n",
       "      <th>desc</th>\n",
       "      <th>id</th>\n",
       "      <th>lang</th>\n",
       "      <th>name</th>\n",
       "      <th>provider</th>\n",
       "    </tr>\n",
       "  </thead>\n",
       "  <tbody>\n",
       "    <tr>\n",
       "      <th>0</th>\n",
       "      <td>3/business_management|6/economics_finance</td>\n",
       "      <td>This course introduces the basic financial sta...</td>\n",
       "      <td>4</td>\n",
       "      <td>en</td>\n",
       "      <td>Accounting Cycle: The Foundation of Business M...</td>\n",
       "      <td>Canvas Network</td>\n",
       "    </tr>\n",
       "    <tr>\n",
       "      <th>1</th>\n",
       "      <td>11/law</td>\n",
       "      <td>This online course will introduce you to Ameri...</td>\n",
       "      <td>5</td>\n",
       "      <td>en</td>\n",
       "      <td>American Counter Terrorism Law</td>\n",
       "      <td>Canvas Network</td>\n",
       "    </tr>\n",
       "    <tr>\n",
       "      <th>2</th>\n",
       "      <td>5/computer_science|15/mathematics_statistics_a...</td>\n",
       "      <td>This course is taught in French Vous voulez co...</td>\n",
       "      <td>6</td>\n",
       "      <td>fr</td>\n",
       "      <td>Arithmétique: en route pour la cryptographie</td>\n",
       "      <td>Canvas Network</td>\n",
       "    </tr>\n",
       "    <tr>\n",
       "      <th>3</th>\n",
       "      <td>14/social_sciences</td>\n",
       "      <td>We live in a digitally connected world. The wa...</td>\n",
       "      <td>7</td>\n",
       "      <td>en</td>\n",
       "      <td>Becoming a Dynamic Educator</td>\n",
       "      <td>Canvas Network</td>\n",
       "    </tr>\n",
       "    <tr>\n",
       "      <th>4</th>\n",
       "      <td>2/biology_life_sciences</td>\n",
       "      <td>This self-paced course is designed to show tha...</td>\n",
       "      <td>8</td>\n",
       "      <td>en</td>\n",
       "      <td>Bioethics</td>\n",
       "      <td>Canvas Network</td>\n",
       "    </tr>\n",
       "  </tbody>\n",
       "</table>\n",
       "</div>"
      ],
      "text/plain": [
       "                                                 cat  \\\n",
       "0          3/business_management|6/economics_finance   \n",
       "1                                             11/law   \n",
       "2  5/computer_science|15/mathematics_statistics_a...   \n",
       "3                                 14/social_sciences   \n",
       "4                            2/biology_life_sciences   \n",
       "\n",
       "                                                desc  id lang  \\\n",
       "0  This course introduces the basic financial sta...   4   en   \n",
       "1  This online course will introduce you to Ameri...   5   en   \n",
       "2  This course is taught in French Vous voulez co...   6   fr   \n",
       "3  We live in a digitally connected world. The wa...   7   en   \n",
       "4  This self-paced course is designed to show tha...   8   en   \n",
       "\n",
       "                                                name        provider  \n",
       "0  Accounting Cycle: The Foundation of Business M...  Canvas Network  \n",
       "1                     American Counter Terrorism Law  Canvas Network  \n",
       "2       Arithmétique: en route pour la cryptographie  Canvas Network  \n",
       "3                        Becoming a Dynamic Educator  Canvas Network  \n",
       "4                                          Bioethics  Canvas Network  "
      ]
     },
     "execution_count": 33,
     "metadata": {},
     "output_type": "execute_result"
    }
   ],
   "source": [
    "# Normalize data to create a dataframe\n",
    "df = json_normalize(data[0].apply(json.loads))\n",
    "df.head()"
   ]
  },
  {
   "cell_type": "code",
   "execution_count": 34,
   "metadata": {},
   "outputs": [
    {
     "name": "stdout",
     "output_type": "stream",
     "text": [
      "<class 'pandas.core.frame.DataFrame'>\n",
      "RangeIndex: 28153 entries, 0 to 28152\n",
      "Data columns (total 6 columns):\n",
      "cat         28153 non-null object\n",
      "desc        28153 non-null object\n",
      "id          28153 non-null int64\n",
      "lang        28153 non-null object\n",
      "name        28153 non-null object\n",
      "provider    28153 non-null object\n",
      "dtypes: int64(1), object(5)\n",
      "memory usage: 1.3+ MB\n"
     ]
    }
   ],
   "source": [
    "df.info()"
   ]
  },
  {
   "cell_type": "code",
   "execution_count": 48,
   "metadata": {},
   "outputs": [
    {
     "data": {
      "text/html": [
       "<div>\n",
       "<style scoped>\n",
       "    .dataframe tbody tr th:only-of-type {\n",
       "        vertical-align: middle;\n",
       "    }\n",
       "\n",
       "    .dataframe tbody tr th {\n",
       "        vertical-align: top;\n",
       "    }\n",
       "\n",
       "    .dataframe thead th {\n",
       "        text-align: right;\n",
       "    }\n",
       "</style>\n",
       "<table border=\"1\" class=\"dataframe\">\n",
       "  <thead>\n",
       "    <tr style=\"text-align: right;\">\n",
       "      <th></th>\n",
       "      <th>cat</th>\n",
       "      <th>desc</th>\n",
       "      <th>lang</th>\n",
       "      <th>name</th>\n",
       "      <th>provider</th>\n",
       "    </tr>\n",
       "    <tr>\n",
       "      <th>id</th>\n",
       "      <th></th>\n",
       "      <th></th>\n",
       "      <th></th>\n",
       "      <th></th>\n",
       "      <th></th>\n",
       "    </tr>\n",
       "  </thead>\n",
       "  <tbody>\n",
       "    <tr>\n",
       "      <th>4</th>\n",
       "      <td>3/business_management|6/economics_finance</td>\n",
       "      <td>This course introduces the basic financial sta...</td>\n",
       "      <td>en</td>\n",
       "      <td>Accounting Cycle: The Foundation of Business M...</td>\n",
       "      <td>Canvas Network</td>\n",
       "    </tr>\n",
       "    <tr>\n",
       "      <th>5</th>\n",
       "      <td>11/law</td>\n",
       "      <td>This online course will introduce you to Ameri...</td>\n",
       "      <td>en</td>\n",
       "      <td>American Counter Terrorism Law</td>\n",
       "      <td>Canvas Network</td>\n",
       "    </tr>\n",
       "    <tr>\n",
       "      <th>6</th>\n",
       "      <td>5/computer_science|15/mathematics_statistics_a...</td>\n",
       "      <td>This course is taught in French Vous voulez co...</td>\n",
       "      <td>fr</td>\n",
       "      <td>Arithmétique: en route pour la cryptographie</td>\n",
       "      <td>Canvas Network</td>\n",
       "    </tr>\n",
       "    <tr>\n",
       "      <th>7</th>\n",
       "      <td>14/social_sciences</td>\n",
       "      <td>We live in a digitally connected world. The wa...</td>\n",
       "      <td>en</td>\n",
       "      <td>Becoming a Dynamic Educator</td>\n",
       "      <td>Canvas Network</td>\n",
       "    </tr>\n",
       "    <tr>\n",
       "      <th>8</th>\n",
       "      <td>2/biology_life_sciences</td>\n",
       "      <td>This self-paced course is designed to show tha...</td>\n",
       "      <td>en</td>\n",
       "      <td>Bioethics</td>\n",
       "      <td>Canvas Network</td>\n",
       "    </tr>\n",
       "  </tbody>\n",
       "</table>\n",
       "</div>"
      ],
      "text/plain": [
       "                                                  cat  \\\n",
       "id                                                      \n",
       "4           3/business_management|6/economics_finance   \n",
       "5                                              11/law   \n",
       "6   5/computer_science|15/mathematics_statistics_a...   \n",
       "7                                  14/social_sciences   \n",
       "8                             2/biology_life_sciences   \n",
       "\n",
       "                                                 desc lang  \\\n",
       "id                                                           \n",
       "4   This course introduces the basic financial sta...   en   \n",
       "5   This online course will introduce you to Ameri...   en   \n",
       "6   This course is taught in French Vous voulez co...   fr   \n",
       "7   We live in a digitally connected world. The wa...   en   \n",
       "8   This self-paced course is designed to show tha...   en   \n",
       "\n",
       "                                                 name        provider  \n",
       "id                                                                     \n",
       "4   Accounting Cycle: The Foundation of Business M...  Canvas Network  \n",
       "5                      American Counter Terrorism Law  Canvas Network  \n",
       "6        Arithmétique: en route pour la cryptographie  Canvas Network  \n",
       "7                         Becoming a Dynamic Educator  Canvas Network  \n",
       "8                                           Bioethics  Canvas Network  "
      ]
     },
     "execution_count": 48,
     "metadata": {},
     "output_type": "execute_result"
    }
   ],
   "source": [
    "# Set index as id\n",
    "df = df.set_index(\"id\")\n",
    "df.head()"
   ]
  },
  {
   "cell_type": "code",
   "execution_count": 49,
   "metadata": {},
   "outputs": [
    {
     "name": "stdout",
     "output_type": "stream",
     "text": [
      "<class 'pandas.core.frame.DataFrame'>\n",
      "Int64Index: 28153 entries, 4 to 28317\n",
      "Data columns (total 5 columns):\n",
      "cat         28153 non-null object\n",
      "desc        28153 non-null object\n",
      "lang        28153 non-null object\n",
      "name        28153 non-null object\n",
      "provider    28153 non-null object\n",
      "dtypes: object(5)\n",
      "memory usage: 1.3+ MB\n"
     ]
    }
   ],
   "source": [
    "df.info()"
   ]
  },
  {
   "cell_type": "markdown",
   "metadata": {},
   "source": [
    "### Review courses"
   ]
  },
  {
   "cell_type": "code",
   "execution_count": 116,
   "metadata": {},
   "outputs": [],
   "source": [
    "# Id of courses to make recommendations\n",
    "idxs = [74, 11821, 1256, 21704, 21404, 23115]"
   ]
  },
  {
   "cell_type": "code",
   "execution_count": 117,
   "metadata": {},
   "outputs": [
    {
     "data": {
      "text/html": [
       "<div>\n",
       "<style scoped>\n",
       "    .dataframe tbody tr th:only-of-type {\n",
       "        vertical-align: middle;\n",
       "    }\n",
       "\n",
       "    .dataframe tbody tr th {\n",
       "        vertical-align: top;\n",
       "    }\n",
       "\n",
       "    .dataframe thead th {\n",
       "        text-align: right;\n",
       "    }\n",
       "</style>\n",
       "<table border=\"1\" class=\"dataframe\">\n",
       "  <thead>\n",
       "    <tr style=\"text-align: right;\">\n",
       "      <th></th>\n",
       "      <th>cat</th>\n",
       "      <th>desc</th>\n",
       "      <th>lang</th>\n",
       "      <th>name</th>\n",
       "      <th>provider</th>\n",
       "    </tr>\n",
       "    <tr>\n",
       "      <th>id</th>\n",
       "      <th></th>\n",
       "      <th></th>\n",
       "      <th></th>\n",
       "      <th></th>\n",
       "      <th></th>\n",
       "    </tr>\n",
       "  </thead>\n",
       "  <tbody>\n",
       "    <tr>\n",
       "      <th>74</th>\n",
       "      <td>7/energy_earth_sciences|9/humanities|14/social...</td>\n",
       "      <td>How and why is the Earth constantly changing? ...</td>\n",
       "      <td>en</td>\n",
       "      <td>The Dynamic Earth: A Course for Educators</td>\n",
       "      <td>Coursera</td>\n",
       "    </tr>\n",
       "    <tr>\n",
       "      <th>1256</th>\n",
       "      <td>5/computer_science</td>\n",
       "      <td>Этот курс с помощью пошаговых упражнений, прим...</td>\n",
       "      <td>ru</td>\n",
       "      <td>Visual Basic .NET</td>\n",
       "      <td>Intuit</td>\n",
       "    </tr>\n",
       "    <tr>\n",
       "      <th>11821</th>\n",
       "      <td>6/economics_finance</td>\n",
       "      <td>Discover the tools professional investors use ...</td>\n",
       "      <td>en</td>\n",
       "      <td>Real Estate Investing II: Financing Your Property</td>\n",
       "      <td>ed2go</td>\n",
       "    </tr>\n",
       "    <tr>\n",
       "      <th>21404</th>\n",
       "      <td></td>\n",
       "      <td>Что входит в современную стратегию развития до...</td>\n",
       "      <td>ru</td>\n",
       "      <td>Современные стратегии реализации дошкольного о...</td>\n",
       "      <td>Universarium</td>\n",
       "    </tr>\n",
       "    <tr>\n",
       "      <th>21704</th>\n",
       "      <td>5/computer_science</td>\n",
       "      <td>En este curso aprenderás las herramientas más ...</td>\n",
       "      <td>es</td>\n",
       "      <td>Excel</td>\n",
       "      <td>edX</td>\n",
       "    </tr>\n",
       "    <tr>\n",
       "      <th>23115</th>\n",
       "      <td></td>\n",
       "      <td>Aprende a estructurar tu tesis y redactar cad...</td>\n",
       "      <td>es</td>\n",
       "      <td>Cómo estructurar y redactar tu tesis de invest...</td>\n",
       "      <td>Udemy</td>\n",
       "    </tr>\n",
       "  </tbody>\n",
       "</table>\n",
       "</div>"
      ],
      "text/plain": [
       "                                                     cat  \\\n",
       "id                                                         \n",
       "74     7/energy_earth_sciences|9/humanities|14/social...   \n",
       "1256                                  5/computer_science   \n",
       "11821                                6/economics_finance   \n",
       "21404                                                      \n",
       "21704                                 5/computer_science   \n",
       "23115                                                      \n",
       "\n",
       "                                                    desc lang  \\\n",
       "id                                                              \n",
       "74     How and why is the Earth constantly changing? ...   en   \n",
       "1256   Этот курс с помощью пошаговых упражнений, прим...   ru   \n",
       "11821  Discover the tools professional investors use ...   en   \n",
       "21404  Что входит в современную стратегию развития до...   ru   \n",
       "21704  En este curso aprenderás las herramientas más ...   es   \n",
       "23115   Aprende a estructurar tu tesis y redactar cad...   es   \n",
       "\n",
       "                                                    name      provider  \n",
       "id                                                                      \n",
       "74             The Dynamic Earth: A Course for Educators      Coursera  \n",
       "1256                                   Visual Basic .NET        Intuit  \n",
       "11821  Real Estate Investing II: Financing Your Property         ed2go  \n",
       "21404  Современные стратегии реализации дошкольного о...  Universarium  \n",
       "21704                                              Excel           edX  \n",
       "23115  Cómo estructurar y redactar tu tesis de invest...         Udemy  "
      ]
     },
     "execution_count": 117,
     "metadata": {},
     "output_type": "execute_result"
    }
   ],
   "source": [
    "# Посмотрим курсы для которых надо дать рекомендации - топ-10 наиболее похожих на него курсов на том же языке\n",
    "df.query(\"index in @idxs\")"
   ]
  },
  {
   "cell_type": "markdown",
   "metadata": {},
   "source": [
    "### Split courses in required languages into different dataframes\n",
    "#### English"
   ]
  },
  {
   "cell_type": "code",
   "execution_count": 53,
   "metadata": {},
   "outputs": [
    {
     "data": {
      "text/html": [
       "<div>\n",
       "<style scoped>\n",
       "    .dataframe tbody tr th:only-of-type {\n",
       "        vertical-align: middle;\n",
       "    }\n",
       "\n",
       "    .dataframe tbody tr th {\n",
       "        vertical-align: top;\n",
       "    }\n",
       "\n",
       "    .dataframe thead th {\n",
       "        text-align: right;\n",
       "    }\n",
       "</style>\n",
       "<table border=\"1\" class=\"dataframe\">\n",
       "  <thead>\n",
       "    <tr style=\"text-align: right;\">\n",
       "      <th></th>\n",
       "      <th>cat</th>\n",
       "      <th>desc</th>\n",
       "      <th>lang</th>\n",
       "      <th>name</th>\n",
       "      <th>provider</th>\n",
       "    </tr>\n",
       "    <tr>\n",
       "      <th>id</th>\n",
       "      <th></th>\n",
       "      <th></th>\n",
       "      <th></th>\n",
       "      <th></th>\n",
       "      <th></th>\n",
       "    </tr>\n",
       "  </thead>\n",
       "  <tbody>\n",
       "    <tr>\n",
       "      <th>4</th>\n",
       "      <td>3/business_management|6/economics_finance</td>\n",
       "      <td>This course introduces the basic financial sta...</td>\n",
       "      <td>en</td>\n",
       "      <td>Accounting Cycle: The Foundation of Business M...</td>\n",
       "      <td>Canvas Network</td>\n",
       "    </tr>\n",
       "    <tr>\n",
       "      <th>5</th>\n",
       "      <td>11/law</td>\n",
       "      <td>This online course will introduce you to Ameri...</td>\n",
       "      <td>en</td>\n",
       "      <td>American Counter Terrorism Law</td>\n",
       "      <td>Canvas Network</td>\n",
       "    </tr>\n",
       "    <tr>\n",
       "      <th>7</th>\n",
       "      <td>14/social_sciences</td>\n",
       "      <td>We live in a digitally connected world. The wa...</td>\n",
       "      <td>en</td>\n",
       "      <td>Becoming a Dynamic Educator</td>\n",
       "      <td>Canvas Network</td>\n",
       "    </tr>\n",
       "    <tr>\n",
       "      <th>8</th>\n",
       "      <td>2/biology_life_sciences</td>\n",
       "      <td>This self-paced course is designed to show tha...</td>\n",
       "      <td>en</td>\n",
       "      <td>Bioethics</td>\n",
       "      <td>Canvas Network</td>\n",
       "    </tr>\n",
       "    <tr>\n",
       "      <th>9</th>\n",
       "      <td>9/humanities|15/mathematics_statistics_and_dat...</td>\n",
       "      <td>This game-based course provides prospective st...</td>\n",
       "      <td>en</td>\n",
       "      <td>College Foundations: Reading, Writing, and Math</td>\n",
       "      <td>Canvas Network</td>\n",
       "    </tr>\n",
       "  </tbody>\n",
       "</table>\n",
       "</div>"
      ],
      "text/plain": [
       "                                                  cat  \\\n",
       "id                                                      \n",
       "4           3/business_management|6/economics_finance   \n",
       "5                                              11/law   \n",
       "7                                  14/social_sciences   \n",
       "8                             2/biology_life_sciences   \n",
       "9   9/humanities|15/mathematics_statistics_and_dat...   \n",
       "\n",
       "                                                 desc lang  \\\n",
       "id                                                           \n",
       "4   This course introduces the basic financial sta...   en   \n",
       "5   This online course will introduce you to Ameri...   en   \n",
       "7   We live in a digitally connected world. The wa...   en   \n",
       "8   This self-paced course is designed to show tha...   en   \n",
       "9   This game-based course provides prospective st...   en   \n",
       "\n",
       "                                                 name        provider  \n",
       "id                                                                     \n",
       "4   Accounting Cycle: The Foundation of Business M...  Canvas Network  \n",
       "5                      American Counter Terrorism Law  Canvas Network  \n",
       "7                         Becoming a Dynamic Educator  Canvas Network  \n",
       "8                                           Bioethics  Canvas Network  \n",
       "9     College Foundations: Reading, Writing, and Math  Canvas Network  "
      ]
     },
     "execution_count": 53,
     "metadata": {},
     "output_type": "execute_result"
    }
   ],
   "source": [
    "# English courses\n",
    "df_en = df.query(\"lang=='en'\")\n",
    "df_en.head()"
   ]
  },
  {
   "cell_type": "code",
   "execution_count": 54,
   "metadata": {},
   "outputs": [
    {
     "name": "stdout",
     "output_type": "stream",
     "text": [
      "<class 'pandas.core.frame.DataFrame'>\n",
      "Int64Index: 24553 entries, 4 to 28317\n",
      "Data columns (total 5 columns):\n",
      "cat         24553 non-null object\n",
      "desc        24553 non-null object\n",
      "lang        24553 non-null object\n",
      "name        24553 non-null object\n",
      "provider    24553 non-null object\n",
      "dtypes: object(5)\n",
      "memory usage: 1.1+ MB\n"
     ]
    }
   ],
   "source": [
    "df_en.info()"
   ]
  },
  {
   "cell_type": "code",
   "execution_count": 55,
   "metadata": {},
   "outputs": [],
   "source": [
    "vect_en = TfidfVectorizer(max_features=10000)"
   ]
  },
  {
   "cell_type": "code",
   "execution_count": 58,
   "metadata": {},
   "outputs": [
    {
     "data": {
      "text/plain": [
       "(24553, 10000)"
      ]
     },
     "execution_count": 58,
     "metadata": {},
     "output_type": "execute_result"
    }
   ],
   "source": [
    "# Make bag of English words\n",
    "%time X_en = vect_en.fit_transform(df_en.desc).toarray()\n",
    "X_en.shape"
   ]
  },
  {
   "cell_type": "code",
   "execution_count": 60,
   "metadata": {},
   "outputs": [
    {
     "name": "stdout",
     "output_type": "stream",
     "text": [
      "CPU times: user 4min 49s, sys: 1min 44s, total: 6min 34s\n",
      "Wall time: 22.3 s\n"
     ]
    },
    {
     "data": {
      "text/plain": [
       "(24553, 24553)"
      ]
     },
     "execution_count": 60,
     "metadata": {},
     "output_type": "execute_result"
    }
   ],
   "source": [
    "# Calculate similarity between Englsish courses\n",
    "%time cos_en = cosine_similarity(X_en)\n",
    "cos_en.shape"
   ]
  },
  {
   "cell_type": "code",
   "execution_count": 64,
   "metadata": {},
   "outputs": [
    {
     "data": {
      "text/html": [
       "<div>\n",
       "<style scoped>\n",
       "    .dataframe tbody tr th:only-of-type {\n",
       "        vertical-align: middle;\n",
       "    }\n",
       "\n",
       "    .dataframe tbody tr th {\n",
       "        vertical-align: top;\n",
       "    }\n",
       "\n",
       "    .dataframe thead th {\n",
       "        text-align: right;\n",
       "    }\n",
       "</style>\n",
       "<table border=\"1\" class=\"dataframe\">\n",
       "  <thead>\n",
       "    <tr style=\"text-align: right;\">\n",
       "      <th>id</th>\n",
       "      <th>4</th>\n",
       "      <th>5</th>\n",
       "      <th>7</th>\n",
       "      <th>8</th>\n",
       "      <th>9</th>\n",
       "      <th>10</th>\n",
       "      <th>11</th>\n",
       "      <th>12</th>\n",
       "      <th>13</th>\n",
       "      <th>14</th>\n",
       "      <th>...</th>\n",
       "      <th>28306</th>\n",
       "      <th>28307</th>\n",
       "      <th>28309</th>\n",
       "      <th>28310</th>\n",
       "      <th>28311</th>\n",
       "      <th>28312</th>\n",
       "      <th>28313</th>\n",
       "      <th>28314</th>\n",
       "      <th>28315</th>\n",
       "      <th>28317</th>\n",
       "    </tr>\n",
       "    <tr>\n",
       "      <th>id</th>\n",
       "      <th></th>\n",
       "      <th></th>\n",
       "      <th></th>\n",
       "      <th></th>\n",
       "      <th></th>\n",
       "      <th></th>\n",
       "      <th></th>\n",
       "      <th></th>\n",
       "      <th></th>\n",
       "      <th></th>\n",
       "      <th></th>\n",
       "      <th></th>\n",
       "      <th></th>\n",
       "      <th></th>\n",
       "      <th></th>\n",
       "      <th></th>\n",
       "      <th></th>\n",
       "      <th></th>\n",
       "      <th></th>\n",
       "      <th></th>\n",
       "      <th></th>\n",
       "    </tr>\n",
       "  </thead>\n",
       "  <tbody>\n",
       "    <tr>\n",
       "      <th>4</th>\n",
       "      <td>1.000000</td>\n",
       "      <td>0.136894</td>\n",
       "      <td>0.139506</td>\n",
       "      <td>0.158058</td>\n",
       "      <td>0.149196</td>\n",
       "      <td>0.097310</td>\n",
       "      <td>0.153044</td>\n",
       "      <td>0.118953</td>\n",
       "      <td>0.054054</td>\n",
       "      <td>0.120793</td>\n",
       "      <td>...</td>\n",
       "      <td>0.105373</td>\n",
       "      <td>0.137813</td>\n",
       "      <td>0.065188</td>\n",
       "      <td>0.097138</td>\n",
       "      <td>0.156658</td>\n",
       "      <td>0.057127</td>\n",
       "      <td>0.077320</td>\n",
       "      <td>0.094241</td>\n",
       "      <td>0.137029</td>\n",
       "      <td>0.171833</td>\n",
       "    </tr>\n",
       "    <tr>\n",
       "      <th>5</th>\n",
       "      <td>0.136894</td>\n",
       "      <td>1.000000</td>\n",
       "      <td>0.183893</td>\n",
       "      <td>0.163100</td>\n",
       "      <td>0.085941</td>\n",
       "      <td>0.091353</td>\n",
       "      <td>0.127471</td>\n",
       "      <td>0.113357</td>\n",
       "      <td>0.066714</td>\n",
       "      <td>0.137960</td>\n",
       "      <td>...</td>\n",
       "      <td>0.122002</td>\n",
       "      <td>0.141799</td>\n",
       "      <td>0.121862</td>\n",
       "      <td>0.128902</td>\n",
       "      <td>0.199620</td>\n",
       "      <td>0.087309</td>\n",
       "      <td>0.126698</td>\n",
       "      <td>0.109233</td>\n",
       "      <td>0.162364</td>\n",
       "      <td>0.215739</td>\n",
       "    </tr>\n",
       "    <tr>\n",
       "      <th>7</th>\n",
       "      <td>0.139506</td>\n",
       "      <td>0.183893</td>\n",
       "      <td>1.000000</td>\n",
       "      <td>0.142997</td>\n",
       "      <td>0.111101</td>\n",
       "      <td>0.175351</td>\n",
       "      <td>0.144408</td>\n",
       "      <td>0.137336</td>\n",
       "      <td>0.071633</td>\n",
       "      <td>0.132505</td>\n",
       "      <td>...</td>\n",
       "      <td>0.113431</td>\n",
       "      <td>0.181714</td>\n",
       "      <td>0.113134</td>\n",
       "      <td>0.103960</td>\n",
       "      <td>0.191766</td>\n",
       "      <td>0.079853</td>\n",
       "      <td>0.128590</td>\n",
       "      <td>0.100633</td>\n",
       "      <td>0.179663</td>\n",
       "      <td>0.255795</td>\n",
       "    </tr>\n",
       "    <tr>\n",
       "      <th>8</th>\n",
       "      <td>0.158058</td>\n",
       "      <td>0.163100</td>\n",
       "      <td>0.142997</td>\n",
       "      <td>1.000000</td>\n",
       "      <td>0.129671</td>\n",
       "      <td>0.109910</td>\n",
       "      <td>0.118275</td>\n",
       "      <td>0.094672</td>\n",
       "      <td>0.081300</td>\n",
       "      <td>0.127326</td>\n",
       "      <td>...</td>\n",
       "      <td>0.102216</td>\n",
       "      <td>0.121183</td>\n",
       "      <td>0.071505</td>\n",
       "      <td>0.107950</td>\n",
       "      <td>0.172319</td>\n",
       "      <td>0.072124</td>\n",
       "      <td>0.100012</td>\n",
       "      <td>0.099122</td>\n",
       "      <td>0.159613</td>\n",
       "      <td>0.172922</td>\n",
       "    </tr>\n",
       "    <tr>\n",
       "      <th>9</th>\n",
       "      <td>0.149196</td>\n",
       "      <td>0.085941</td>\n",
       "      <td>0.111101</td>\n",
       "      <td>0.129671</td>\n",
       "      <td>1.000000</td>\n",
       "      <td>0.053981</td>\n",
       "      <td>0.081990</td>\n",
       "      <td>0.087311</td>\n",
       "      <td>0.191186</td>\n",
       "      <td>0.115658</td>\n",
       "      <td>...</td>\n",
       "      <td>0.066103</td>\n",
       "      <td>0.109611</td>\n",
       "      <td>0.042187</td>\n",
       "      <td>0.065393</td>\n",
       "      <td>0.111199</td>\n",
       "      <td>0.044974</td>\n",
       "      <td>0.057033</td>\n",
       "      <td>0.058841</td>\n",
       "      <td>0.111989</td>\n",
       "      <td>0.159206</td>\n",
       "    </tr>\n",
       "  </tbody>\n",
       "</table>\n",
       "<p>5 rows × 24553 columns</p>\n",
       "</div>"
      ],
      "text/plain": [
       "id     4         5         7         8         9         10        11     \\\n",
       "id                                                                         \n",
       "4   1.000000  0.136894  0.139506  0.158058  0.149196  0.097310  0.153044   \n",
       "5   0.136894  1.000000  0.183893  0.163100  0.085941  0.091353  0.127471   \n",
       "7   0.139506  0.183893  1.000000  0.142997  0.111101  0.175351  0.144408   \n",
       "8   0.158058  0.163100  0.142997  1.000000  0.129671  0.109910  0.118275   \n",
       "9   0.149196  0.085941  0.111101  0.129671  1.000000  0.053981  0.081990   \n",
       "\n",
       "id     12        13        14       ...        28306     28307     28309  \\\n",
       "id                                  ...                                    \n",
       "4   0.118953  0.054054  0.120793    ...     0.105373  0.137813  0.065188   \n",
       "5   0.113357  0.066714  0.137960    ...     0.122002  0.141799  0.121862   \n",
       "7   0.137336  0.071633  0.132505    ...     0.113431  0.181714  0.113134   \n",
       "8   0.094672  0.081300  0.127326    ...     0.102216  0.121183  0.071505   \n",
       "9   0.087311  0.191186  0.115658    ...     0.066103  0.109611  0.042187   \n",
       "\n",
       "id     28310     28311     28312     28313     28314     28315     28317  \n",
       "id                                                                        \n",
       "4   0.097138  0.156658  0.057127  0.077320  0.094241  0.137029  0.171833  \n",
       "5   0.128902  0.199620  0.087309  0.126698  0.109233  0.162364  0.215739  \n",
       "7   0.103960  0.191766  0.079853  0.128590  0.100633  0.179663  0.255795  \n",
       "8   0.107950  0.172319  0.072124  0.100012  0.099122  0.159613  0.172922  \n",
       "9   0.065393  0.111199  0.044974  0.057033  0.058841  0.111989  0.159206  \n",
       "\n",
       "[5 rows x 24553 columns]"
      ]
     },
     "execution_count": 64,
     "metadata": {},
     "output_type": "execute_result"
    }
   ],
   "source": [
    "# Save similarity to a DF with original courses id as index/columns\n",
    "%time df_cos_en = pd.DataFrame(cos_en, index=df_en.index, columns=df_en.index)\n",
    "df_cos_en.head()"
   ]
  },
  {
   "cell_type": "code",
   "execution_count": 105,
   "metadata": {},
   "outputs": [
    {
     "data": {
      "text/plain": [
       "id\n",
       "22656    0.606124\n",
       "89       0.578718\n",
       "1676     0.552499\n",
       "9684     0.550615\n",
       "7635     0.550475\n",
       "4279     0.541743\n",
       "5784     0.530061\n",
       "75       0.509401\n",
       "7612     0.467865\n",
       "238      0.463531\n",
       "Name: 74, dtype: float64"
      ]
     },
     "execution_count": 105,
     "metadata": {},
     "output_type": "execute_result"
    }
   ],
   "source": [
    "# recommendations for course with id=74\n",
    "r74 = df_cos_en.loc[74].nlargest(11)[1:11]\n",
    "r74"
   ]
  },
  {
   "cell_type": "code",
   "execution_count": 120,
   "metadata": {},
   "outputs": [
    {
     "data": {
      "text/plain": [
       "id\n",
       "26350    0.284575\n",
       "9762     0.283353\n",
       "14380    0.272636\n",
       "22293    0.269856\n",
       "24807    0.261708\n",
       "24183    0.257700\n",
       "18426    0.254538\n",
       "7483     0.253510\n",
       "11964    0.249346\n",
       "1902     0.244060\n",
       "Name: 11821, dtype: float64"
      ]
     },
     "execution_count": 120,
     "metadata": {},
     "output_type": "execute_result"
    }
   ],
   "source": [
    "# recommendations for course with id=11821\n",
    "r11821 = df_cos_en.loc[11821].nlargest(11)[1:11]\n",
    "r11821"
   ]
  },
  {
   "cell_type": "markdown",
   "metadata": {},
   "source": [
    "#### Russian"
   ]
  },
  {
   "cell_type": "code",
   "execution_count": 80,
   "metadata": {},
   "outputs": [
    {
     "data": {
      "text/html": [
       "<div>\n",
       "<style scoped>\n",
       "    .dataframe tbody tr th:only-of-type {\n",
       "        vertical-align: middle;\n",
       "    }\n",
       "\n",
       "    .dataframe tbody tr th {\n",
       "        vertical-align: top;\n",
       "    }\n",
       "\n",
       "    .dataframe thead th {\n",
       "        text-align: right;\n",
       "    }\n",
       "</style>\n",
       "<table border=\"1\" class=\"dataframe\">\n",
       "  <thead>\n",
       "    <tr style=\"text-align: right;\">\n",
       "      <th></th>\n",
       "      <th>cat</th>\n",
       "      <th>desc</th>\n",
       "      <th>lang</th>\n",
       "      <th>name</th>\n",
       "      <th>provider</th>\n",
       "    </tr>\n",
       "    <tr>\n",
       "      <th>id</th>\n",
       "      <th></th>\n",
       "      <th></th>\n",
       "      <th></th>\n",
       "      <th></th>\n",
       "      <th></th>\n",
       "    </tr>\n",
       "  </thead>\n",
       "  <tbody>\n",
       "    <tr>\n",
       "      <th>46</th>\n",
       "      <td>5/computer_science</td>\n",
       "      <td>Часть 1. Продвинутые структуры данных\\r\\nПриор...</td>\n",
       "      <td>ru</td>\n",
       "      <td>Дополнительные главы алгоритмов</td>\n",
       "      <td>Computer Science Center</td>\n",
       "    </tr>\n",
       "    <tr>\n",
       "      <th>47</th>\n",
       "      <td>5/computer_science</td>\n",
       "      <td>Splay-дерево и декартово дерево\\r\\nХеширование...</td>\n",
       "      <td>ru</td>\n",
       "      <td>Алгоритмы и структуры данных 2</td>\n",
       "      <td>Computer Science Center</td>\n",
       "    </tr>\n",
       "    <tr>\n",
       "      <th>48</th>\n",
       "      <td>5/computer_science</td>\n",
       "      <td>Курс посвящён теоретическим и практическим асп...</td>\n",
       "      <td>ru</td>\n",
       "      <td>Технологии хранения и обработки больших объёмо...</td>\n",
       "      <td>Computer Science Center</td>\n",
       "    </tr>\n",
       "    <tr>\n",
       "      <th>49</th>\n",
       "      <td>2/biology_life_sciences|5/computer_science</td>\n",
       "      <td>Биоинформатика — это быстро растущий раздел co...</td>\n",
       "      <td>ru</td>\n",
       "      <td>Алгоритмы в биоинформатике</td>\n",
       "      <td>Computer Science Center</td>\n",
       "    </tr>\n",
       "    <tr>\n",
       "      <th>50</th>\n",
       "      <td>5/computer_science|15/mathematics_statistics_a...</td>\n",
       "      <td>Курс знакомит со сложностью вероятностных вычи...</td>\n",
       "      <td>ru</td>\n",
       "      <td>Сложность вычислений и основы криптографии</td>\n",
       "      <td>Computer Science Center</td>\n",
       "    </tr>\n",
       "  </tbody>\n",
       "</table>\n",
       "</div>"
      ],
      "text/plain": [
       "                                                  cat  \\\n",
       "id                                                      \n",
       "46                                 5/computer_science   \n",
       "47                                 5/computer_science   \n",
       "48                                 5/computer_science   \n",
       "49         2/biology_life_sciences|5/computer_science   \n",
       "50  5/computer_science|15/mathematics_statistics_a...   \n",
       "\n",
       "                                                 desc lang  \\\n",
       "id                                                           \n",
       "46  Часть 1. Продвинутые структуры данных\\r\\nПриор...   ru   \n",
       "47  Splay-дерево и декартово дерево\\r\\nХеширование...   ru   \n",
       "48  Курс посвящён теоретическим и практическим асп...   ru   \n",
       "49  Биоинформатика — это быстро растущий раздел co...   ru   \n",
       "50  Курс знакомит со сложностью вероятностных вычи...   ru   \n",
       "\n",
       "                                                 name                 provider  \n",
       "id                                                                              \n",
       "46                    Дополнительные главы алгоритмов  Computer Science Center  \n",
       "47                     Алгоритмы и структуры данных 2  Computer Science Center  \n",
       "48  Технологии хранения и обработки больших объёмо...  Computer Science Center  \n",
       "49                         Алгоритмы в биоинформатике  Computer Science Center  \n",
       "50         Сложность вычислений и основы криптографии  Computer Science Center  "
      ]
     },
     "execution_count": 80,
     "metadata": {},
     "output_type": "execute_result"
    }
   ],
   "source": [
    "df_ru = df.query(\"lang=='ru'\")\n",
    "df_ru.head()"
   ]
  },
  {
   "cell_type": "code",
   "execution_count": 81,
   "metadata": {},
   "outputs": [
    {
     "name": "stdout",
     "output_type": "stream",
     "text": [
      "<class 'pandas.core.frame.DataFrame'>\n",
      "Int64Index: 1231 entries, 46 to 28290\n",
      "Data columns (total 5 columns):\n",
      "cat         1231 non-null object\n",
      "desc        1231 non-null object\n",
      "lang        1231 non-null object\n",
      "name        1231 non-null object\n",
      "provider    1231 non-null object\n",
      "dtypes: object(5)\n",
      "memory usage: 57.7+ KB\n"
     ]
    }
   ],
   "source": [
    "df_ru.info()"
   ]
  },
  {
   "cell_type": "code",
   "execution_count": 82,
   "metadata": {},
   "outputs": [],
   "source": [
    "vect_ru = TfidfVectorizer(max_features=10000)"
   ]
  },
  {
   "cell_type": "code",
   "execution_count": 83,
   "metadata": {},
   "outputs": [
    {
     "name": "stdout",
     "output_type": "stream",
     "text": [
      "CPU times: user 140 ms, sys: 40 ms, total: 180 ms\n",
      "Wall time: 177 ms\n"
     ]
    },
    {
     "data": {
      "text/plain": [
       "(1231, 10000)"
      ]
     },
     "execution_count": 83,
     "metadata": {},
     "output_type": "execute_result"
    }
   ],
   "source": [
    "# Make bag of Russian words\n",
    "%time X_ru = vect_ru.fit_transform(df_ru.desc).toarray()\n",
    "X_ru.shape"
   ]
  },
  {
   "cell_type": "code",
   "execution_count": 84,
   "metadata": {},
   "outputs": [
    {
     "name": "stdout",
     "output_type": "stream",
     "text": [
      "CPU times: user 2.73 s, sys: 328 ms, total: 3.06 s\n",
      "Wall time: 136 ms\n"
     ]
    },
    {
     "data": {
      "text/plain": [
       "(1231, 1231)"
      ]
     },
     "execution_count": 84,
     "metadata": {},
     "output_type": "execute_result"
    }
   ],
   "source": [
    "# Calculate similarity between Russian courses\n",
    "%time cos_ru = cosine_similarity(X_ru)\n",
    "cos_ru.shape"
   ]
  },
  {
   "cell_type": "code",
   "execution_count": 85,
   "metadata": {},
   "outputs": [
    {
     "name": "stdout",
     "output_type": "stream",
     "text": [
      "CPU times: user 0 ns, sys: 4 ms, total: 4 ms\n",
      "Wall time: 432 µs\n"
     ]
    },
    {
     "data": {
      "text/html": [
       "<div>\n",
       "<style scoped>\n",
       "    .dataframe tbody tr th:only-of-type {\n",
       "        vertical-align: middle;\n",
       "    }\n",
       "\n",
       "    .dataframe tbody tr th {\n",
       "        vertical-align: top;\n",
       "    }\n",
       "\n",
       "    .dataframe thead th {\n",
       "        text-align: right;\n",
       "    }\n",
       "</style>\n",
       "<table border=\"1\" class=\"dataframe\">\n",
       "  <thead>\n",
       "    <tr style=\"text-align: right;\">\n",
       "      <th>id</th>\n",
       "      <th>46</th>\n",
       "      <th>47</th>\n",
       "      <th>48</th>\n",
       "      <th>49</th>\n",
       "      <th>50</th>\n",
       "      <th>51</th>\n",
       "      <th>52</th>\n",
       "      <th>53</th>\n",
       "      <th>54</th>\n",
       "      <th>55</th>\n",
       "      <th>...</th>\n",
       "      <th>27383</th>\n",
       "      <th>27534</th>\n",
       "      <th>27858</th>\n",
       "      <th>27941</th>\n",
       "      <th>28005</th>\n",
       "      <th>28074</th>\n",
       "      <th>28075</th>\n",
       "      <th>28212</th>\n",
       "      <th>28245</th>\n",
       "      <th>28290</th>\n",
       "    </tr>\n",
       "    <tr>\n",
       "      <th>id</th>\n",
       "      <th></th>\n",
       "      <th></th>\n",
       "      <th></th>\n",
       "      <th></th>\n",
       "      <th></th>\n",
       "      <th></th>\n",
       "      <th></th>\n",
       "      <th></th>\n",
       "      <th></th>\n",
       "      <th></th>\n",
       "      <th></th>\n",
       "      <th></th>\n",
       "      <th></th>\n",
       "      <th></th>\n",
       "      <th></th>\n",
       "      <th></th>\n",
       "      <th></th>\n",
       "      <th></th>\n",
       "      <th></th>\n",
       "      <th></th>\n",
       "      <th></th>\n",
       "    </tr>\n",
       "  </thead>\n",
       "  <tbody>\n",
       "    <tr>\n",
       "      <th>46</th>\n",
       "      <td>1.000000</td>\n",
       "      <td>0.100534</td>\n",
       "      <td>0.010461</td>\n",
       "      <td>0.026975</td>\n",
       "      <td>0.007760</td>\n",
       "      <td>0.028751</td>\n",
       "      <td>0.020654</td>\n",
       "      <td>0.003199</td>\n",
       "      <td>0.003894</td>\n",
       "      <td>0.000000</td>\n",
       "      <td>...</td>\n",
       "      <td>0.000000</td>\n",
       "      <td>0.016438</td>\n",
       "      <td>0.000000</td>\n",
       "      <td>0.005500</td>\n",
       "      <td>0.000000</td>\n",
       "      <td>0.010876</td>\n",
       "      <td>0.002805</td>\n",
       "      <td>0.000000</td>\n",
       "      <td>0.005185</td>\n",
       "      <td>0.017072</td>\n",
       "    </tr>\n",
       "    <tr>\n",
       "      <th>47</th>\n",
       "      <td>0.100534</td>\n",
       "      <td>1.000000</td>\n",
       "      <td>0.004020</td>\n",
       "      <td>0.035679</td>\n",
       "      <td>0.064843</td>\n",
       "      <td>0.000000</td>\n",
       "      <td>0.012300</td>\n",
       "      <td>0.001628</td>\n",
       "      <td>0.000000</td>\n",
       "      <td>0.045873</td>\n",
       "      <td>...</td>\n",
       "      <td>0.000000</td>\n",
       "      <td>0.005803</td>\n",
       "      <td>0.000000</td>\n",
       "      <td>0.022195</td>\n",
       "      <td>0.000000</td>\n",
       "      <td>0.006054</td>\n",
       "      <td>0.002111</td>\n",
       "      <td>0.000000</td>\n",
       "      <td>0.005442</td>\n",
       "      <td>0.000000</td>\n",
       "    </tr>\n",
       "    <tr>\n",
       "      <th>48</th>\n",
       "      <td>0.010461</td>\n",
       "      <td>0.004020</td>\n",
       "      <td>1.000000</td>\n",
       "      <td>0.071906</td>\n",
       "      <td>0.054878</td>\n",
       "      <td>0.018257</td>\n",
       "      <td>0.037081</td>\n",
       "      <td>0.017578</td>\n",
       "      <td>0.022498</td>\n",
       "      <td>0.046588</td>\n",
       "      <td>...</td>\n",
       "      <td>0.037665</td>\n",
       "      <td>0.008100</td>\n",
       "      <td>0.043466</td>\n",
       "      <td>0.010801</td>\n",
       "      <td>0.032783</td>\n",
       "      <td>0.038692</td>\n",
       "      <td>0.028087</td>\n",
       "      <td>0.007181</td>\n",
       "      <td>0.015059</td>\n",
       "      <td>0.027777</td>\n",
       "    </tr>\n",
       "    <tr>\n",
       "      <th>49</th>\n",
       "      <td>0.026975</td>\n",
       "      <td>0.035679</td>\n",
       "      <td>0.071906</td>\n",
       "      <td>1.000000</td>\n",
       "      <td>0.028187</td>\n",
       "      <td>0.023986</td>\n",
       "      <td>0.012038</td>\n",
       "      <td>0.017116</td>\n",
       "      <td>0.026118</td>\n",
       "      <td>0.023255</td>\n",
       "      <td>...</td>\n",
       "      <td>0.000000</td>\n",
       "      <td>0.007638</td>\n",
       "      <td>0.000000</td>\n",
       "      <td>0.007597</td>\n",
       "      <td>0.010873</td>\n",
       "      <td>0.040925</td>\n",
       "      <td>0.028749</td>\n",
       "      <td>0.000000</td>\n",
       "      <td>0.013107</td>\n",
       "      <td>0.000000</td>\n",
       "    </tr>\n",
       "    <tr>\n",
       "      <th>50</th>\n",
       "      <td>0.007760</td>\n",
       "      <td>0.064843</td>\n",
       "      <td>0.054878</td>\n",
       "      <td>0.028187</td>\n",
       "      <td>1.000000</td>\n",
       "      <td>0.023168</td>\n",
       "      <td>0.049882</td>\n",
       "      <td>0.055441</td>\n",
       "      <td>0.031268</td>\n",
       "      <td>0.006110</td>\n",
       "      <td>...</td>\n",
       "      <td>0.007918</td>\n",
       "      <td>0.003531</td>\n",
       "      <td>0.005439</td>\n",
       "      <td>0.008299</td>\n",
       "      <td>0.000000</td>\n",
       "      <td>0.065364</td>\n",
       "      <td>0.037342</td>\n",
       "      <td>0.028002</td>\n",
       "      <td>0.003312</td>\n",
       "      <td>0.067152</td>\n",
       "    </tr>\n",
       "  </tbody>\n",
       "</table>\n",
       "<p>5 rows × 1231 columns</p>\n",
       "</div>"
      ],
      "text/plain": [
       "id     46        47        48        49        50        51        52     \\\n",
       "id                                                                         \n",
       "46  1.000000  0.100534  0.010461  0.026975  0.007760  0.028751  0.020654   \n",
       "47  0.100534  1.000000  0.004020  0.035679  0.064843  0.000000  0.012300   \n",
       "48  0.010461  0.004020  1.000000  0.071906  0.054878  0.018257  0.037081   \n",
       "49  0.026975  0.035679  0.071906  1.000000  0.028187  0.023986  0.012038   \n",
       "50  0.007760  0.064843  0.054878  0.028187  1.000000  0.023168  0.049882   \n",
       "\n",
       "id     53        54        55       ...        27383     27534     27858  \\\n",
       "id                                  ...                                    \n",
       "46  0.003199  0.003894  0.000000    ...     0.000000  0.016438  0.000000   \n",
       "47  0.001628  0.000000  0.045873    ...     0.000000  0.005803  0.000000   \n",
       "48  0.017578  0.022498  0.046588    ...     0.037665  0.008100  0.043466   \n",
       "49  0.017116  0.026118  0.023255    ...     0.000000  0.007638  0.000000   \n",
       "50  0.055441  0.031268  0.006110    ...     0.007918  0.003531  0.005439   \n",
       "\n",
       "id     27941     28005     28074     28075     28212     28245     28290  \n",
       "id                                                                        \n",
       "46  0.005500  0.000000  0.010876  0.002805  0.000000  0.005185  0.017072  \n",
       "47  0.022195  0.000000  0.006054  0.002111  0.000000  0.005442  0.000000  \n",
       "48  0.010801  0.032783  0.038692  0.028087  0.007181  0.015059  0.027777  \n",
       "49  0.007597  0.010873  0.040925  0.028749  0.000000  0.013107  0.000000  \n",
       "50  0.008299  0.000000  0.065364  0.037342  0.028002  0.003312  0.067152  \n",
       "\n",
       "[5 rows x 1231 columns]"
      ]
     },
     "execution_count": 85,
     "metadata": {},
     "output_type": "execute_result"
    }
   ],
   "source": [
    "# Save similarity to a DF with original courses id as index/columns\n",
    "%time df_cos_ru = pd.DataFrame(cos_ru, index=df_ru.index, columns=df_ru.index)\n",
    "df_cos_ru.head()"
   ]
  },
  {
   "cell_type": "code",
   "execution_count": 107,
   "metadata": {},
   "outputs": [
    {
     "data": {
      "text/plain": [
       "id\n",
       "20292    1.000000\n",
       "1285     0.163715\n",
       "1011     0.157126\n",
       "819      0.152944\n",
       "20307    0.152944\n",
       "1060     0.139839\n",
       "1348     0.134279\n",
       "1369     0.130401\n",
       "1228     0.127044\n",
       "960      0.124576\n",
       "Name: 1256, dtype: float64"
      ]
     },
     "execution_count": 107,
     "metadata": {},
     "output_type": "execute_result"
    }
   ],
   "source": [
    "# recommendations for course with id=1256\n",
    "r1256 = df_cos_ru.loc[1256].nlargest(11)[1:11]\n",
    "r1256"
   ]
  },
  {
   "cell_type": "code",
   "execution_count": 108,
   "metadata": {},
   "outputs": [
    {
     "data": {
      "text/plain": [
       "id\n",
       "21403    0.273785\n",
       "1052     0.139004\n",
       "21042    0.128938\n",
       "1288     0.127693\n",
       "20368    0.127693\n",
       "992      0.122095\n",
       "1057     0.108524\n",
       "1349     0.104433\n",
       "8298     0.089629\n",
       "21088    0.087661\n",
       "Name: 21404, dtype: float64"
      ]
     },
     "execution_count": 108,
     "metadata": {},
     "output_type": "execute_result"
    }
   ],
   "source": [
    "# recommendations for course with id=21404\n",
    "r21404 = df_cos_ru.loc[21404].nlargest(11)[1:11]\n",
    "r21404"
   ]
  },
  {
   "cell_type": "markdown",
   "metadata": {},
   "source": [
    "#### Spanish"
   ]
  },
  {
   "cell_type": "code",
   "execution_count": 95,
   "metadata": {},
   "outputs": [
    {
     "data": {
      "text/html": [
       "<div>\n",
       "<style scoped>\n",
       "    .dataframe tbody tr th:only-of-type {\n",
       "        vertical-align: middle;\n",
       "    }\n",
       "\n",
       "    .dataframe tbody tr th {\n",
       "        vertical-align: top;\n",
       "    }\n",
       "\n",
       "    .dataframe thead th {\n",
       "        text-align: right;\n",
       "    }\n",
       "</style>\n",
       "<table border=\"1\" class=\"dataframe\">\n",
       "  <thead>\n",
       "    <tr style=\"text-align: right;\">\n",
       "      <th></th>\n",
       "      <th>cat</th>\n",
       "      <th>desc</th>\n",
       "      <th>lang</th>\n",
       "      <th>name</th>\n",
       "      <th>provider</th>\n",
       "    </tr>\n",
       "    <tr>\n",
       "      <th>id</th>\n",
       "      <th></th>\n",
       "      <th></th>\n",
       "      <th></th>\n",
       "      <th></th>\n",
       "      <th></th>\n",
       "    </tr>\n",
       "  </thead>\n",
       "  <tbody>\n",
       "    <tr>\n",
       "      <th>59</th>\n",
       "      <td></td>\n",
       "      <td>A través de diferentes actividades de campo el...</td>\n",
       "      <td>es</td>\n",
       "      <td>El ABC del emprendimiento esbelto</td>\n",
       "      <td>Coursera</td>\n",
       "    </tr>\n",
       "    <tr>\n",
       "      <th>124</th>\n",
       "      <td>2/biology_life_sciences|9/humanities</td>\n",
       "      <td>Aprenderemos cómo podemos usar el pensamiento ...</td>\n",
       "      <td>es</td>\n",
       "      <td>Pensamiento Científico</td>\n",
       "      <td>Coursera</td>\n",
       "    </tr>\n",
       "    <tr>\n",
       "      <th>160</th>\n",
       "      <td>8/engineering_technology|9/humanities|14/socia...</td>\n",
       "      <td>¡Claro que todos podemos potenciar nuestra cre...</td>\n",
       "      <td>es</td>\n",
       "      <td>Ser más creativos</td>\n",
       "      <td>Coursera</td>\n",
       "    </tr>\n",
       "    <tr>\n",
       "      <th>166</th>\n",
       "      <td>7/energy_earth_sciences|9/humanities|13/physic...</td>\n",
       "      <td>Este curso provee al estudiante con conceptos ...</td>\n",
       "      <td>es</td>\n",
       "      <td>Conceptos y Herramientas para la Física Univer...</td>\n",
       "      <td>Coursera</td>\n",
       "    </tr>\n",
       "    <tr>\n",
       "      <th>196</th>\n",
       "      <td>9/humanities</td>\n",
       "      <td>Este curso introduce a los estudiantes de grad...</td>\n",
       "      <td>es</td>\n",
       "      <td>Egiptología (Egyptology)</td>\n",
       "      <td>Coursera</td>\n",
       "    </tr>\n",
       "  </tbody>\n",
       "</table>\n",
       "</div>"
      ],
      "text/plain": [
       "                                                   cat  \\\n",
       "id                                                       \n",
       "59                                                       \n",
       "124               2/biology_life_sciences|9/humanities   \n",
       "160  8/engineering_technology|9/humanities|14/socia...   \n",
       "166  7/energy_earth_sciences|9/humanities|13/physic...   \n",
       "196                                       9/humanities   \n",
       "\n",
       "                                                  desc lang  \\\n",
       "id                                                            \n",
       "59   A través de diferentes actividades de campo el...   es   \n",
       "124  Aprenderemos cómo podemos usar el pensamiento ...   es   \n",
       "160  ¡Claro que todos podemos potenciar nuestra cre...   es   \n",
       "166  Este curso provee al estudiante con conceptos ...   es   \n",
       "196  Este curso introduce a los estudiantes de grad...   es   \n",
       "\n",
       "                                                  name  provider  \n",
       "id                                                                \n",
       "59                   El ABC del emprendimiento esbelto  Coursera  \n",
       "124                             Pensamiento Científico  Coursera  \n",
       "160                                  Ser más creativos  Coursera  \n",
       "166  Conceptos y Herramientas para la Física Univer...  Coursera  \n",
       "196                           Egiptología (Egyptology)  Coursera  "
      ]
     },
     "execution_count": 95,
     "metadata": {},
     "output_type": "execute_result"
    }
   ],
   "source": [
    "df_es = df.query(\"lang=='es'\")\n",
    "df_es.head()"
   ]
  },
  {
   "cell_type": "code",
   "execution_count": 96,
   "metadata": {},
   "outputs": [
    {
     "name": "stdout",
     "output_type": "stream",
     "text": [
      "<class 'pandas.core.frame.DataFrame'>\n",
      "Int64Index: 1374 entries, 59 to 28316\n",
      "Data columns (total 5 columns):\n",
      "cat         1374 non-null object\n",
      "desc        1374 non-null object\n",
      "lang        1374 non-null object\n",
      "name        1374 non-null object\n",
      "provider    1374 non-null object\n",
      "dtypes: object(5)\n",
      "memory usage: 64.4+ KB\n"
     ]
    }
   ],
   "source": [
    "df_es.info()"
   ]
  },
  {
   "cell_type": "code",
   "execution_count": 97,
   "metadata": {},
   "outputs": [],
   "source": [
    "vect_es = TfidfVectorizer(max_features=10000)"
   ]
  },
  {
   "cell_type": "code",
   "execution_count": 98,
   "metadata": {},
   "outputs": [
    {
     "name": "stdout",
     "output_type": "stream",
     "text": [
      "CPU times: user 640 ms, sys: 56 ms, total: 696 ms\n",
      "Wall time: 695 ms\n"
     ]
    },
    {
     "data": {
      "text/plain": [
       "(1374, 10000)"
      ]
     },
     "execution_count": 98,
     "metadata": {},
     "output_type": "execute_result"
    }
   ],
   "source": [
    "# Make bag of Spanish words\n",
    "%time X_es = vect_es.fit_transform(df_es.desc).toarray()\n",
    "X_es.shape"
   ]
  },
  {
   "cell_type": "code",
   "execution_count": 99,
   "metadata": {},
   "outputs": [
    {
     "name": "stdout",
     "output_type": "stream",
     "text": [
      "CPU times: user 2.84 s, sys: 344 ms, total: 3.18 s\n",
      "Wall time: 134 ms\n"
     ]
    },
    {
     "data": {
      "text/plain": [
       "(1374, 1374)"
      ]
     },
     "execution_count": 99,
     "metadata": {},
     "output_type": "execute_result"
    }
   ],
   "source": [
    "# Calculate similarity between Spanish courses\n",
    "%time cos_es = cosine_similarity(X_es)\n",
    "cos_es.shape"
   ]
  },
  {
   "cell_type": "code",
   "execution_count": 100,
   "metadata": {},
   "outputs": [
    {
     "name": "stdout",
     "output_type": "stream",
     "text": [
      "CPU times: user 0 ns, sys: 0 ns, total: 0 ns\n",
      "Wall time: 313 µs\n"
     ]
    },
    {
     "data": {
      "text/html": [
       "<div>\n",
       "<style scoped>\n",
       "    .dataframe tbody tr th:only-of-type {\n",
       "        vertical-align: middle;\n",
       "    }\n",
       "\n",
       "    .dataframe tbody tr th {\n",
       "        vertical-align: top;\n",
       "    }\n",
       "\n",
       "    .dataframe thead th {\n",
       "        text-align: right;\n",
       "    }\n",
       "</style>\n",
       "<table border=\"1\" class=\"dataframe\">\n",
       "  <thead>\n",
       "    <tr style=\"text-align: right;\">\n",
       "      <th>id</th>\n",
       "      <th>59</th>\n",
       "      <th>124</th>\n",
       "      <th>160</th>\n",
       "      <th>166</th>\n",
       "      <th>196</th>\n",
       "      <th>198</th>\n",
       "      <th>252</th>\n",
       "      <th>272</th>\n",
       "      <th>273</th>\n",
       "      <th>386</th>\n",
       "      <th>...</th>\n",
       "      <th>28003</th>\n",
       "      <th>28060</th>\n",
       "      <th>28104</th>\n",
       "      <th>28196</th>\n",
       "      <th>28197</th>\n",
       "      <th>28256</th>\n",
       "      <th>28293</th>\n",
       "      <th>28305</th>\n",
       "      <th>28308</th>\n",
       "      <th>28316</th>\n",
       "    </tr>\n",
       "    <tr>\n",
       "      <th>id</th>\n",
       "      <th></th>\n",
       "      <th></th>\n",
       "      <th></th>\n",
       "      <th></th>\n",
       "      <th></th>\n",
       "      <th></th>\n",
       "      <th></th>\n",
       "      <th></th>\n",
       "      <th></th>\n",
       "      <th></th>\n",
       "      <th></th>\n",
       "      <th></th>\n",
       "      <th></th>\n",
       "      <th></th>\n",
       "      <th></th>\n",
       "      <th></th>\n",
       "      <th></th>\n",
       "      <th></th>\n",
       "      <th></th>\n",
       "      <th></th>\n",
       "      <th></th>\n",
       "    </tr>\n",
       "  </thead>\n",
       "  <tbody>\n",
       "    <tr>\n",
       "      <th>59</th>\n",
       "      <td>1.000000</td>\n",
       "      <td>0.176484</td>\n",
       "      <td>0.253005</td>\n",
       "      <td>0.620437</td>\n",
       "      <td>0.346153</td>\n",
       "      <td>0.555848</td>\n",
       "      <td>0.131815</td>\n",
       "      <td>0.516265</td>\n",
       "      <td>0.523597</td>\n",
       "      <td>0.288639</td>\n",
       "      <td>...</td>\n",
       "      <td>0.021902</td>\n",
       "      <td>0.046280</td>\n",
       "      <td>0.012937</td>\n",
       "      <td>0.008466</td>\n",
       "      <td>0.076062</td>\n",
       "      <td>0.034706</td>\n",
       "      <td>0.611635</td>\n",
       "      <td>0.186674</td>\n",
       "      <td>0.305578</td>\n",
       "      <td>0.512929</td>\n",
       "    </tr>\n",
       "    <tr>\n",
       "      <th>124</th>\n",
       "      <td>0.176484</td>\n",
       "      <td>1.000000</td>\n",
       "      <td>0.326396</td>\n",
       "      <td>0.154654</td>\n",
       "      <td>0.271194</td>\n",
       "      <td>0.213047</td>\n",
       "      <td>0.103031</td>\n",
       "      <td>0.139288</td>\n",
       "      <td>0.058820</td>\n",
       "      <td>0.207200</td>\n",
       "      <td>...</td>\n",
       "      <td>0.045815</td>\n",
       "      <td>0.034386</td>\n",
       "      <td>0.014053</td>\n",
       "      <td>0.014444</td>\n",
       "      <td>0.052614</td>\n",
       "      <td>0.057494</td>\n",
       "      <td>0.062809</td>\n",
       "      <td>0.074058</td>\n",
       "      <td>0.070951</td>\n",
       "      <td>0.110973</td>\n",
       "    </tr>\n",
       "    <tr>\n",
       "      <th>160</th>\n",
       "      <td>0.253005</td>\n",
       "      <td>0.326396</td>\n",
       "      <td>1.000000</td>\n",
       "      <td>0.183561</td>\n",
       "      <td>0.285323</td>\n",
       "      <td>0.275872</td>\n",
       "      <td>0.136033</td>\n",
       "      <td>0.207617</td>\n",
       "      <td>0.096552</td>\n",
       "      <td>0.258254</td>\n",
       "      <td>...</td>\n",
       "      <td>0.020012</td>\n",
       "      <td>0.042150</td>\n",
       "      <td>0.020907</td>\n",
       "      <td>0.024510</td>\n",
       "      <td>0.062677</td>\n",
       "      <td>0.036572</td>\n",
       "      <td>0.092382</td>\n",
       "      <td>0.105128</td>\n",
       "      <td>0.100419</td>\n",
       "      <td>0.144274</td>\n",
       "    </tr>\n",
       "    <tr>\n",
       "      <th>166</th>\n",
       "      <td>0.620437</td>\n",
       "      <td>0.154654</td>\n",
       "      <td>0.183561</td>\n",
       "      <td>1.000000</td>\n",
       "      <td>0.265303</td>\n",
       "      <td>0.494196</td>\n",
       "      <td>0.094684</td>\n",
       "      <td>0.560361</td>\n",
       "      <td>0.628555</td>\n",
       "      <td>0.275363</td>\n",
       "      <td>...</td>\n",
       "      <td>0.009847</td>\n",
       "      <td>0.034417</td>\n",
       "      <td>0.017605</td>\n",
       "      <td>0.012930</td>\n",
       "      <td>0.035282</td>\n",
       "      <td>0.022621</td>\n",
       "      <td>0.672668</td>\n",
       "      <td>0.174325</td>\n",
       "      <td>0.322656</td>\n",
       "      <td>0.485790</td>\n",
       "    </tr>\n",
       "    <tr>\n",
       "      <th>196</th>\n",
       "      <td>0.346153</td>\n",
       "      <td>0.271194</td>\n",
       "      <td>0.285323</td>\n",
       "      <td>0.265303</td>\n",
       "      <td>1.000000</td>\n",
       "      <td>0.342594</td>\n",
       "      <td>0.166987</td>\n",
       "      <td>0.249826</td>\n",
       "      <td>0.185296</td>\n",
       "      <td>0.362461</td>\n",
       "      <td>...</td>\n",
       "      <td>0.021300</td>\n",
       "      <td>0.049835</td>\n",
       "      <td>0.013936</td>\n",
       "      <td>0.006694</td>\n",
       "      <td>0.078546</td>\n",
       "      <td>0.038244</td>\n",
       "      <td>0.217050</td>\n",
       "      <td>0.122296</td>\n",
       "      <td>0.155739</td>\n",
       "      <td>0.242650</td>\n",
       "    </tr>\n",
       "  </tbody>\n",
       "</table>\n",
       "<p>5 rows × 1374 columns</p>\n",
       "</div>"
      ],
      "text/plain": [
       "id      59        124       160       166       196       198       252    \\\n",
       "id                                                                          \n",
       "59   1.000000  0.176484  0.253005  0.620437  0.346153  0.555848  0.131815   \n",
       "124  0.176484  1.000000  0.326396  0.154654  0.271194  0.213047  0.103031   \n",
       "160  0.253005  0.326396  1.000000  0.183561  0.285323  0.275872  0.136033   \n",
       "166  0.620437  0.154654  0.183561  1.000000  0.265303  0.494196  0.094684   \n",
       "196  0.346153  0.271194  0.285323  0.265303  1.000000  0.342594  0.166987   \n",
       "\n",
       "id      272       273       386      ...        28003     28060     28104  \\\n",
       "id                                   ...                                    \n",
       "59   0.516265  0.523597  0.288639    ...     0.021902  0.046280  0.012937   \n",
       "124  0.139288  0.058820  0.207200    ...     0.045815  0.034386  0.014053   \n",
       "160  0.207617  0.096552  0.258254    ...     0.020012  0.042150  0.020907   \n",
       "166  0.560361  0.628555  0.275363    ...     0.009847  0.034417  0.017605   \n",
       "196  0.249826  0.185296  0.362461    ...     0.021300  0.049835  0.013936   \n",
       "\n",
       "id      28196     28197     28256     28293     28305     28308     28316  \n",
       "id                                                                         \n",
       "59   0.008466  0.076062  0.034706  0.611635  0.186674  0.305578  0.512929  \n",
       "124  0.014444  0.052614  0.057494  0.062809  0.074058  0.070951  0.110973  \n",
       "160  0.024510  0.062677  0.036572  0.092382  0.105128  0.100419  0.144274  \n",
       "166  0.012930  0.035282  0.022621  0.672668  0.174325  0.322656  0.485790  \n",
       "196  0.006694  0.078546  0.038244  0.217050  0.122296  0.155739  0.242650  \n",
       "\n",
       "[5 rows x 1374 columns]"
      ]
     },
     "execution_count": 100,
     "metadata": {},
     "output_type": "execute_result"
    }
   ],
   "source": [
    "# Save similarity to a DF with original courses id as index/columns\n",
    "%time df_cos_es = pd.DataFrame(cos_es, index=df_es.index, columns=df_es.index)\n",
    "df_cos_es.head()"
   ]
  },
  {
   "cell_type": "code",
   "execution_count": 109,
   "metadata": {},
   "outputs": [
    {
     "data": {
      "text/plain": [
       "id\n",
       "12247    0.421412\n",
       "5687     0.417660\n",
       "12863    0.411200\n",
       "18813    0.400701\n",
       "23506    0.391341\n",
       "5558     0.387094\n",
       "17964    0.383548\n",
       "12660    0.383405\n",
       "9563     0.381669\n",
       "11575    0.375659\n",
       "Name: 21704, dtype: float64"
      ]
     },
     "execution_count": 109,
     "metadata": {},
     "output_type": "execute_result"
    }
   ],
   "source": [
    "# recommendations for course with id=21704\n",
    "r21704 = df_cos_es.loc[21704].nlargest(11)[1:11]\n",
    "r21704"
   ]
  },
  {
   "cell_type": "code",
   "execution_count": 110,
   "metadata": {},
   "outputs": [
    {
     "data": {
      "text/plain": [
       "id\n",
       "6863     0.677029\n",
       "19967    0.599954\n",
       "20053    0.555117\n",
       "20277    0.464146\n",
       "20215    0.431298\n",
       "20251    0.287065\n",
       "23629    0.240561\n",
       "17838    0.240361\n",
       "4714     0.238875\n",
       "6864     0.238516\n",
       "Name: 23115, dtype: float64"
      ]
     },
     "execution_count": 110,
     "metadata": {},
     "output_type": "execute_result"
    }
   ],
   "source": [
    "# recommendations for course with id=23115\n",
    "r23115 = df_cos_es.loc[23115].nlargest(11)[1:11]\n",
    "r23115"
   ]
  },
  {
   "cell_type": "markdown",
   "metadata": {},
   "source": [
    "## Save to Json"
   ]
  },
  {
   "cell_type": "code",
   "execution_count": 121,
   "metadata": {},
   "outputs": [
    {
     "data": {
      "text/plain": [
       "{'74': [22656, 89, 1676, 9684, 7635, 4279, 5784, 75, 7612, 238],\n",
       " '11821': [26350, 9762, 14380, 22293, 24807, 24183, 18426, 7483, 11964, 1902],\n",
       " '1256': [20292, 1285, 1011, 819, 20307, 1060, 1348, 1369, 1228, 960],\n",
       " '21404': [21403, 1052, 21042, 1288, 20368, 992, 1057, 1349, 8298, 21088],\n",
       " '21704': [12247, 5687, 12863, 18813, 23506, 5558, 17964, 12660, 9563, 11575],\n",
       " '23115': [6863, 19967, 20053, 20277, 20215, 20251, 23629, 17838, 4714, 6864]}"
      ]
     },
     "execution_count": 121,
     "metadata": {},
     "output_type": "execute_result"
    }
   ],
   "source": [
    "d = {\"74\": [x for x in r74.index],\n",
    "     \"11821\": [x for x in r11821.index],\n",
    "     \"1256\": [x for x in r1256.index],\n",
    "     \"21404\": [x for x in r21404.index],\n",
    "     \"21704\": [x for x in r21704.index],\n",
    "     \"23115\": [x for x in r23115.index]}\n",
    "d"
   ]
  },
  {
   "cell_type": "code",
   "execution_count": 122,
   "metadata": {},
   "outputs": [
    {
     "data": {
      "text/plain": [
       "'{\"74\": [22656, 89, 1676, 9684, 7635, 4279, 5784, 75, 7612, 238], \"11821\": [26350, 9762, 14380, 22293, 24807, 24183, 18426, 7483, 11964, 1902], \"1256\": [20292, 1285, 1011, 819, 20307, 1060, 1348, 1369, 1228, 960], \"21404\": [21403, 1052, 21042, 1288, 20368, 992, 1057, 1349, 8298, 21088], \"21704\": [12247, 5687, 12863, 18813, 23506, 5558, 17964, 12660, 9563, 11575], \"23115\": [6863, 19967, 20053, 20277, 20215, 20251, 23629, 17838, 4714, 6864]}'"
      ]
     },
     "execution_count": 122,
     "metadata": {},
     "output_type": "execute_result"
    }
   ],
   "source": [
    "# Preview json string\n",
    "json.dumps(d)"
   ]
  },
  {
   "cell_type": "code",
   "execution_count": 123,
   "metadata": {},
   "outputs": [],
   "source": [
    "# Save the dictionary to a json file\n",
    "with open('../../lab07.json', 'w') as f:\n",
    "    json.dump(d, f)"
   ]
  },
  {
   "cell_type": "code",
   "execution_count": 124,
   "metadata": {},
   "outputs": [],
   "source": [
    "# Save the dictionary to a json file\n",
    "with open('../../lab07s.json', 'w') as f:\n",
    "    json.dump(d, f)"
   ]
  },
  {
   "cell_type": "code",
   "execution_count": null,
   "metadata": {},
   "outputs": [],
   "source": []
  }
 ],
 "metadata": {
  "kernelspec": {
   "display_name": "Python 3",
   "language": "python",
   "name": "python3"
  },
  "language_info": {
   "codemirror_mode": {
    "name": "ipython",
    "version": 3
   },
   "file_extension": ".py",
   "mimetype": "text/x-python",
   "name": "python",
   "nbconvert_exporter": "python",
   "pygments_lexer": "ipython3",
   "version": "3.6.5"
  }
 },
 "nbformat": 4,
 "nbformat_minor": 2
}

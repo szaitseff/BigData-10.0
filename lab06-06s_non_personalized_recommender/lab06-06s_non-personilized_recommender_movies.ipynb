{
 "cells": [
  {
   "cell_type": "markdown",
   "metadata": {},
   "source": [
    "## Лаба 6. Подсчёт статистики по фильмам\n",
    "\n",
    "### Дедлайн⏰ \n",
    "\n",
    "Четверг, 23 мая 2019 года, 23:59.\n",
    "\n",
    "### Задача\n",
    "\n",
    "По имеющимся данным о рейтингах фильмов (MovieLens: 100 000 рейтингов) посчитать агрегированную статистику по ним.\n",
    "\n",
    "#### Обработка данных на вход\n",
    "\n",
    "Имеются следующие входные данные:\n",
    "\n",
    "* Таблица users * films с рейтингами. Архив с датасетом нужно скачать с сайта GroupLens: http://files.grouplens.org/datasets/movielens/ml-100k.zip. Также, он загружен на HDFS в /labs/lab06data/ml-100k. Файл u.data содержит все оценки, а файл u.item — список всех фильмов.\n",
    "* id фильма для расчета индивидуальных характеристик — в вашем Личном кабинете на странице Лабы 6.\n",
    "\n",
    "#### Обработка данных на выход\n",
    "\n",
    "Для выданного id фильма:\n",
    "1. Построить распределения оценок. Получится таблица, где в первом столбце стоят значения оценки 1,2,3,4,5, а во втором — количество человек, поставивших соответствующую оценку. Поле должно называться “hist_film”.\n",
    "2. Чтобы понять какие оценки предпочитают ставить пользователи MovieLens, постройте аналогичное предыдущему пункту распределение оценок, но только уже для всего датасета. Поле должно называться “hist_all”.\n",
    "\n",
    "Файл с решением должен содержать только значения распределения оценок 1,2,3,4,5 из вашей полученной таблицы.\n",
    "\n",
    "В поле “hist_film” нужно указать в следующем порядке для заданного id фильма количество поставленных оценок: 1,2,3,4,5.\n",
    "\n",
    "В поле “hist_all” нужно указать в следующем порядке для всех фильмов общее количество поставленных оценок: 1,2,3,4,5.\n",
    "\n",
    "Выходной формат — json. Пример решения:\n",
    "\n",
    "`{\n",
    "\"hist_film\": [134,123,782,356,148],\n",
    "\"hist_all\": [134,123,782,356,148]\n",
    "}`\n",
    "\n",
    "#### Проверка\n",
    "\n",
    "Файл необходимо положить в свою домашнюю директорию под названием: lab06.json.\n",
    "\n",
    "Проверка осуществляется автоматическим скриптом из Личного кабинета.\n",
    "\n",
    "## Решение"
   ]
  },
  {
   "cell_type": "markdown",
   "metadata": {},
   "source": [
    "### Load dataset"
   ]
  },
  {
   "cell_type": "code",
   "execution_count": 1,
   "metadata": {},
   "outputs": [],
   "source": [
    "import pandas as pd\n",
    "import json"
   ]
  },
  {
   "cell_type": "code",
   "execution_count": 10,
   "metadata": {},
   "outputs": [],
   "source": [
    "# Load the main table with users, films, ratings\n",
    "df = pd.read_csv('ml-100k/u.data', sep='\\t', header=None, names=['user_id', 'item_id', 'rating', 'timestamp'])"
   ]
  },
  {
   "cell_type": "code",
   "execution_count": 11,
   "metadata": {},
   "outputs": [
    {
     "data": {
      "text/html": [
       "<div>\n",
       "<style scoped>\n",
       "    .dataframe tbody tr th:only-of-type {\n",
       "        vertical-align: middle;\n",
       "    }\n",
       "\n",
       "    .dataframe tbody tr th {\n",
       "        vertical-align: top;\n",
       "    }\n",
       "\n",
       "    .dataframe thead th {\n",
       "        text-align: right;\n",
       "    }\n",
       "</style>\n",
       "<table border=\"1\" class=\"dataframe\">\n",
       "  <thead>\n",
       "    <tr style=\"text-align: right;\">\n",
       "      <th></th>\n",
       "      <th>user_id</th>\n",
       "      <th>item_id</th>\n",
       "      <th>rating</th>\n",
       "      <th>timestamp</th>\n",
       "    </tr>\n",
       "  </thead>\n",
       "  <tbody>\n",
       "    <tr>\n",
       "      <th>0</th>\n",
       "      <td>196</td>\n",
       "      <td>242</td>\n",
       "      <td>3</td>\n",
       "      <td>881250949</td>\n",
       "    </tr>\n",
       "    <tr>\n",
       "      <th>1</th>\n",
       "      <td>186</td>\n",
       "      <td>302</td>\n",
       "      <td>3</td>\n",
       "      <td>891717742</td>\n",
       "    </tr>\n",
       "    <tr>\n",
       "      <th>2</th>\n",
       "      <td>22</td>\n",
       "      <td>377</td>\n",
       "      <td>1</td>\n",
       "      <td>878887116</td>\n",
       "    </tr>\n",
       "    <tr>\n",
       "      <th>3</th>\n",
       "      <td>244</td>\n",
       "      <td>51</td>\n",
       "      <td>2</td>\n",
       "      <td>880606923</td>\n",
       "    </tr>\n",
       "    <tr>\n",
       "      <th>4</th>\n",
       "      <td>166</td>\n",
       "      <td>346</td>\n",
       "      <td>1</td>\n",
       "      <td>886397596</td>\n",
       "    </tr>\n",
       "  </tbody>\n",
       "</table>\n",
       "</div>"
      ],
      "text/plain": [
       "   user_id  item_id  rating  timestamp\n",
       "0      196      242       3  881250949\n",
       "1      186      302       3  891717742\n",
       "2       22      377       1  878887116\n",
       "3      244       51       2  880606923\n",
       "4      166      346       1  886397596"
      ]
     },
     "execution_count": 11,
     "metadata": {},
     "output_type": "execute_result"
    }
   ],
   "source": [
    "df.head()"
   ]
  },
  {
   "cell_type": "code",
   "execution_count": 12,
   "metadata": {},
   "outputs": [
    {
     "data": {
      "text/plain": [
       "943"
      ]
     },
     "execution_count": 12,
     "metadata": {},
     "output_type": "execute_result"
    }
   ],
   "source": [
    "df.user_id.nunique()"
   ]
  },
  {
   "cell_type": "code",
   "execution_count": 13,
   "metadata": {},
   "outputs": [
    {
     "data": {
      "text/plain": [
       "1682"
      ]
     },
     "execution_count": 13,
     "metadata": {},
     "output_type": "execute_result"
    }
   ],
   "source": [
    "df.item_id.nunique()"
   ]
  },
  {
   "cell_type": "code",
   "execution_count": 14,
   "metadata": {},
   "outputs": [
    {
     "data": {
      "text/plain": [
       "array([3, 1, 2, 4, 5])"
      ]
     },
     "execution_count": 14,
     "metadata": {},
     "output_type": "execute_result"
    }
   ],
   "source": [
    "df.rating.unique()"
   ]
  },
  {
   "cell_type": "code",
   "execution_count": 117,
   "metadata": {},
   "outputs": [
    {
     "data": {
      "text/html": [
       "<div>\n",
       "<style scoped>\n",
       "    .dataframe tbody tr th:only-of-type {\n",
       "        vertical-align: middle;\n",
       "    }\n",
       "\n",
       "    .dataframe tbody tr th {\n",
       "        vertical-align: top;\n",
       "    }\n",
       "\n",
       "    .dataframe thead th {\n",
       "        text-align: right;\n",
       "    }\n",
       "</style>\n",
       "<table border=\"1\" class=\"dataframe\">\n",
       "  <thead>\n",
       "    <tr style=\"text-align: right;\">\n",
       "      <th></th>\n",
       "      <th>movie_title</th>\n",
       "    </tr>\n",
       "    <tr>\n",
       "      <th>movie_id</th>\n",
       "      <th></th>\n",
       "    </tr>\n",
       "  </thead>\n",
       "  <tbody>\n",
       "    <tr>\n",
       "      <th>1</th>\n",
       "      <td>Toy Story (1995)</td>\n",
       "    </tr>\n",
       "    <tr>\n",
       "      <th>2</th>\n",
       "      <td>GoldenEye (1995)</td>\n",
       "    </tr>\n",
       "    <tr>\n",
       "      <th>3</th>\n",
       "      <td>Four Rooms (1995)</td>\n",
       "    </tr>\n",
       "    <tr>\n",
       "      <th>4</th>\n",
       "      <td>Get Shorty (1995)</td>\n",
       "    </tr>\n",
       "    <tr>\n",
       "      <th>5</th>\n",
       "      <td>Copycat (1995)</td>\n",
       "    </tr>\n",
       "  </tbody>\n",
       "</table>\n",
       "</div>"
      ],
      "text/plain": [
       "                movie_title\n",
       "movie_id                   \n",
       "1          Toy Story (1995)\n",
       "2          GoldenEye (1995)\n",
       "3         Four Rooms (1995)\n",
       "4         Get Shorty (1995)\n",
       "5            Copycat (1995)"
      ]
     },
     "execution_count": 117,
     "metadata": {},
     "output_type": "execute_result"
    }
   ],
   "source": [
    "# Load films description\n",
    "df2 = pd.read_csv('ml-100k/u.item', sep='\\|', header=None, names=['movie_id', 'movie_title', 'release date', \n",
    "                                                                  'video release date', 'IMDb URL', 'unknown', \n",
    "                                                                  'Action', 'Adventure', 'Animation', 'Children', \n",
    "                                                                  'Comedy', 'Crime', 'Documentary', 'Drama', 'Fantasy', \n",
    "                                                                  'Film-Noir', 'Horror', 'Musical', 'Mystery', 'Romance', \n",
    "                                                                  'Sci-Fi', 'Thriller', 'War', 'Western'], \n",
    "                  index_col=0, usecols=[0,1], engine='python')\n",
    "\n",
    "df2.head()    "
   ]
  },
  {
   "cell_type": "code",
   "execution_count": 120,
   "metadata": {},
   "outputs": [
    {
     "data": {
      "text/plain": [
       "(1682, 1)"
      ]
     },
     "execution_count": 120,
     "metadata": {},
     "output_type": "execute_result"
    }
   ],
   "source": [
    "df2.shape"
   ]
  },
  {
   "cell_type": "markdown",
   "metadata": {},
   "source": [
    "### Calculate distribution of ratings\n",
    "#### film id for calculations = 257"
   ]
  },
  {
   "cell_type": "code",
   "execution_count": 17,
   "metadata": {},
   "outputs": [
    {
     "data": {
      "text/html": [
       "<div>\n",
       "<style scoped>\n",
       "    .dataframe tbody tr th:only-of-type {\n",
       "        vertical-align: middle;\n",
       "    }\n",
       "\n",
       "    .dataframe tbody tr th {\n",
       "        vertical-align: top;\n",
       "    }\n",
       "\n",
       "    .dataframe thead th {\n",
       "        text-align: right;\n",
       "    }\n",
       "</style>\n",
       "<table border=\"1\" class=\"dataframe\">\n",
       "  <thead>\n",
       "    <tr style=\"text-align: right;\">\n",
       "      <th></th>\n",
       "      <th>user_id</th>\n",
       "    </tr>\n",
       "    <tr>\n",
       "      <th>rating</th>\n",
       "      <th></th>\n",
       "    </tr>\n",
       "  </thead>\n",
       "  <tbody>\n",
       "    <tr>\n",
       "      <th>1</th>\n",
       "      <td>2</td>\n",
       "    </tr>\n",
       "    <tr>\n",
       "      <th>2</th>\n",
       "      <td>28</td>\n",
       "    </tr>\n",
       "    <tr>\n",
       "      <th>3</th>\n",
       "      <td>81</td>\n",
       "    </tr>\n",
       "    <tr>\n",
       "      <th>4</th>\n",
       "      <td>126</td>\n",
       "    </tr>\n",
       "    <tr>\n",
       "      <th>5</th>\n",
       "      <td>66</td>\n",
       "    </tr>\n",
       "  </tbody>\n",
       "</table>\n",
       "</div>"
      ],
      "text/plain": [
       "        user_id\n",
       "rating         \n",
       "1             2\n",
       "2            28\n",
       "3            81\n",
       "4           126\n",
       "5            66"
      ]
     },
     "execution_count": 17,
     "metadata": {},
     "output_type": "execute_result"
    }
   ],
   "source": [
    "# распределение оценок для выбранного фильма\n",
    "hist_film = df.loc[df['item_id']==257, ['user_id', 'rating']].groupby('rating').count()\n",
    "hist_film"
   ]
  },
  {
   "cell_type": "code",
   "execution_count": 18,
   "metadata": {},
   "outputs": [
    {
     "data": {
      "text/html": [
       "<div>\n",
       "<style scoped>\n",
       "    .dataframe tbody tr th:only-of-type {\n",
       "        vertical-align: middle;\n",
       "    }\n",
       "\n",
       "    .dataframe tbody tr th {\n",
       "        vertical-align: top;\n",
       "    }\n",
       "\n",
       "    .dataframe thead th {\n",
       "        text-align: right;\n",
       "    }\n",
       "</style>\n",
       "<table border=\"1\" class=\"dataframe\">\n",
       "  <thead>\n",
       "    <tr style=\"text-align: right;\">\n",
       "      <th></th>\n",
       "      <th>user_id</th>\n",
       "    </tr>\n",
       "    <tr>\n",
       "      <th>rating</th>\n",
       "      <th></th>\n",
       "    </tr>\n",
       "  </thead>\n",
       "  <tbody>\n",
       "    <tr>\n",
       "      <th>1</th>\n",
       "      <td>6110</td>\n",
       "    </tr>\n",
       "    <tr>\n",
       "      <th>2</th>\n",
       "      <td>11370</td>\n",
       "    </tr>\n",
       "    <tr>\n",
       "      <th>3</th>\n",
       "      <td>27145</td>\n",
       "    </tr>\n",
       "    <tr>\n",
       "      <th>4</th>\n",
       "      <td>34174</td>\n",
       "    </tr>\n",
       "    <tr>\n",
       "      <th>5</th>\n",
       "      <td>21201</td>\n",
       "    </tr>\n",
       "  </tbody>\n",
       "</table>\n",
       "</div>"
      ],
      "text/plain": [
       "        user_id\n",
       "rating         \n",
       "1          6110\n",
       "2         11370\n",
       "3         27145\n",
       "4         34174\n",
       "5         21201"
      ]
     },
     "execution_count": 18,
     "metadata": {},
     "output_type": "execute_result"
    }
   ],
   "source": [
    "# распределение оценок для всего датасета\n",
    "hist_all = df.loc[:, ['user_id', 'rating']].groupby('rating').count()\n",
    "hist_all"
   ]
  },
  {
   "cell_type": "markdown",
   "metadata": {},
   "source": [
    "### Save the distributions to json file"
   ]
  },
  {
   "cell_type": "code",
   "execution_count": 131,
   "metadata": {},
   "outputs": [
    {
     "data": {
      "text/plain": [
       "{'hist_film': [2, 28, 81, 126, 66],\n",
       " 'hist_all': [6110, 11370, 27145, 34174, 21201]}"
      ]
     },
     "execution_count": 131,
     "metadata": {},
     "output_type": "execute_result"
    }
   ],
   "source": [
    "# Make a dictionary to present the distributions in the required format\n",
    "d = {\n",
    "'hist_film': [item for item in hist_film.user_id],\n",
    "'hist_all': [item for item in hist_all.user_id]\n",
    "}\n",
    "d"
   ]
  },
  {
   "cell_type": "code",
   "execution_count": 20,
   "metadata": {},
   "outputs": [
    {
     "data": {
      "text/plain": [
       "'{\"hist_film\": [2, 28, 81, 126, 66], \"hist_all\": [6110, 11370, 27145, 34174, 21201]}'"
      ]
     },
     "execution_count": 20,
     "metadata": {},
     "output_type": "execute_result"
    }
   ],
   "source": [
    "# Preview json string\n",
    "json.dumps(d)"
   ]
  },
  {
   "cell_type": "code",
   "execution_count": 8,
   "metadata": {},
   "outputs": [],
   "source": [
    "# Save the dictionary to a json file\n",
    "with open('lab06.json', 'w') as f:\n",
    "    json.dump(d, f)"
   ]
  },
  {
   "cell_type": "markdown",
   "metadata": {},
   "source": [
    "## ✨ Лаба 6. Суперачивка. Построение неперсонализированной рекомендательной системы для фильмов\n",
    "\n",
    "### Дедлайн\n",
    "\n",
    "⏰ Четверг, 23 мая 2018 года, 23:59.\n",
    "\n",
    "### Задача\n",
    "\n",
    "По данным о рейтингах фильмов из MovieLens рекомендовать топ-10 фильмов по разным критериям.\n",
    "\n",
    "#### Обработка данных на вход\n",
    "\n",
    "Имеются следующие входные данные:\n",
    "* Та же таблица `users * films` с рейтингами, что и в [Лабе 6](lab06.md).\n",
    "* Параметр `k` = 50 для расчета поправленного среднего рейтинга. Параметр берётся из [Личного кабинета](http://lk.newprolab.com/lab/laba06s).\n",
    "* Процент доверия для расчёта границ доверительного интервала [1.645, u'90.00%']. Параметр берётся из [Личного кабинета](http://lk.newprolab.com/lab/laba06s).\n",
    "\n",
    "#### Обработка данных на выход\n",
    "\n",
    "Для каждого фильма необходимо посчитать:\n",
    "1. Количество человек `n`, поставивших рейтинг фильму .\n",
    "2. Средний рейтинг фильма (`сумма рейтингов фильма / количество человек, оценивших фильм`) \n",
    "\n",
    "![tex1](images/lab06s_eq1.svg)\n",
    "\n",
    "3. Количество человек `m`, оценивших фильм положительно. Оценки 4 и выше  считаются положительными. \n",
    "4. Доля людей, оценивших фильм положительно (`пункт 3 / пункт 1` или `m / n`).\n",
    "5. Глобальное среднее по всему датасету. `Сумма всех оценок по всем фильмам /Количество всех оценок по всем фильмам`.\n",
    "\n",
    "![tex2](images/lab06s_eq2.svg)\n",
    "\n",
    "6. Оценку, поправленную на нехватку данных:\n",
    "\n",
    "![tex3](images/lab06s_eq3.svg)\n",
    "\n",
    "Мы искусственно добавляем `k` глобальных средних (\\mu из пункта 5) каждому фильму.\n",
    "\n",
    "7. Нижнюю и верхнюю границы доверительного интервала оценки (Wilson score interval) из лекции с заданным уровнем доверия. \n",
    "\n",
    "![tex4](images/lab06s_eq4.svg)\n",
    "\n",
    "где  `n` —  количество рейтингов (пункт 1), `p` - доля людей, оценивших фильм положительно (пункт 4).\n",
    "   \n",
    "| **уровень доверия, %** | 99.9  | 99    | 95    | 90    |\n",
    "| ---------------------- | ----- | ----- | ----- | ----- |\n",
    "| **z**                  | 3.291 | 2.576 | 1.960 | 1.645 |\n",
    "\n",
    "Рекомендовать топ-10 фильмов (**если рейтинги совпадают, то сортировать по алфавиту названий фильмов от A до Z**):\n",
    "\n",
    "1. По откликам (пункт 1) — поле `“top10_rates”`.\n",
    "2. По среднему рейтингу (пункт 2) — поле `“top10_average”`.\n",
    "3. По среднему рейтингу с регуляризацией `k` (пункт 6) — поле `“top10_rating”`.\n",
    "4. По нижней границе доверительного интервала Wilson (пункт 7) — поле `“top10_lower”`.\n",
    "\n",
    "\n",
    "В поле `“top10_rates”` нужно указать `id` 10 фильмов, упорядоченных по убыванию числа количества человек, посмотревших фильм.\n",
    "\n",
    "В поле `“top10_average”` нужно указать `id` 10 фильмов, упорядоченных по среднему рейтингу.\n",
    "\n",
    "В поле `“top10_rating”` нужно указать `id` 10 фильмов, упорядоченных по среднему рейтингу с регуляризацией.\n",
    "\n",
    "В поле `“top10_lower”` нужно указать id `10` фильмов, упорядоченных по нижней границе доверительного интервала.\n",
    "\n",
    "Выходной формат — json. Пример решения:\n",
    "\n",
    "```\n",
    "{  \n",
    "   \"top10_rates\": [13456, 12378, 78213, ...],\n",
    "   \"top10_average\": [13456, 12378, 78213, ...],\n",
    "   \"top10_rating\": [13456, 12378, 78213, ...],\n",
    "   \"top10_lower\": [13456, 12378, 78213, ...]\n",
    "}\n",
    "```\n",
    "\n",
    "### Проверка\n",
    "\n",
    "Файл необходимо положить в свою домашнюю директорию под названием: `lab06s.json`.\n",
    "\n",
    "Проверка осуществляется [автоматическим скриптом](http://lk.newprolab.com/lab/laba06s) из Личного кабинета.\n",
    "\n",
    "## Решение\n"
   ]
  },
  {
   "cell_type": "code",
   "execution_count": 24,
   "metadata": {},
   "outputs": [
    {
     "data": {
      "text/html": [
       "<div>\n",
       "<style scoped>\n",
       "    .dataframe tbody tr th:only-of-type {\n",
       "        vertical-align: middle;\n",
       "    }\n",
       "\n",
       "    .dataframe tbody tr th {\n",
       "        vertical-align: top;\n",
       "    }\n",
       "\n",
       "    .dataframe thead th {\n",
       "        text-align: right;\n",
       "    }\n",
       "</style>\n",
       "<table border=\"1\" class=\"dataframe\">\n",
       "  <thead>\n",
       "    <tr style=\"text-align: right;\">\n",
       "      <th>item_id</th>\n",
       "      <th>1</th>\n",
       "      <th>2</th>\n",
       "      <th>3</th>\n",
       "      <th>4</th>\n",
       "      <th>5</th>\n",
       "      <th>6</th>\n",
       "      <th>7</th>\n",
       "      <th>8</th>\n",
       "      <th>9</th>\n",
       "      <th>10</th>\n",
       "      <th>...</th>\n",
       "      <th>1673</th>\n",
       "      <th>1674</th>\n",
       "      <th>1675</th>\n",
       "      <th>1676</th>\n",
       "      <th>1677</th>\n",
       "      <th>1678</th>\n",
       "      <th>1679</th>\n",
       "      <th>1680</th>\n",
       "      <th>1681</th>\n",
       "      <th>1682</th>\n",
       "    </tr>\n",
       "    <tr>\n",
       "      <th>user_id</th>\n",
       "      <th></th>\n",
       "      <th></th>\n",
       "      <th></th>\n",
       "      <th></th>\n",
       "      <th></th>\n",
       "      <th></th>\n",
       "      <th></th>\n",
       "      <th></th>\n",
       "      <th></th>\n",
       "      <th></th>\n",
       "      <th></th>\n",
       "      <th></th>\n",
       "      <th></th>\n",
       "      <th></th>\n",
       "      <th></th>\n",
       "      <th></th>\n",
       "      <th></th>\n",
       "      <th></th>\n",
       "      <th></th>\n",
       "      <th></th>\n",
       "      <th></th>\n",
       "    </tr>\n",
       "  </thead>\n",
       "  <tbody>\n",
       "    <tr>\n",
       "      <th>1</th>\n",
       "      <td>5.0</td>\n",
       "      <td>3.0</td>\n",
       "      <td>4.0</td>\n",
       "      <td>3.0</td>\n",
       "      <td>3.0</td>\n",
       "      <td>5.0</td>\n",
       "      <td>4.0</td>\n",
       "      <td>1.0</td>\n",
       "      <td>5.0</td>\n",
       "      <td>3.0</td>\n",
       "      <td>...</td>\n",
       "      <td>NaN</td>\n",
       "      <td>NaN</td>\n",
       "      <td>NaN</td>\n",
       "      <td>NaN</td>\n",
       "      <td>NaN</td>\n",
       "      <td>NaN</td>\n",
       "      <td>NaN</td>\n",
       "      <td>NaN</td>\n",
       "      <td>NaN</td>\n",
       "      <td>NaN</td>\n",
       "    </tr>\n",
       "    <tr>\n",
       "      <th>2</th>\n",
       "      <td>4.0</td>\n",
       "      <td>NaN</td>\n",
       "      <td>NaN</td>\n",
       "      <td>NaN</td>\n",
       "      <td>NaN</td>\n",
       "      <td>NaN</td>\n",
       "      <td>NaN</td>\n",
       "      <td>NaN</td>\n",
       "      <td>NaN</td>\n",
       "      <td>2.0</td>\n",
       "      <td>...</td>\n",
       "      <td>NaN</td>\n",
       "      <td>NaN</td>\n",
       "      <td>NaN</td>\n",
       "      <td>NaN</td>\n",
       "      <td>NaN</td>\n",
       "      <td>NaN</td>\n",
       "      <td>NaN</td>\n",
       "      <td>NaN</td>\n",
       "      <td>NaN</td>\n",
       "      <td>NaN</td>\n",
       "    </tr>\n",
       "    <tr>\n",
       "      <th>3</th>\n",
       "      <td>NaN</td>\n",
       "      <td>NaN</td>\n",
       "      <td>NaN</td>\n",
       "      <td>NaN</td>\n",
       "      <td>NaN</td>\n",
       "      <td>NaN</td>\n",
       "      <td>NaN</td>\n",
       "      <td>NaN</td>\n",
       "      <td>NaN</td>\n",
       "      <td>NaN</td>\n",
       "      <td>...</td>\n",
       "      <td>NaN</td>\n",
       "      <td>NaN</td>\n",
       "      <td>NaN</td>\n",
       "      <td>NaN</td>\n",
       "      <td>NaN</td>\n",
       "      <td>NaN</td>\n",
       "      <td>NaN</td>\n",
       "      <td>NaN</td>\n",
       "      <td>NaN</td>\n",
       "      <td>NaN</td>\n",
       "    </tr>\n",
       "    <tr>\n",
       "      <th>4</th>\n",
       "      <td>NaN</td>\n",
       "      <td>NaN</td>\n",
       "      <td>NaN</td>\n",
       "      <td>NaN</td>\n",
       "      <td>NaN</td>\n",
       "      <td>NaN</td>\n",
       "      <td>NaN</td>\n",
       "      <td>NaN</td>\n",
       "      <td>NaN</td>\n",
       "      <td>NaN</td>\n",
       "      <td>...</td>\n",
       "      <td>NaN</td>\n",
       "      <td>NaN</td>\n",
       "      <td>NaN</td>\n",
       "      <td>NaN</td>\n",
       "      <td>NaN</td>\n",
       "      <td>NaN</td>\n",
       "      <td>NaN</td>\n",
       "      <td>NaN</td>\n",
       "      <td>NaN</td>\n",
       "      <td>NaN</td>\n",
       "    </tr>\n",
       "    <tr>\n",
       "      <th>5</th>\n",
       "      <td>4.0</td>\n",
       "      <td>3.0</td>\n",
       "      <td>NaN</td>\n",
       "      <td>NaN</td>\n",
       "      <td>NaN</td>\n",
       "      <td>NaN</td>\n",
       "      <td>NaN</td>\n",
       "      <td>NaN</td>\n",
       "      <td>NaN</td>\n",
       "      <td>NaN</td>\n",
       "      <td>...</td>\n",
       "      <td>NaN</td>\n",
       "      <td>NaN</td>\n",
       "      <td>NaN</td>\n",
       "      <td>NaN</td>\n",
       "      <td>NaN</td>\n",
       "      <td>NaN</td>\n",
       "      <td>NaN</td>\n",
       "      <td>NaN</td>\n",
       "      <td>NaN</td>\n",
       "      <td>NaN</td>\n",
       "    </tr>\n",
       "  </tbody>\n",
       "</table>\n",
       "<p>5 rows × 1682 columns</p>\n",
       "</div>"
      ],
      "text/plain": [
       "item_id  1     2     3     4     5     6     7     8     9     10    ...   \\\n",
       "user_id                                                              ...    \n",
       "1         5.0   3.0   4.0   3.0   3.0   5.0   4.0   1.0   5.0   3.0  ...    \n",
       "2         4.0   NaN   NaN   NaN   NaN   NaN   NaN   NaN   NaN   2.0  ...    \n",
       "3         NaN   NaN   NaN   NaN   NaN   NaN   NaN   NaN   NaN   NaN  ...    \n",
       "4         NaN   NaN   NaN   NaN   NaN   NaN   NaN   NaN   NaN   NaN  ...    \n",
       "5         4.0   3.0   NaN   NaN   NaN   NaN   NaN   NaN   NaN   NaN  ...    \n",
       "\n",
       "item_id  1673  1674  1675  1676  1677  1678  1679  1680  1681  1682  \n",
       "user_id                                                              \n",
       "1         NaN   NaN   NaN   NaN   NaN   NaN   NaN   NaN   NaN   NaN  \n",
       "2         NaN   NaN   NaN   NaN   NaN   NaN   NaN   NaN   NaN   NaN  \n",
       "3         NaN   NaN   NaN   NaN   NaN   NaN   NaN   NaN   NaN   NaN  \n",
       "4         NaN   NaN   NaN   NaN   NaN   NaN   NaN   NaN   NaN   NaN  \n",
       "5         NaN   NaN   NaN   NaN   NaN   NaN   NaN   NaN   NaN   NaN  \n",
       "\n",
       "[5 rows x 1682 columns]"
      ]
     },
     "execution_count": 24,
     "metadata": {},
     "output_type": "execute_result"
    }
   ],
   "source": [
    "# Let's make a matrix user_id x item_id for further caclulations.\n",
    "matrix = df.pivot(index='user_id', columns='item_id', values='rating')\n",
    "matrix.head()"
   ]
  },
  {
   "cell_type": "markdown",
   "metadata": {},
   "source": [
    "#### 1. Количество человек n, поставивших рейтинг фильму"
   ]
  },
  {
   "cell_type": "code",
   "execution_count": 65,
   "metadata": {},
   "outputs": [
    {
     "data": {
      "text/plain": [
       "item_id\n",
       "1    452\n",
       "2    131\n",
       "3     90\n",
       "4    209\n",
       "5     86\n",
       "dtype: int64"
      ]
     },
     "execution_count": 65,
     "metadata": {},
     "output_type": "execute_result"
    }
   ],
   "source": [
    "n = matrix.count(axis=0)\n",
    "n.head()"
   ]
  },
  {
   "cell_type": "markdown",
   "metadata": {},
   "source": [
    "#### 2. Средний рейтинг фильма (сумма рейтингов фильма / количество человек, оценивших фильм)"
   ]
  },
  {
   "cell_type": "code",
   "execution_count": 66,
   "metadata": {},
   "outputs": [
    {
     "data": {
      "text/plain": [
       "item_id\n",
       "1    3.878319\n",
       "2    3.206107\n",
       "3    3.033333\n",
       "4    3.550239\n",
       "5    3.302326\n",
       "dtype: float64"
      ]
     },
     "execution_count": 66,
     "metadata": {},
     "output_type": "execute_result"
    }
   ],
   "source": [
    "(matrix.sum()/matrix.count()).head()"
   ]
  },
  {
   "cell_type": "markdown",
   "metadata": {},
   "source": [
    "#### 3. Количество человек m, оценивших фильм положительно. Оценки 4 и выше считаются положительными."
   ]
  },
  {
   "cell_type": "code",
   "execution_count": 67,
   "metadata": {},
   "outputs": [
    {
     "data": {
      "text/plain": [
       "item_id\n",
       "1    321\n",
       "2     51\n",
       "3     34\n",
       "4    122\n",
       "5     39\n",
       "dtype: int64"
      ]
     },
     "execution_count": 67,
     "metadata": {},
     "output_type": "execute_result"
    }
   ],
   "source": [
    "m = matrix[matrix > 3].count()\n",
    "m.head()"
   ]
  },
  {
   "cell_type": "markdown",
   "metadata": {},
   "source": [
    "#### 4. Доля людей, оценивших фильм положительно (пункт 3 / пункт 1 или m / n)."
   ]
  },
  {
   "cell_type": "code",
   "execution_count": 68,
   "metadata": {},
   "outputs": [
    {
     "data": {
      "text/plain": [
       "item_id\n",
       "1    0.710177\n",
       "2    0.389313\n",
       "3    0.377778\n",
       "4    0.583732\n",
       "5    0.453488\n",
       "dtype: float64"
      ]
     },
     "execution_count": 68,
     "metadata": {},
     "output_type": "execute_result"
    }
   ],
   "source": [
    "p = m/n\n",
    "p.head()"
   ]
  },
  {
   "cell_type": "markdown",
   "metadata": {},
   "source": [
    "#### 5. Глобальное среднее по всему датасету. Сумма всех оценок по всем фильмам / Количество всех оценок по всем фильмам."
   ]
  },
  {
   "cell_type": "code",
   "execution_count": 57,
   "metadata": {},
   "outputs": [
    {
     "data": {
      "text/plain": [
       "3.52986"
      ]
     },
     "execution_count": 57,
     "metadata": {},
     "output_type": "execute_result"
    }
   ],
   "source": [
    "mu = matrix.sum().sum() / n.sum()\n",
    "mu"
   ]
  },
  {
   "cell_type": "markdown",
   "metadata": {},
   "source": [
    "#### 6. Оценку, поправленную на нехватку данных: Мы искусственно добавляем k глобальных средних ( \\mu из пункта 5) каждому фильму."
   ]
  },
  {
   "cell_type": "code",
   "execution_count": 69,
   "metadata": {},
   "outputs": [
    {
     "data": {
      "text/plain": [
       "item_id\n",
       "1    3.843612\n",
       "2    3.295541\n",
       "3    3.210664\n",
       "4    3.546305\n",
       "5    3.385978\n",
       "dtype: float64"
      ]
     },
     "execution_count": 69,
     "metadata": {},
     "output_type": "execute_result"
    }
   ],
   "source": [
    "k = 50\n",
    "((matrix.sum() + k*mu) / (matrix.count() + k)).head()"
   ]
  },
  {
   "cell_type": "markdown",
   "metadata": {},
   "source": [
    "#### 7. Нижнюю и верхнюю границы доверительного интервала оценки (Wilson score interval) из лекции с заданным уровнем доверия:\n",
    "![tex4](images/lab06s_eq4.svg)\n",
    "#### где  n — количество рейтингов (пункт 1), p - доля людей, оценивших фильм положительно (пункт 4)."
   ]
  },
  {
   "cell_type": "code",
   "execution_count": 87,
   "metadata": {},
   "outputs": [
    {
     "data": {
      "text/plain": [
       "(item_id\n",
       " 1    0.673905\n",
       " 2    0.322151\n",
       " 3    0.298436\n",
       " 4    0.526921\n",
       " 5    0.367945\n",
       " dtype: float64, item_id\n",
       " 1    0.743947\n",
       " 2    0.460956\n",
       " 3    0.464255\n",
       " 4    0.638403\n",
       " 5    0.541869\n",
       " dtype: float64)"
      ]
     },
     "execution_count": 87,
     "metadata": {},
     "output_type": "execute_result"
    }
   ],
   "source": [
    "z = 1.645\n",
    "upper = (p + z**2/(2*n) + z*(p*(1-p)/n + z**2/(4*n**2))**0.5)/(1+z**2/n)\n",
    "lower = (p + z**2/(2*n) - z*(p*(1-p)/n + z**2/(4*n**2))**0.5)/(1+z**2/n)\n",
    "lower[:5], upper[:5]"
   ]
  },
  {
   "cell_type": "markdown",
   "metadata": {},
   "source": [
    "### Рекомендовать топ-10 фильмов (если рейтинги совпадают, то сортировать по алфавиту названий фильмов от A до Z):\n",
    "\n",
    "#### 1. По откликам (пункт 1) — поле “top10_rates”. "
   ]
  },
  {
   "cell_type": "code",
   "execution_count": 78,
   "metadata": {},
   "outputs": [
    {
     "data": {
      "text/plain": [
       "item_id\n",
       "50     583\n",
       "258    509\n",
       "100    508\n",
       "181    507\n",
       "294    485\n",
       "286    481\n",
       "288    478\n",
       "1      452\n",
       "300    431\n",
       "121    429\n",
       "dtype: int64"
      ]
     },
     "execution_count": 78,
     "metadata": {},
     "output_type": "execute_result"
    }
   ],
   "source": [
    "top10_rates = n.nlargest(10)\n",
    "top10_rates"
   ]
  },
  {
   "cell_type": "code",
   "execution_count": 83,
   "metadata": {},
   "outputs": [
    {
     "data": {
      "text/plain": [
       "Int64Index([50, 258, 100, 181, 294, 286, 288, 1, 300, 121], dtype='int64', name='item_id')"
      ]
     },
     "execution_count": 83,
     "metadata": {},
     "output_type": "execute_result"
    }
   ],
   "source": [
    "# В поле “top10_rates” нужно указать id 10 фильмов, упорядоченных по убыванию числа количества человек, посмотревших фильм.\n",
    "top10_rates.index"
   ]
  },
  {
   "cell_type": "markdown",
   "metadata": {},
   "source": [
    "#### 2. По среднему рейтингу (пункт 2) — поле “top10_average”."
   ]
  },
  {
   "cell_type": "code",
   "execution_count": 129,
   "metadata": {},
   "outputs": [
    {
     "data": {
      "text/html": [
       "<div>\n",
       "<style scoped>\n",
       "    .dataframe tbody tr th:only-of-type {\n",
       "        vertical-align: middle;\n",
       "    }\n",
       "\n",
       "    .dataframe tbody tr th {\n",
       "        vertical-align: top;\n",
       "    }\n",
       "\n",
       "    .dataframe thead th {\n",
       "        text-align: right;\n",
       "    }\n",
       "</style>\n",
       "<table border=\"1\" class=\"dataframe\">\n",
       "  <thead>\n",
       "    <tr style=\"text-align: right;\">\n",
       "      <th></th>\n",
       "      <th>average</th>\n",
       "      <th>movie_title</th>\n",
       "    </tr>\n",
       "    <tr>\n",
       "      <th>item_id</th>\n",
       "      <th></th>\n",
       "      <th></th>\n",
       "    </tr>\n",
       "  </thead>\n",
       "  <tbody>\n",
       "    <tr>\n",
       "      <th>1536</th>\n",
       "      <td>5.0</td>\n",
       "      <td>Aiqing wansui (1994)</td>\n",
       "    </tr>\n",
       "    <tr>\n",
       "      <th>1653</th>\n",
       "      <td>5.0</td>\n",
       "      <td>Entertaining Angels: The Dorothy Day Story (1996)</td>\n",
       "    </tr>\n",
       "    <tr>\n",
       "      <th>814</th>\n",
       "      <td>5.0</td>\n",
       "      <td>Great Day in Harlem, A (1994)</td>\n",
       "    </tr>\n",
       "    <tr>\n",
       "      <th>1201</th>\n",
       "      <td>5.0</td>\n",
       "      <td>Marlene Dietrich: Shadow and Light (1996)</td>\n",
       "    </tr>\n",
       "    <tr>\n",
       "      <th>1189</th>\n",
       "      <td>5.0</td>\n",
       "      <td>Prefontaine (1997)</td>\n",
       "    </tr>\n",
       "    <tr>\n",
       "      <th>1467</th>\n",
       "      <td>5.0</td>\n",
       "      <td>Saint of Fort Washington, The (1993)</td>\n",
       "    </tr>\n",
       "    <tr>\n",
       "      <th>1500</th>\n",
       "      <td>5.0</td>\n",
       "      <td>Santa with Muscles (1996)</td>\n",
       "    </tr>\n",
       "    <tr>\n",
       "      <th>1599</th>\n",
       "      <td>5.0</td>\n",
       "      <td>Someone Else's America (1995)</td>\n",
       "    </tr>\n",
       "    <tr>\n",
       "      <th>1293</th>\n",
       "      <td>5.0</td>\n",
       "      <td>Star Kid (1997)</td>\n",
       "    </tr>\n",
       "    <tr>\n",
       "      <th>1122</th>\n",
       "      <td>5.0</td>\n",
       "      <td>They Made Me a Criminal (1939)</td>\n",
       "    </tr>\n",
       "  </tbody>\n",
       "</table>\n",
       "</div>"
      ],
      "text/plain": [
       "         average                                        movie_title\n",
       "item_id                                                            \n",
       "1536         5.0                               Aiqing wansui (1994)\n",
       "1653         5.0  Entertaining Angels: The Dorothy Day Story (1996)\n",
       "814          5.0                      Great Day in Harlem, A (1994)\n",
       "1201         5.0         Marlene Dietrich: Shadow and Light (1996) \n",
       "1189         5.0                                 Prefontaine (1997)\n",
       "1467         5.0               Saint of Fort Washington, The (1993)\n",
       "1500         5.0                          Santa with Muscles (1996)\n",
       "1599         5.0                      Someone Else's America (1995)\n",
       "1293         5.0                                    Star Kid (1997)\n",
       "1122         5.0                     They Made Me a Criminal (1939)"
      ]
     },
     "execution_count": 129,
     "metadata": {},
     "output_type": "execute_result"
    }
   ],
   "source": [
    "top10_average = (matrix.sum()/matrix.count()).nlargest(10)   #sort_values(ascending=False)[:11]\n",
    "top10_average = pd.DataFrame(top10_average, columns=['average']) \n",
    "top10_average = top10_average.join(df2).sort_values('movie_title')\n",
    "top10_average"
   ]
  },
  {
   "cell_type": "code",
   "execution_count": 130,
   "metadata": {},
   "outputs": [
    {
     "data": {
      "text/plain": [
       "Int64Index([1536, 1653, 814, 1201, 1189, 1467, 1500, 1599, 1293, 1122], dtype='int64', name='item_id')"
      ]
     },
     "execution_count": 130,
     "metadata": {},
     "output_type": "execute_result"
    }
   ],
   "source": [
    "# В поле “top10_average” нужно указать id 10 фильмов, упорядоченных по среднему рейтингу.\n",
    "top10_average.index"
   ]
  },
  {
   "cell_type": "markdown",
   "metadata": {},
   "source": [
    "#### 3. По среднему рейтингу с регуляризацией k (пункт 6) — поле “top10_rating”"
   ]
  },
  {
   "cell_type": "code",
   "execution_count": 92,
   "metadata": {},
   "outputs": [
    {
     "data": {
      "text/plain": [
       "item_id\n",
       "318    4.331876\n",
       "64     4.307787\n",
       "483    4.298611\n",
       "50     4.293038\n",
       "12     4.250767\n",
       "603    4.221981\n",
       "98     4.203393\n",
       "127    4.201929\n",
       "408    4.194401\n",
       "169    4.187458\n",
       "dtype: float64"
      ]
     },
     "execution_count": 92,
     "metadata": {},
     "output_type": "execute_result"
    }
   ],
   "source": [
    "top10_rating = ((matrix.sum() + k*mu) / (matrix.count() + k)).nlargest(10)\n",
    "top10_rating"
   ]
  },
  {
   "cell_type": "code",
   "execution_count": 86,
   "metadata": {},
   "outputs": [
    {
     "data": {
      "text/plain": [
       "Int64Index([318, 64, 483, 50, 12, 603, 98, 127, 408, 169], dtype='int64', name='item_id')"
      ]
     },
     "execution_count": 86,
     "metadata": {},
     "output_type": "execute_result"
    }
   ],
   "source": [
    "# В поле “top10_rating” нужно указать id 10 фильмов, упорядоченных по среднему рейтингу с регуляризацией.\n",
    "top10_rating.index"
   ]
  },
  {
   "cell_type": "markdown",
   "metadata": {},
   "source": [
    "#### 4. По нижней границе доверительного интервала Wilson (пункт 7) — поле “top10_lower”."
   ]
  },
  {
   "cell_type": "code",
   "execution_count": 90,
   "metadata": {},
   "outputs": [
    {
     "data": {
      "text/plain": [
       "item_id\n",
       "64     0.867956\n",
       "479    0.862714\n",
       "318    0.855785\n",
       "98     0.852515\n",
       "483    0.851348\n",
       "603    0.843865\n",
       "427    0.840588\n",
       "114    0.836042\n",
       "408    0.835188\n",
       "50     0.833999\n",
       "dtype: float64"
      ]
     },
     "execution_count": 90,
     "metadata": {},
     "output_type": "execute_result"
    }
   ],
   "source": [
    "top10_lower = lower.nlargest(10)\n",
    "top10_lower"
   ]
  },
  {
   "cell_type": "code",
   "execution_count": 91,
   "metadata": {},
   "outputs": [
    {
     "data": {
      "text/plain": [
       "Int64Index([64, 479, 318, 98, 483, 603, 427, 114, 408, 50], dtype='int64', name='item_id')"
      ]
     },
     "execution_count": 91,
     "metadata": {},
     "output_type": "execute_result"
    }
   ],
   "source": [
    "# В поле “top10_lower” нужно указать id 10 фильмов, упорядоченных по нижней границе доверительного интервала.\n",
    "top10_lower.index"
   ]
  },
  {
   "cell_type": "markdown",
   "metadata": {},
   "source": [
    "### Save results to a json file"
   ]
  },
  {
   "cell_type": "code",
   "execution_count": 134,
   "metadata": {},
   "outputs": [
    {
     "data": {
      "text/plain": [
       "{'top10_rates': [50, 258, 100, 181, 294, 286, 288, 1, 300, 121],\n",
       " 'top10_average': [1536, 1653, 814, 1201, 1189, 1467, 1500, 1599, 1293, 1122],\n",
       " 'top10_rating': [318, 64, 483, 50, 12, 603, 98, 127, 408, 169],\n",
       " 'top10_lower': [64, 479, 318, 98, 483, 603, 427, 114, 408, 50]}"
      ]
     },
     "execution_count": 134,
     "metadata": {},
     "output_type": "execute_result"
    }
   ],
   "source": [
    "# Make a dictionary for results in the required format\n",
    "ds = {\n",
    "\"top10_rates\": [item for item in top10_rates.index],\n",
    "\"top10_average\": [item for item in top10_average.index],\n",
    "\"top10_rating\": [item for item in top10_rating.index],\n",
    "\"top10_lower\": [item for item in top10_lower.index]\n",
    "}\n",
    "ds"
   ]
  },
  {
   "cell_type": "code",
   "execution_count": 135,
   "metadata": {},
   "outputs": [
    {
     "data": {
      "text/plain": [
       "'{\"top10_rates\": [50, 258, 100, 181, 294, 286, 288, 1, 300, 121], \"top10_average\": [1536, 1653, 814, 1201, 1189, 1467, 1500, 1599, 1293, 1122], \"top10_rating\": [318, 64, 483, 50, 12, 603, 98, 127, 408, 169], \"top10_lower\": [64, 479, 318, 98, 483, 603, 427, 114, 408, 50]}'"
      ]
     },
     "execution_count": 135,
     "metadata": {},
     "output_type": "execute_result"
    }
   ],
   "source": [
    "# Preview json string\n",
    "json.dumps(ds)"
   ]
  },
  {
   "cell_type": "code",
   "execution_count": 136,
   "metadata": {},
   "outputs": [],
   "source": [
    "# Save the dictionary to a json file\n",
    "with open('lab06s.json', 'w') as f:\n",
    "    json.dump(ds, f)"
   ]
  },
  {
   "cell_type": "code",
   "execution_count": null,
   "metadata": {},
   "outputs": [],
   "source": []
  }
 ],
 "metadata": {
  "kernelspec": {
   "display_name": "Python 3",
   "language": "python",
   "name": "python3"
  },
  "language_info": {
   "codemirror_mode": {
    "name": "ipython",
    "version": 3
   },
   "file_extension": ".py",
   "mimetype": "text/x-python",
   "name": "python",
   "nbconvert_exporter": "python",
   "pygments_lexer": "ipython3",
   "version": "3.6.5"
  }
 },
 "nbformat": 4,
 "nbformat_minor": 2
}
